{
 "cells": [
  {
   "cell_type": "code",
   "execution_count": 1,
   "metadata": {},
   "outputs": [
    {
     "name": "stdout",
     "output_type": "stream",
     "text": [
      "levels:3\n",
      "winsize:5\n",
      "self.calculation_interrupt:FalseThis is __main__ module, so multiple processing is allowed\n",
      "\n",
      "stopEv.is_set():False\n",
      "This is __main__ module, so multiple processing is allowed\n",
      "This is __main__ module, so multiple processing is allowed\n"
     ]
    },
    {
     "name": "stderr",
     "output_type": "stream",
     "text": [
      "[2023-06-27 23:40:56,178] (INFO) Verbosity level = 1\n",
      "[2023-06-27 23:40:56,178] (INFO) reading \"tempdata.mrc\"\n",
      "[2023-06-27 23:40:56,185] (INFO) read \"tempdata.mrc\" in 0.0064098000002559274 seconds\n",
      "[2023-06-27 23:40:56,185] (INFO) Number of processing units: 8\n",
      "[2023-06-27 23:40:56,185] (INFO) shape of the input volume (Z, Y, X) = (100, 256, 256)\n",
      "[2023-06-27 23:40:56,185] (INFO) type of the volume = uint16\n",
      "[2023-06-27 23:40:56,185] (INFO) vol requires 12.5 MB\n",
      "[2023-06-27 23:40:56,186] (INFO) data max = 255\n",
      "[2023-06-27 23:40:56,186] (INFO) data min = 0\n",
      "[2023-06-27 23:40:56,191] (INFO) Input vol average = 163.69832733154297\n",
      "[2023-06-27 23:40:56,191] (INFO) sigma=(2.0, 2.0, 2.0)\n",
      "[2023-06-27 23:40:56,191] (INFO) Computing gaussian kernel with sigma=2.0\n",
      "[2023-06-27 23:40:56,192] (INFO) Computing gaussian kernel with sigma=2.0\n",
      "[2023-06-27 23:40:56,192] (INFO) Computing gaussian kernel with sigma=2.0\n",
      "[2023-06-27 23:40:56,193] (INFO) length of each filter (Z, Y, X) = [17, 17, 17]\n",
      "[2023-06-27 23:40:56,203] (INFO) Filtering ...\n",
      "[2023-06-27 23:40:56,203] (INFO) Filtering along Z\n",
      "[2023-06-27 23:40:56,204] (INFO) Filtering along axis 0 with l=3, w=5, and kernel length=17\n",
      "[2023-06-27 23:40:56,204] (INFO) 0/612 completed\n",
      "[2023-06-27 23:40:57,209] (INFO) 0/612 completed\n",
      "[2023-06-27 23:40:58,226] (INFO) 0/612 completed\n",
      "[2023-06-27 23:40:59,229] (INFO) 0/612 completed\n",
      "[2023-06-27 23:41:00,236] (INFO) 0/612 completed\n",
      "[2023-06-27 23:41:01,260] (INFO) 0/612 completed\n",
      "[2023-06-27 23:41:02,266] (INFO) 0/612 completed\n",
      "[2023-06-27 23:41:03,274] (INFO) 0/612 completed\n",
      "[2023-06-27 23:41:04,288] (INFO) 0/612 completed\n",
      "[2023-06-27 23:41:05,297] (INFO) 0/612 completed\n",
      "[2023-06-27 23:41:05,659] (INFO) Filtering along Y\n",
      "[2023-06-27 23:41:05,659] (INFO) Filtering along axis 1 with l=3, w=5, and kernel length=17\n",
      "[2023-06-27 23:41:06,302] (INFO) 0/612 completed\n",
      "[2023-06-27 23:41:07,308] (INFO) 0/612 completed\n",
      "[2023-06-27 23:41:08,327] (INFO) 0/612 completed\n",
      "[2023-06-27 23:41:09,349] (INFO) 0/612 completed\n",
      "[2023-06-27 23:41:10,364] (INFO) 0/612 completed\n",
      "[2023-06-27 23:41:11,399] (INFO) 0/612 completed\n",
      "[2023-06-27 23:41:12,413] (INFO) 0/612 completed\n",
      "[2023-06-27 23:41:13,425] (INFO) 0/612 completed\n",
      "[2023-06-27 23:41:14,029] (INFO) Filtering along X\n",
      "[2023-06-27 23:41:14,029] (INFO) Filtering along axis 2 with l=3, w=5, and kernel length=17\n",
      "[2023-06-27 23:41:14,436] (INFO) 0/612 completed\n",
      "[2023-06-27 23:41:15,452] (INFO) 0/612 completed\n",
      "[2023-06-27 23:41:16,461] (INFO) 0/612 completed\n",
      "[2023-06-27 23:41:17,481] (INFO) 0/612 completed\n",
      "[2023-06-27 23:41:18,484] (INFO) 0/612 completed\n",
      "[2023-06-27 23:41:19,492] (INFO) 0/612 completed\n",
      "[2023-06-27 23:41:20,506] (INFO) 0/612 completed\n",
      "[2023-06-27 23:41:21,528] (INFO) 0/612 completed\n",
      "[2023-06-27 23:41:22,538] (INFO) 0/612 completed\n",
      "[2023-06-27 23:41:23,015] (INFO) Volume filtered in 26.811760600001435 seconds\n",
      "[2023-06-27 23:41:23,019] (INFO) Closing and unlinking shared memory\n",
      "[2023-06-27 23:41:23,024] (INFO) result.mrc type = uint16\n",
      "[2023-06-27 23:41:23,025] (INFO) result.mrc max = 234\n",
      "[2023-06-27 23:41:23,026] (INFO) result.mrc min = 0\n",
      "[2023-06-27 23:41:23,035] (INFO) result.mrc average = 155.27053451538086\n",
      "[2023-06-27 23:41:23,035] (INFO) result.mrc type = uint16\n",
      "[2023-06-27 23:41:23,036] (INFO) result.mrc max = 234\n",
      "[2023-06-27 23:41:23,037] (INFO) result.mrc min = 0\n",
      "[2023-06-27 23:41:23,046] (INFO) result.mrc average = 155.27053451538086\n",
      "[2023-06-27 23:41:23,046] (INFO) writting \"result.mrc\"\n",
      "[2023-06-27 23:41:23,100] (INFO) written \"result.mrc\" in 0.05368929999531247 seconds\n"
     ]
    }
   ],
   "source": [
    "!python ../src/flowdenoisingRFI.py -i \"tempdata.mrc\" -o \"result.mrc\" -v 1"
   ]
  },
  {
   "cell_type": "code",
   "execution_count": null,
   "metadata": {},
   "outputs": [],
   "source": []
  }
 ],
 "metadata": {
  "kernelspec": {
   "display_name": "dev",
   "language": "python",
   "name": "python3"
  },
  "language_info": {
   "codemirror_mode": {
    "name": "ipython",
    "version": 3
   },
   "file_extension": ".py",
   "mimetype": "text/x-python",
   "name": "python",
   "nbconvert_exporter": "python",
   "pygments_lexer": "ipython3",
   "version": "3.10.11"
  },
  "orig_nbformat": 4
 },
 "nbformat": 4,
 "nbformat_minor": 2
}
