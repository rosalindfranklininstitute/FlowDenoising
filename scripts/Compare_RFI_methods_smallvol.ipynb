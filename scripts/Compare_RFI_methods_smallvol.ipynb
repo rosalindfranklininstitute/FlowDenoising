{
 "cells": [
  {
   "attachments": {},
   "cell_type": "markdown",
   "metadata": {},
   "source": [
    "Compare 2 different methods of doing calculation"
   ]
  },
  {
   "cell_type": "code",
   "execution_count": 1,
   "metadata": {},
   "outputs": [],
   "source": [
    "import numpy as np\n",
    "import mrcfile\n",
    "import sys\n",
    "sys.path.append(\"..\")\n",
    "import logging\n",
    "logging.basicConfig(level=logging.INFO)\n",
    "\n",
    "import src.flowdenoisingRFI_threaded as fdnrfi_th"
   ]
  },
  {
   "cell_type": "code",
   "execution_count": 2,
   "metadata": {},
   "outputs": [
    {
     "data": {
      "text/plain": [
       "'Is great'"
      ]
     },
     "execution_count": 2,
     "metadata": {},
     "output_type": "execute_result"
    }
   ],
   "source": [
    "fdnrfi_th.FDN_LIZZIE"
   ]
  },
  {
   "cell_type": "code",
   "execution_count": 3,
   "metadata": {},
   "outputs": [],
   "source": [
    "with mrcfile.open(r\"tempdata2.mrc\", mode=\"r\") as mrcfile0:\n",
    "    data=mrcfile0.data"
   ]
  },
  {
   "cell_type": "code",
   "execution_count": 4,
   "metadata": {},
   "outputs": [
    {
     "name": "stdout",
     "output_type": "stream",
     "text": [
      "(100, 256, 256)\n",
      "uint16\n"
     ]
    }
   ],
   "source": [
    "print(data.shape)\n",
    "print(data.dtype)"
   ]
  },
  {
   "attachments": {},
   "cell_type": "markdown",
   "metadata": {},
   "source": [
    "Create denoiser class instance"
   ]
  },
  {
   "cell_type": "code",
   "execution_count": 5,
   "metadata": {},
   "outputs": [
    {
     "name": "stderr",
     "output_type": "stream",
     "text": [
      "INFO:root:Number of processing units: 8\n"
     ]
    },
    {
     "name": "stdout",
     "output_type": "stream",
     "text": [
      "levels:3\n",
      "winsize:5\n"
     ]
    }
   ],
   "source": [
    "filter0 = fdnrfi_th.cFlowDenoiser()"
   ]
  },
  {
   "cell_type": "code",
   "execution_count": 6,
   "metadata": {},
   "outputs": [],
   "source": [
    "filter0.max_number_of_processes=4"
   ]
  },
  {
   "attachments": {},
   "cell_type": "markdown",
   "metadata": {},
   "source": [
    "process using method 0"
   ]
  },
  {
   "cell_type": "code",
   "execution_count": 7,
   "metadata": {},
   "outputs": [
    {
     "name": "stderr",
     "output_type": "stream",
     "text": [
      "INFO:root:shape of the input volume (Z, Y, X) = (100, 256, 256)\n",
      "INFO:root:type of the volume = uint16\n",
      "INFO:root:vol requires 12.5 MB\n",
      "INFO:root:data max = 255\n",
      "INFO:root:data min = 0\n",
      "INFO:root:Input vol average = 164.55193878173827\n",
      "INFO:root:sigma=(2.0, 2.0, 2.0)\n",
      "INFO:root:Computing gaussian kernel with sigma=2.0\n",
      "INFO:root:Computing gaussian kernel with sigma=2.0\n",
      "INFO:root:Computing gaussian kernel with sigma=2.0\n",
      "INFO:root:length of each filter (Z, Y, X) = [17, 17, 17]\n",
      "INFO:root:Filtering ...\n",
      "INFO:root:0/612 completed\n",
      "INFO:root:Filtering along Z\n",
      "INFO:root:Filtering along axis 0 with l=3, w=5, and kernel length=17\n",
      "INFO:root:axis_dim:100\n",
      "INFO:root:self.max_number_of_processes:4\n",
      "INFO:root:n_remain_slices:0\n",
      "INFO:root:chunk_indexes:[0, 25, 50, 75]\n",
      "INFO:root:chunk_sizes:[25, 25, 25, 25]\n",
      "INFO:root:axis_i_s:[0, 0, 0, 0]\n",
      "INFO:root:Starting threads\n",
      "INFO:root:filter_along_axis_chunk_worker() with chunk_start_idx:0, chunk_size:25, axis_i:0\n",
      "INFO:root:filter_along_axis_chunk_worker() with chunk_start_idx:25, chunk_size:25, axis_i:0\n",
      "INFO:root:filter_along_axis_chunk_worker() with chunk_start_idx:50, chunk_size:25, axis_i:0\n",
      "INFO:root:filter_along_axis_chunk_worker() with chunk_start_idx:75, chunk_size:25, axis_i:0\n"
     ]
    },
    {
     "name": "stdout",
     "output_type": "stream",
     "text": [
      "self.calculation_interrupt:False\n",
      "stopEv.is_set():False\n"
     ]
    },
    {
     "name": "stderr",
     "output_type": "stream",
     "text": [
      "INFO:root:11/612 completed\n",
      "INFO:root:24/612 completed\n",
      "INFO:root:36/612 completed\n",
      "INFO:root:48/612 completed\n",
      "INFO:root:64/612 completed\n",
      "INFO:root:76/612 completed\n",
      "INFO:root:88/612 completed\n",
      "INFO:root:Filtering along Y\n",
      "INFO:root:Filtering along axis 1 with l=3, w=5, and kernel length=17\n",
      "INFO:root:axis_dim:256\n",
      "INFO:root:self.max_number_of_processes:4\n",
      "INFO:root:n_remain_slices:0\n",
      "INFO:root:chunk_indexes:[0, 64, 128, 192]\n",
      "INFO:root:chunk_sizes:[64, 64, 64, 64]\n",
      "INFO:root:axis_i_s:[1, 1, 1, 1]\n",
      "INFO:root:Starting threads\n",
      "INFO:root:filter_along_axis_chunk_worker() with chunk_start_idx:0, chunk_size:64, axis_i:1\n",
      "INFO:root:filter_along_axis_chunk_worker() with chunk_start_idx:64, chunk_size:64, axis_i:1\n",
      "INFO:root:filter_along_axis_chunk_worker() with chunk_start_idx:128, chunk_size:64, axis_i:1\n",
      "INFO:root:filter_along_axis_chunk_worker() with chunk_start_idx:192, chunk_size:64, axis_i:1\n",
      "INFO:root:100/612 completed\n",
      "INFO:root:136/612 completed\n",
      "INFO:root:172/612 completed\n",
      "INFO:root:212/612 completed\n",
      "INFO:root:250/612 completed\n",
      "INFO:root:290/612 completed\n",
      "INFO:root:326/612 completed\n",
      "INFO:root:Filtering along X\n",
      "INFO:root:Filtering along axis 2 with l=3, w=5, and kernel length=17\n",
      "INFO:root:axis_dim:256\n",
      "INFO:root:self.max_number_of_processes:4\n",
      "INFO:root:n_remain_slices:0\n",
      "INFO:root:chunk_indexes:[0, 64, 128, 192]\n",
      "INFO:root:chunk_sizes:[64, 64, 64, 64]\n",
      "INFO:root:axis_i_s:[2, 2, 2, 2]\n",
      "INFO:root:Starting threads\n",
      "INFO:root:filter_along_axis_chunk_worker() with chunk_start_idx:0, chunk_size:64, axis_i:2\n",
      "INFO:root:filter_along_axis_chunk_worker() with chunk_start_idx:64, chunk_size:64, axis_i:2\n",
      "INFO:root:filter_along_axis_chunk_worker() with chunk_start_idx:128, chunk_size:64, axis_i:2\n",
      "INFO:root:filter_along_axis_chunk_worker() with chunk_start_idx:192, chunk_size:64, axis_i:2\n",
      "INFO:root:356/612 completed\n",
      "INFO:root:384/612 completed\n",
      "INFO:root:416/612 completed\n",
      "INFO:root:444/612 completed\n",
      "INFO:root:476/612 completed\n",
      "INFO:root:508/612 completed\n",
      "INFO:root:541/612 completed\n",
      "INFO:root:574/612 completed\n",
      "INFO:root:606/612 completed\n",
      "INFO:root:Volume filtered in 23.40065960001084 seconds\n"
     ]
    }
   ],
   "source": [
    "filter0.slice_filter_method=0\n",
    "res0 = filter0.runOpticalFlow(data)"
   ]
  },
  {
   "attachments": {},
   "cell_type": "markdown",
   "metadata": {},
   "source": [
    "process using method 1"
   ]
  },
  {
   "cell_type": "code",
   "execution_count": 8,
   "metadata": {},
   "outputs": [
    {
     "name": "stderr",
     "output_type": "stream",
     "text": [
      "INFO:root:shape of the input volume (Z, Y, X) = (100, 256, 256)\n",
      "INFO:root:type of the volume = uint16\n",
      "INFO:root:vol requires 12.5 MB\n",
      "INFO:root:data max = 255\n",
      "INFO:root:data min = 0\n",
      "INFO:root:Input vol average = 164.55193878173827\n",
      "INFO:root:sigma=(2.0, 2.0, 2.0)\n",
      "INFO:root:Computing gaussian kernel with sigma=2.0\n",
      "INFO:root:Computing gaussian kernel with sigma=2.0\n",
      "INFO:root:Computing gaussian kernel with sigma=2.0\n",
      "INFO:root:length of each filter (Z, Y, X) = [17, 17, 17]\n",
      "INFO:root:Filtering ...\n",
      "INFO:root:Filtering along Z\n",
      "INFO:root:0/612 completed\n",
      "INFO:root:Filtering along axis 0 with l=3, w=5, and kernel length=17\n",
      "INFO:root:axis_dim:100\n",
      "INFO:root:self.max_number_of_processes:4\n",
      "INFO:root:n_remain_slices:0\n",
      "INFO:root:chunk_indexes:[0, 25, 50, 75]\n",
      "INFO:root:chunk_sizes:[25, 25, 25, 25]\n",
      "INFO:root:axis_i_s:[0, 0, 0, 0]\n",
      "INFO:root:Starting threads\n",
      "INFO:root:filter_along_axis_chunk_worker() with chunk_start_idx:0, chunk_size:25, axis_i:0\n",
      "INFO:root:filter_along_axis_chunk_worker() with chunk_start_idx:25, chunk_size:25, axis_i:0\n",
      "INFO:root:filter_along_axis_chunk_worker() with chunk_start_idx:50, chunk_size:25, axis_i:0\n",
      "INFO:root:filter_along_axis_chunk_worker() with chunk_start_idx:75, chunk_size:25, axis_i:0\n"
     ]
    },
    {
     "name": "stdout",
     "output_type": "stream",
     "text": [
      "self.calculation_interrupt:False\n",
      "stopEv.is_set():False\n"
     ]
    },
    {
     "name": "stderr",
     "output_type": "stream",
     "text": [
      "INFO:root:8/612 completed\n",
      "INFO:root:12/612 completed\n",
      "INFO:root:20/612 completed\n",
      "INFO:root:24/612 completed\n",
      "INFO:root:32/612 completed\n",
      "INFO:root:36/612 completed\n",
      "INFO:root:44/612 completed\n",
      "INFO:root:48/612 completed\n",
      "INFO:root:56/612 completed\n",
      "INFO:root:60/612 completed\n",
      "INFO:root:72/612 completed\n",
      "INFO:root:73/612 completed\n",
      "INFO:root:84/612 completed\n",
      "INFO:root:88/612 completed\n",
      "INFO:root:96/612 completed\n",
      "INFO:root:Filtering along Y\n",
      "INFO:root:Filtering along axis 1 with l=3, w=5, and kernel length=17\n",
      "INFO:root:axis_dim:256\n",
      "INFO:root:self.max_number_of_processes:4\n",
      "INFO:root:n_remain_slices:0\n",
      "INFO:root:chunk_indexes:[0, 64, 128, 192]\n",
      "INFO:root:chunk_sizes:[64, 64, 64, 64]\n",
      "INFO:root:axis_i_s:[1, 1, 1, 1]\n",
      "INFO:root:Starting threads\n",
      "INFO:root:filter_along_axis_chunk_worker() with chunk_start_idx:0, chunk_size:64, axis_i:1\n",
      "INFO:root:filter_along_axis_chunk_worker() with chunk_start_idx:64, chunk_size:64, axis_i:1\n",
      "INFO:root:filter_along_axis_chunk_worker() with chunk_start_idx:128, chunk_size:64, axis_i:1\n",
      "INFO:root:filter_along_axis_chunk_worker() with chunk_start_idx:192, chunk_size:64, axis_i:1\n",
      "INFO:root:104/612 completed\n",
      "INFO:root:132/612 completed\n",
      "INFO:root:144/612 completed\n",
      "INFO:root:171/612 completed\n",
      "INFO:root:181/612 completed\n",
      "INFO:root:208/612 completed\n",
      "INFO:root:218/612 completed\n",
      "INFO:root:248/612 completed\n",
      "INFO:root:260/612 completed\n",
      "INFO:root:292/612 completed\n",
      "INFO:root:304/612 completed\n",
      "INFO:root:335/612 completed\n",
      "INFO:root:347/612 completed\n",
      "INFO:root:Filtering along X\n",
      "INFO:root:Filtering along axis 2 with l=3, w=5, and kernel length=17\n",
      "INFO:root:axis_dim:256\n",
      "INFO:root:self.max_number_of_processes:4\n",
      "INFO:root:n_remain_slices:0\n",
      "INFO:root:chunk_indexes:[0, 64, 128, 192]\n",
      "INFO:root:chunk_sizes:[64, 64, 64, 64]\n",
      "INFO:root:axis_i_s:[2, 2, 2, 2]\n",
      "INFO:root:Starting threads\n",
      "INFO:root:filter_along_axis_chunk_worker() with chunk_start_idx:0, chunk_size:64, axis_i:2\n",
      "INFO:root:filter_along_axis_chunk_worker() with chunk_start_idx:64, chunk_size:64, axis_i:2\n",
      "INFO:root:filter_along_axis_chunk_worker() with chunk_start_idx:128, chunk_size:64, axis_i:2\n",
      "INFO:root:filter_along_axis_chunk_worker() with chunk_start_idx:192, chunk_size:64, axis_i:2\n",
      "INFO:root:372/612 completed\n",
      "INFO:root:380/612 completed\n",
      "INFO:root:407/612 completed\n",
      "INFO:root:416/612 completed\n",
      "INFO:root:442/612 completed\n",
      "INFO:root:452/612 completed\n",
      "INFO:root:479/612 completed\n",
      "INFO:root:488/612 completed\n",
      "INFO:root:515/612 completed\n",
      "INFO:root:526/612 completed\n",
      "INFO:root:554/612 completed\n",
      "INFO:root:562/612 completed\n",
      "INFO:root:590/612 completed\n",
      "INFO:root:598/612 completed\n",
      "INFO:root:Volume filtered in 21.59502780000912 seconds\n"
     ]
    },
    {
     "name": "stderr",
     "output_type": "stream",
     "text": [
      "INFO:root:feedback_periodic thread stopped.\n",
      "INFO:root:feedback_periodic thread stopped.\n"
     ]
    }
   ],
   "source": [
    "filter0.slice_filter_method=1\n",
    "res1 = filter0.runOpticalFlow(data)"
   ]
  },
  {
   "cell_type": "code",
   "execution_count": 17,
   "metadata": {},
   "outputs": [
    {
     "name": "stdout",
     "output_type": "stream",
     "text": [
      "uint16\n",
      "uint16\n"
     ]
    }
   ],
   "source": [
    "print(res0.dtype)\n",
    "print(res1.dtype)"
   ]
  },
  {
   "cell_type": "code",
   "execution_count": null,
   "metadata": {},
   "outputs": [],
   "source": []
  },
  {
   "attachments": {},
   "cell_type": "markdown",
   "metadata": {},
   "source": [
    "Compare results"
   ]
  },
  {
   "cell_type": "code",
   "execution_count": 9,
   "metadata": {},
   "outputs": [
    {
     "data": {
      "text/plain": [
       "True"
      ]
     },
     "execution_count": 9,
     "metadata": {},
     "output_type": "execute_result"
    }
   ],
   "source": [
    "np.array_equal(res0, res1)"
   ]
  },
  {
   "attachments": {},
   "cell_type": "markdown",
   "metadata": {},
   "source": [
    "View in napari"
   ]
  },
  {
   "cell_type": "code",
   "execution_count": 10,
   "metadata": {},
   "outputs": [
    {
     "name": "stderr",
     "output_type": "stream",
     "text": [
      "INFO:bfio.init:VERSION = 2.3.0\n",
      "\n",
      "INFO:bfio.init:The bioformats_package.jar is not present.Can only use Python backend for reading/writing images.\n",
      "INFO:xmlschema:Resource 'XMLSchema.xsd' is already loaded\n"
     ]
    }
   ],
   "source": [
    "import napari\n",
    "NV=napari.Viewer()"
   ]
  },
  {
   "cell_type": "code",
   "execution_count": null,
   "metadata": {},
   "outputs": [
    {
     "data": {
      "text/plain": [
       "<Image layer 'res1' at 0x19b37bcc1c0>"
      ]
     },
     "execution_count": 12,
     "metadata": {},
     "output_type": "execute_result"
    },
    {
     "name": "stderr",
     "output_type": "stream",
     "text": [
      "INFO:jgo:First time start-up may be slow. Downloaded dependencies will be cached for shorter start-up times in subsequent executions.\n",
      "INFO:bfio.bfio.BioReader:mvn not found on path c:\\Users\\Luis-work\\miniconda3\\envs\\dev\\lib\\site-packages\\PyQt5\\Qt5\\bin;C:\\Users\\Luis-work\\miniconda3\\envs\\dev\\Lib\\site-packages\\cv2\\../../x64/vc14/bin;c:\\Users\\Luis-work\\miniconda3\\envs\\dev;C:\\Users\\Luis-work\\miniconda3\\envs\\dev;C:\\Users\\Luis-work\\miniconda3\\envs\\dev\\Library\\mingw-w64\\bin;C:\\Users\\Luis-work\\miniconda3\\envs\\dev\\Library\\usr\\bin;C:\\Users\\Luis-work\\miniconda3\\envs\\dev\\Library\\bin;C:\\Users\\Luis-work\\miniconda3\\envs\\dev\\Scripts;C:\\Users\\Luis-work\\miniconda3\\envs\\dev\\bin;C:\\Users\\Luis-work\\miniconda3\\condabin;C:\\Program Files (x86)\\Common Files\\Oracle\\Java\\javapath;C:\\Program Files\\NVIDIA GPU Computing Toolkit\\CUDA\\v11.8\\bin;C:\\Program Files\\NVIDIA GPU Computing Toolkit\\CUDA\\v11.8\\libnvvp;.;C:\\Windows\\system32;C:\\Windows;C:\\Windows\\System32\\Wbem;C:\\Windows\\System32\\WindowsPowerShell\\v1.0;C:\\Windows\\System32\\OpenSSH;C:\\WINDOWS\\system32;C:\\WINDOWS;C:\\WINDOWS\\System32\\Wbem;C:\\WINDOWS\\System32\\WindowsPowerShell\\v1.0;C:\\WINDOWS\\System32\\OpenSSH;C:\\Program Files\\dotnet;C:\\Users\\Luis-work\\AppData\\Local\\Microsoft\\WindowsApps;C:\\Users\\Luis-work\\AppData\\Local\\Programs\\Microsoft VS Code\\bin;C:\\Users\\Luis-work\\AppData\\Local\\GitHubDesktop\\bin;C:\\Users\\Luis-work\\AppData\\Local\\Programs\\Git\\cmd;C:\\Users\\Luis-work\\Downloads\\ffmpeg\\bin;C:\\Users\\Luis-work\\AppData\\Roaming\\Warp\n",
      "INFO:jgo:First time start-up may be slow. Downloaded dependencies will be cached for shorter start-up times in subsequent executions.\n",
      "INFO:jgo:First time start-up may be slow. Downloaded dependencies will be cached for shorter start-up times in subsequent executions.\n",
      "WARNING:napari_aicsimageio.core:AICSImageIO: Unsupported file format.\n",
      "INFO:jgo:First time start-up may be slow. Downloaded dependencies will be cached for shorter start-up times in subsequent executions.\n",
      "INFO:bfio.bfio.BioReader:mvn not found on path c:\\Users\\Luis-work\\miniconda3\\envs\\dev\\lib\\site-packages\\PyQt5\\Qt5\\bin;C:\\Users\\Luis-work\\miniconda3\\envs\\dev\\Lib\\site-packages\\cv2\\../../x64/vc14/bin;c:\\Users\\Luis-work\\miniconda3\\envs\\dev;C:\\Users\\Luis-work\\miniconda3\\envs\\dev;C:\\Users\\Luis-work\\miniconda3\\envs\\dev\\Library\\mingw-w64\\bin;C:\\Users\\Luis-work\\miniconda3\\envs\\dev\\Library\\usr\\bin;C:\\Users\\Luis-work\\miniconda3\\envs\\dev\\Library\\bin;C:\\Users\\Luis-work\\miniconda3\\envs\\dev\\Scripts;C:\\Users\\Luis-work\\miniconda3\\envs\\dev\\bin;C:\\Users\\Luis-work\\miniconda3\\condabin;C:\\Program Files (x86)\\Common Files\\Oracle\\Java\\javapath;C:\\Program Files\\NVIDIA GPU Computing Toolkit\\CUDA\\v11.8\\bin;C:\\Program Files\\NVIDIA GPU Computing Toolkit\\CUDA\\v11.8\\libnvvp;.;C:\\Windows\\system32;C:\\Windows;C:\\Windows\\System32\\Wbem;C:\\Windows\\System32\\WindowsPowerShell\\v1.0;C:\\Windows\\System32\\OpenSSH;C:\\WINDOWS\\system32;C:\\WINDOWS;C:\\WINDOWS\\System32\\Wbem;C:\\WINDOWS\\System32\\WindowsPowerShell\\v1.0;C:\\WINDOWS\\System32\\OpenSSH;C:\\Program Files\\dotnet;C:\\Users\\Luis-work\\AppData\\Local\\Microsoft\\WindowsApps;C:\\Users\\Luis-work\\AppData\\Local\\Programs\\Microsoft VS Code\\bin;C:\\Users\\Luis-work\\AppData\\Local\\GitHubDesktop\\bin;C:\\Users\\Luis-work\\AppData\\Local\\Programs\\Git\\cmd;C:\\Users\\Luis-work\\Downloads\\ffmpeg\\bin;C:\\Users\\Luis-work\\AppData\\Roaming\\Warp\n",
      "INFO:jgo:First time start-up may be slow. Downloaded dependencies will be cached for shorter start-up times in subsequent executions.\n",
      "INFO:bfio.bfio.BioReader:mvn not found on path c:\\Users\\Luis-work\\miniconda3\\envs\\dev\\lib\\site-packages\\PyQt5\\Qt5\\bin;C:\\Users\\Luis-work\\miniconda3\\envs\\dev\\Lib\\site-packages\\cv2\\../../x64/vc14/bin;c:\\Users\\Luis-work\\miniconda3\\envs\\dev;C:\\Users\\Luis-work\\miniconda3\\envs\\dev;C:\\Users\\Luis-work\\miniconda3\\envs\\dev\\Library\\mingw-w64\\bin;C:\\Users\\Luis-work\\miniconda3\\envs\\dev\\Library\\usr\\bin;C:\\Users\\Luis-work\\miniconda3\\envs\\dev\\Library\\bin;C:\\Users\\Luis-work\\miniconda3\\envs\\dev\\Scripts;C:\\Users\\Luis-work\\miniconda3\\envs\\dev\\bin;C:\\Users\\Luis-work\\miniconda3\\condabin;C:\\Program Files (x86)\\Common Files\\Oracle\\Java\\javapath;C:\\Program Files\\NVIDIA GPU Computing Toolkit\\CUDA\\v11.8\\bin;C:\\Program Files\\NVIDIA GPU Computing Toolkit\\CUDA\\v11.8\\libnvvp;.;C:\\Windows\\system32;C:\\Windows;C:\\Windows\\System32\\Wbem;C:\\Windows\\System32\\WindowsPowerShell\\v1.0;C:\\Windows\\System32\\OpenSSH;C:\\WINDOWS\\system32;C:\\WINDOWS;C:\\WINDOWS\\System32\\Wbem;C:\\WINDOWS\\System32\\WindowsPowerShell\\v1.0;C:\\WINDOWS\\System32\\OpenSSH;C:\\Program Files\\dotnet;C:\\Users\\Luis-work\\AppData\\Local\\Microsoft\\WindowsApps;C:\\Users\\Luis-work\\AppData\\Local\\Programs\\Microsoft VS Code\\bin;C:\\Users\\Luis-work\\AppData\\Local\\GitHubDesktop\\bin;C:\\Users\\Luis-work\\AppData\\Local\\Programs\\Git\\cmd;C:\\Users\\Luis-work\\Downloads\\ffmpeg\\bin;C:\\Users\\Luis-work\\AppData\\Roaming\\Warp\n",
      "INFO:jgo:First time start-up may be slow. Downloaded dependencies will be cached for shorter start-up times in subsequent executions.\n",
      "INFO:jgo:First time start-up may be slow. Downloaded dependencies will be cached for shorter start-up times in subsequent executions.\n",
      "WARNING:napari_aicsimageio.core:AICSImageIO: Unsupported file format.\n",
      "INFO:jgo:First time start-up may be slow. Downloaded dependencies will be cached for shorter start-up times in subsequent executions.\n",
      "INFO:bfio.bfio.BioReader:mvn not found on path c:\\Users\\Luis-work\\miniconda3\\envs\\dev\\lib\\site-packages\\PyQt5\\Qt5\\bin;C:\\Users\\Luis-work\\miniconda3\\envs\\dev\\Lib\\site-packages\\cv2\\../../x64/vc14/bin;c:\\Users\\Luis-work\\miniconda3\\envs\\dev;C:\\Users\\Luis-work\\miniconda3\\envs\\dev;C:\\Users\\Luis-work\\miniconda3\\envs\\dev\\Library\\mingw-w64\\bin;C:\\Users\\Luis-work\\miniconda3\\envs\\dev\\Library\\usr\\bin;C:\\Users\\Luis-work\\miniconda3\\envs\\dev\\Library\\bin;C:\\Users\\Luis-work\\miniconda3\\envs\\dev\\Scripts;C:\\Users\\Luis-work\\miniconda3\\envs\\dev\\bin;C:\\Users\\Luis-work\\miniconda3\\condabin;C:\\Program Files (x86)\\Common Files\\Oracle\\Java\\javapath;C:\\Program Files\\NVIDIA GPU Computing Toolkit\\CUDA\\v11.8\\bin;C:\\Program Files\\NVIDIA GPU Computing Toolkit\\CUDA\\v11.8\\libnvvp;.;C:\\Windows\\system32;C:\\Windows;C:\\Windows\\System32\\Wbem;C:\\Windows\\System32\\WindowsPowerShell\\v1.0;C:\\Windows\\System32\\OpenSSH;C:\\WINDOWS\\system32;C:\\WINDOWS;C:\\WINDOWS\\System32\\Wbem;C:\\WINDOWS\\System32\\WindowsPowerShell\\v1.0;C:\\WINDOWS\\System32\\OpenSSH;C:\\Program Files\\dotnet;C:\\Users\\Luis-work\\AppData\\Local\\Microsoft\\WindowsApps;C:\\Users\\Luis-work\\AppData\\Local\\Programs\\Microsoft VS Code\\bin;C:\\Users\\Luis-work\\AppData\\Local\\GitHubDesktop\\bin;C:\\Users\\Luis-work\\AppData\\Local\\Programs\\Git\\cmd;C:\\Users\\Luis-work\\Downloads\\ffmpeg\\bin;C:\\Users\\Luis-work\\AppData\\Roaming\\Warp\n"
     ]
    }
   ],
   "source": [
    "NV.add_image(data)\n",
    "NV.add_image(res0)\n",
    "NV.add_image(res1)"
   ]
  },
  {
   "attachments": {},
   "cell_type": "markdown",
   "metadata": {},
   "source": [
    "Compare with result from original flowdenoiser.py"
   ]
  },
  {
   "cell_type": "code",
   "execution_count": 13,
   "metadata": {},
   "outputs": [],
   "source": [
    "with mrcfile.open(r\"C:\\Users\\Luis-work\\Desktop\\GLOBUS_endpoint\\FlowDenoising\\to denoise in VM\\tempdata2_denoised_orig.mrc\", mode=\"r+\") as mrcfile0:\n",
    "    res_FD_orig=mrcfile0.data"
   ]
  },
  {
   "cell_type": "code",
   "execution_count": 25,
   "metadata": {},
   "outputs": [
    {
     "data": {
      "text/plain": [
       "dtype('<f4')"
      ]
     },
     "execution_count": 25,
     "metadata": {},
     "output_type": "execute_result"
    }
   ],
   "source": [
    "res_FD_orig.dtype"
   ]
  },
  {
   "cell_type": "code",
   "execution_count": 14,
   "metadata": {},
   "outputs": [
    {
     "data": {
      "text/plain": [
       "<Image layer 'res_FD_orig' at 0x19b44f7f1f0>"
      ]
     },
     "execution_count": 14,
     "metadata": {},
     "output_type": "execute_result"
    }
   ],
   "source": [
    "NV.add_image(res_FD_orig)"
   ]
  },
  {
   "cell_type": "code",
   "execution_count": 15,
   "metadata": {},
   "outputs": [
    {
     "data": {
      "text/plain": [
       "True"
      ]
     },
     "execution_count": 15,
     "metadata": {},
     "output_type": "execute_result"
    }
   ],
   "source": [
    "np.array_equal(res0, res_FD_orig)"
   ]
  },
  {
   "attachments": {},
   "cell_type": "markdown",
   "metadata": {},
   "source": [
    "Weird but great, the results are the same\n",
    "\n",
    "Maybe results are different if running from shell"
   ]
  },
  {
   "cell_type": "code",
   "execution_count": null,
   "metadata": {},
   "outputs": [],
   "source": []
  },
  {
   "attachments": {},
   "cell_type": "markdown",
   "metadata": {},
   "source": [
    "Process through the shell"
   ]
  },
  {
   "cell_type": "code",
   "execution_count": 55,
   "metadata": {},
   "outputs": [
    {
     "name": "stdout",
     "output_type": "stream",
     "text": [
      "self.calculation_interrupt:False\n",
      "stopEv.is_set():False\n"
     ]
    },
    {
     "name": "stderr",
     "output_type": "stream",
     "text": [
      "[2023-06-29 01:09:11,769] (INFO) Verbosity level = 1\n",
      "[2023-06-29 01:09:11,769] (INFO) reading \"tempdata2.mrc\"\n",
      "[2023-06-29 01:09:11,769] (INFO) Input file is MRC\n",
      "[2023-06-29 01:09:11,776] (INFO) read \"tempdata2.mrc\" in 0.00653100002091378 seconds\n",
      "[2023-06-29 01:09:11,776] (INFO) args : Namespace(input='tempdata2.mrc', output='tempdata2_denoised_rfi_shell.mrc', sigma=(2.0, 2.0, 2.0), levels=3, winsize=5, verbosity=1, no_OF=False, number_of_processes=8, recompute_flow=False, timeout=30)\n",
      "[2023-06-29 01:09:11,776] (INFO) Number of processing units: 8\n",
      "[2023-06-29 01:09:11,776] (INFO) shape of the input volume (Z, Y, X) = (100, 256, 256)\n",
      "[2023-06-29 01:09:11,776] (INFO) type of the volume = uint16\n",
      "[2023-06-29 01:09:11,776] (INFO) vol requires 12.5 MB\n",
      "[2023-06-29 01:09:11,777] (INFO) data max = 255\n",
      "[2023-06-29 01:09:11,778] (INFO) data min = 0\n",
      "[2023-06-29 01:09:11,782] (INFO) Input vol average = 164.55193878173827\n",
      "[2023-06-29 01:09:11,782] (INFO) sigma=(2.0, 2.0, 2.0)\n",
      "[2023-06-29 01:09:11,782] (INFO) Computing gaussian kernel with sigma=2.0\n",
      "[2023-06-29 01:09:11,783] (INFO) Computing gaussian kernel with sigma=2.0\n",
      "[2023-06-29 01:09:11,784] (INFO) Computing gaussian kernel with sigma=2.0\n",
      "[2023-06-29 01:09:11,784] (INFO) length of each filter (Z, Y, X) = [17, 17, 17]\n",
      "[2023-06-29 01:09:11,785] (INFO) Filtering ...\n",
      "[2023-06-29 01:09:11,785] (INFO) 0/612 completed\n",
      "[2023-06-29 01:09:11,785] (INFO) Filtering along Z\n",
      "[2023-06-29 01:09:11,785] (INFO) Filtering along axis 0 with l=3, w=5, and kernel length=17\n",
      "[2023-06-29 01:09:11,785] (INFO) axis_dim:100\n",
      "[2023-06-29 01:09:11,785] (INFO) self.max_number_of_processes:8\n",
      "[2023-06-29 01:09:11,785] (INFO) n_remain_slices:4\n",
      "[2023-06-29 01:09:11,785] (INFO) chunk_indexes:[0, 12, 24, 36, 48, 60, 72, 84, 96]\n",
      "[2023-06-29 01:09:11,785] (INFO) chunk_sizes:[12, 12, 12, 12, 12, 12, 12, 12, 4]\n",
      "[2023-06-29 01:09:11,785] (INFO) axis_i_s:[0, 0, 0, 0, 0, 0, 0, 0, 0]\n",
      "[2023-06-29 01:09:11,785] (INFO) Starting threads\n",
      "[2023-06-29 01:09:11,785] (INFO) filter_along_axis_chunk_worker() with chunk_start_idx:0, chunk_size:12, axis_i:0\n",
      "[2023-06-29 01:09:11,785] (INFO) filter_along_axis_chunk_worker() with chunk_start_idx:12, chunk_size:12, axis_i:0\n",
      "[2023-06-29 01:09:11,785] (INFO) filter_along_axis_chunk_worker() with chunk_start_idx:24, chunk_size:12, axis_i:0\n",
      "[2023-06-29 01:09:11,785] (INFO) filter_along_axis_chunk_worker() with chunk_start_idx:36, chunk_size:12, axis_i:0\n",
      "[2023-06-29 01:09:11,785] (INFO) filter_along_axis_chunk_worker() with chunk_start_idx:48, chunk_size:12, axis_i:0\n",
      "[2023-06-29 01:09:11,785] (INFO) filter_along_axis_chunk_worker() with chunk_start_idx:60, chunk_size:12, axis_i:0\n",
      "[2023-06-29 01:09:11,785] (INFO) filter_along_axis_chunk_worker() with chunk_start_idx:72, chunk_size:12, axis_i:0\n",
      "[2023-06-29 01:09:11,785] (INFO) filter_along_axis_chunk_worker() with chunk_start_idx:84, chunk_size:12, axis_i:0\n",
      "[2023-06-29 01:09:12,808] (INFO) 8/612 completed\n",
      "[2023-06-29 01:09:13,821] (INFO) 27/612 completed\n",
      "[2023-06-29 01:09:14,825] (INFO) 45/612 completed\n",
      "[2023-06-29 01:09:15,837] (INFO) 64/612 completed\n",
      "[2023-06-29 01:09:16,845] (INFO) 80/612 completed\n",
      "[2023-06-29 01:09:17,372] (INFO) filter_along_axis_chunk_worker() with chunk_start_idx:96, chunk_size:4, axis_i:0\n",
      "[2023-06-29 01:09:17,858] (INFO) 97/612 completed\n",
      "[2023-06-29 01:09:18,270] (INFO) Filtering along Y\n",
      "[2023-06-29 01:09:18,270] (INFO) Filtering along axis 1 with l=3, w=5, and kernel length=17\n",
      "[2023-06-29 01:09:18,270] (INFO) axis_dim:256\n",
      "[2023-06-29 01:09:18,270] (INFO) self.max_number_of_processes:8\n",
      "[2023-06-29 01:09:18,270] (INFO) n_remain_slices:0\n",
      "[2023-06-29 01:09:18,270] (INFO) chunk_indexes:[0, 32, 64, 96, 128, 160, 192, 224]\n",
      "[2023-06-29 01:09:18,270] (INFO) chunk_sizes:[32, 32, 32, 32, 32, 32, 32, 32]\n",
      "[2023-06-29 01:09:18,270] (INFO) axis_i_s:[1, 1, 1, 1, 1, 1, 1, 1]\n",
      "[2023-06-29 01:09:18,270] (INFO) Starting threads\n",
      "[2023-06-29 01:09:18,270] (INFO) filter_along_axis_chunk_worker() with chunk_start_idx:0, chunk_size:32, axis_i:1\n",
      "[2023-06-29 01:09:18,270] (INFO) filter_along_axis_chunk_worker() with chunk_start_idx:32, chunk_size:32, axis_i:1\n",
      "[2023-06-29 01:09:18,270] (INFO) filter_along_axis_chunk_worker() with chunk_start_idx:64, chunk_size:32, axis_i:1\n",
      "[2023-06-29 01:09:18,270] (INFO) filter_along_axis_chunk_worker() with chunk_start_idx:96, chunk_size:32, axis_i:1\n",
      "[2023-06-29 01:09:18,270] (INFO) filter_along_axis_chunk_worker() with chunk_start_idx:128, chunk_size:32, axis_i:1\n",
      "[2023-06-29 01:09:18,270] (INFO) filter_along_axis_chunk_worker() with chunk_start_idx:160, chunk_size:32, axis_i:1\n",
      "[2023-06-29 01:09:18,270] (INFO) filter_along_axis_chunk_worker() with chunk_start_idx:192, chunk_size:32, axis_i:1\n",
      "[2023-06-29 01:09:18,270] (INFO) filter_along_axis_chunk_worker() with chunk_start_idx:224, chunk_size:32, axis_i:1\n",
      "[2023-06-29 01:09:18,865] (INFO) 124/612 completed\n",
      "[2023-06-29 01:09:19,870] (INFO) 172/612 completed\n",
      "[2023-06-29 01:09:20,876] (INFO) 220/612 completed\n",
      "[2023-06-29 01:09:21,878] (INFO) 265/612 completed\n",
      "[2023-06-29 01:09:22,889] (INFO) 311/612 completed\n",
      "[2023-06-29 01:09:23,871] (INFO) Filtering along X\n",
      "[2023-06-29 01:09:23,872] (INFO) Filtering along axis 2 with l=3, w=5, and kernel length=17\n",
      "[2023-06-29 01:09:23,872] (INFO) axis_dim:256\n",
      "[2023-06-29 01:09:23,872] (INFO) self.max_number_of_processes:8\n",
      "[2023-06-29 01:09:23,872] (INFO) n_remain_slices:0\n",
      "[2023-06-29 01:09:23,872] (INFO) chunk_indexes:[0, 32, 64, 96, 128, 160, 192, 224]\n",
      "[2023-06-29 01:09:23,872] (INFO) chunk_sizes:[32, 32, 32, 32, 32, 32, 32, 32]\n",
      "[2023-06-29 01:09:23,872] (INFO) axis_i_s:[2, 2, 2, 2, 2, 2, 2, 2]\n",
      "[2023-06-29 01:09:23,872] (INFO) Starting threads\n",
      "[2023-06-29 01:09:23,872] (INFO) filter_along_axis_chunk_worker() with chunk_start_idx:0, chunk_size:32, axis_i:2\n",
      "[2023-06-29 01:09:23,873] (INFO) filter_along_axis_chunk_worker() with chunk_start_idx:32, chunk_size:32, axis_i:2\n",
      "[2023-06-29 01:09:23,873] (INFO) filter_along_axis_chunk_worker() with chunk_start_idx:64, chunk_size:32, axis_i:2\n",
      "[2023-06-29 01:09:23,873] (INFO) filter_along_axis_chunk_worker() with chunk_start_idx:96, chunk_size:32, axis_i:2\n",
      "[2023-06-29 01:09:23,874] (INFO) filter_along_axis_chunk_worker() with chunk_start_idx:128, chunk_size:32, axis_i:2\n",
      "[2023-06-29 01:09:23,874] (INFO) filter_along_axis_chunk_worker() with chunk_start_idx:160, chunk_size:32, axis_i:2\n",
      "[2023-06-29 01:09:23,875] (INFO) filter_along_axis_chunk_worker() with chunk_start_idx:192, chunk_size:32, axis_i:2\n",
      "[2023-06-29 01:09:23,875] (INFO) filter_along_axis_chunk_worker() with chunk_start_idx:224, chunk_size:32, axis_i:2\n",
      "[2023-06-29 01:09:23,906] (INFO) 356/612 completed\n",
      "[2023-06-29 01:09:24,917] (INFO) 396/612 completed\n",
      "[2023-06-29 01:09:25,931] (INFO) 436/612 completed\n",
      "[2023-06-29 01:09:26,935] (INFO) 475/612 completed\n",
      "[2023-06-29 01:09:27,944] (INFO) 515/612 completed\n",
      "[2023-06-29 01:09:28,951] (INFO) 557/612 completed\n",
      "[2023-06-29 01:09:29,961] (INFO) 598/612 completed\n",
      "[2023-06-29 01:09:30,227] (INFO) Volume filtered in 18.448802400002023 seconds\n",
      "[2023-06-29 01:09:30,227] (INFO) tempdata2_denoised_rfi_shell.mrc type = uint16\n",
      "[2023-06-29 01:09:30,227] (INFO) tempdata2_denoised_rfi_shell.mrc max = 233\n",
      "[2023-06-29 01:09:30,227] (INFO) tempdata2_denoised_rfi_shell.mrc min = 39\n",
      "[2023-06-29 01:09:30,246] (INFO) tempdata2_denoised_rfi_shell.mrc average = 163.05266387939454\n",
      "[2023-06-29 01:09:30,246] (INFO) writting \"tempdata2_denoised_rfi_shell.mrc\"\n",
      "[2023-06-29 01:09:30,246] (INFO) Writting MRC file\n",
      "[2023-06-29 01:09:30,276] (INFO) written \"tempdata2_denoised_rfi_shell.mrc\" in 0.02962180000031367 seconds\n"
     ]
    }
   ],
   "source": [
    "!python ../src/flowdenoisingRFI_threaded.py -i \"tempdata2.mrc\" -o \"tempdata2_denoised_rfi_shell.mrc\" -v 1"
   ]
  },
  {
   "cell_type": "code",
   "execution_count": 56,
   "metadata": {},
   "outputs": [],
   "source": [
    "with mrcfile.open(r\"tempdata2_denoised_rfi_shell.mrc\", mode=\"r\") as mrcfile0:\n",
    "    res_rfi_shell=mrcfile0.data"
   ]
  },
  {
   "cell_type": "code",
   "execution_count": 57,
   "metadata": {},
   "outputs": [
    {
     "data": {
      "text/plain": [
       "dtype('<u2')"
      ]
     },
     "execution_count": 57,
     "metadata": {},
     "output_type": "execute_result"
    }
   ],
   "source": [
    "res_rfi_shell.dtype"
   ]
  },
  {
   "cell_type": "code",
   "execution_count": 58,
   "metadata": {},
   "outputs": [
    {
     "data": {
      "text/plain": [
       "True"
      ]
     },
     "execution_count": 58,
     "metadata": {},
     "output_type": "execute_result"
    }
   ],
   "source": [
    "np.array_equal(res0, res_rfi_shell)"
   ]
  },
  {
   "attachments": {},
   "cell_type": "markdown",
   "metadata": {},
   "source": [
    "OK now. Problem was with argument of recompute_flow not being negated properly"
   ]
  },
  {
   "cell_type": "code",
   "execution_count": 59,
   "metadata": {},
   "outputs": [
    {
     "name": "stdout",
     "output_type": "stream",
     "text": [
      "162\n",
      "162\n",
      "162.0\n"
     ]
    }
   ],
   "source": [
    "print(res0[0,0,0])\n",
    "print(res1[0,0,0])\n",
    "print(res_FD_orig[0,0,0])"
   ]
  },
  {
   "cell_type": "code",
   "execution_count": 60,
   "metadata": {},
   "outputs": [
    {
     "data": {
      "text/plain": [
       "162"
      ]
     },
     "execution_count": 60,
     "metadata": {},
     "output_type": "execute_result"
    }
   ],
   "source": [
    "res_rfi_shell[0,0,0]"
   ]
  }
 ],
 "metadata": {
  "kernelspec": {
   "display_name": "dev",
   "language": "python",
   "name": "python3"
  },
  "language_info": {
   "codemirror_mode": {
    "name": "ipython",
    "version": 3
   },
   "file_extension": ".py",
   "mimetype": "text/x-python",
   "name": "python",
   "nbconvert_exporter": "python",
   "pygments_lexer": "ipython3",
   "version": "3.10.11"
  },
  "orig_nbformat": 4
 },
 "nbformat": 4,
 "nbformat_minor": 2
}
