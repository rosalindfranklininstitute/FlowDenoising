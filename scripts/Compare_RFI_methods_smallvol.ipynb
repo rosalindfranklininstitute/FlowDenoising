{
 "cells": [
  {
   "attachments": {},
   "cell_type": "markdown",
   "metadata": {},
   "source": [
    "Compare 2 different methods of doing calculation in threaded mode"
   ]
  },
  {
   "cell_type": "code",
   "execution_count": 1,
   "metadata": {},
   "outputs": [],
   "source": [
    "import numpy as np\n",
    "import mrcfile\n",
    "import sys\n",
    "sys.path.append(\"..\")\n",
    "import logging\n",
    "logging.basicConfig(level=logging.INFO)\n",
    "\n",
    "#import src.flowdenoisingRFI_threaded as fdnrfi_th\n",
    "import src.flowdenoising.flowdenoising_mod as fdn"
   ]
  },
  {
   "cell_type": "code",
   "execution_count": 2,
   "metadata": {},
   "outputs": [
    {
     "data": {
      "text/plain": [
       "'Is great'"
      ]
     },
     "execution_count": 2,
     "metadata": {},
     "output_type": "execute_result"
    }
   ],
   "source": [
    "fdn.FDN_LIZZIE"
   ]
  },
  {
   "cell_type": "code",
   "execution_count": 3,
   "metadata": {},
   "outputs": [],
   "source": [
    "with mrcfile.open(r\"tempdata2.mrc\", mode=\"r\") as mrcfile0:\n",
    "    data=mrcfile0.data"
   ]
  },
  {
   "cell_type": "code",
   "execution_count": 4,
   "metadata": {},
   "outputs": [
    {
     "name": "stdout",
     "output_type": "stream",
     "text": [
      "(100, 256, 256)\n",
      "uint16\n"
     ]
    }
   ],
   "source": [
    "print(data.shape)\n",
    "print(data.dtype)"
   ]
  },
  {
   "attachments": {},
   "cell_type": "markdown",
   "metadata": {},
   "source": [
    "Create denoiser class instance"
   ]
  },
  {
   "cell_type": "code",
   "execution_count": 5,
   "metadata": {},
   "outputs": [
    {
     "name": "stderr",
     "output_type": "stream",
     "text": [
      "INFO:root:Number of processing units: 8\n",
      "INFO:root:length of each filter (Z, Y, X) = [17, 17, 17]\n"
     ]
    }
   ],
   "source": [
    "filter0 = fdn.cFlowDenoiser()"
   ]
  },
  {
   "cell_type": "code",
   "execution_count": 6,
   "metadata": {},
   "outputs": [],
   "source": [
    "filter0.max_number_of_processes=4"
   ]
  },
  {
   "attachments": {},
   "cell_type": "markdown",
   "metadata": {},
   "source": [
    "process using method 0"
   ]
  },
  {
   "cell_type": "code",
   "execution_count": 7,
   "metadata": {},
   "outputs": [
    {
     "name": "stderr",
     "output_type": "stream",
     "text": [
      "INFO:root:shape of the input volume (Z, Y, X) = (100, 256, 256)\n",
      "INFO:root:type of the volume = uint16\n",
      "INFO:root:vol requires 12.5 MB\n",
      "INFO:root:data max = 255\n",
      "INFO:root:data min = 0\n",
      "INFO:root:Input vol average = 164.55193878173827\n",
      "INFO:root:length of each filter (Z, Y, X) = [17, 17, 17]\n",
      "INFO:root:Filtering ...\n",
      "INFO:root:0/612 completed\n",
      "INFO:root:Filtering along Z\n",
      "INFO:root:axis_dim:100\n",
      "INFO:root:self.max_number_of_processes:4\n",
      "INFO:root:n_remain_slices:0\n",
      "INFO:root:chunk_indexes:[0, 25, 50, 75]\n",
      "INFO:root:chunk_sizes:[25, 25, 25, 25]\n",
      "INFO:root:axis_i_s:[0, 0, 0, 0]\n",
      "INFO:root:Starting threads\n",
      "INFO:root:8/612 completed\n",
      "INFO:root:20/612 completed\n",
      "INFO:root:32/612 completed\n",
      "INFO:root:48/612 completed\n",
      "INFO:root:60/612 completed\n",
      "INFO:root:74/612 completed\n",
      "INFO:root:88/612 completed\n",
      "INFO:root:Filtering along Y\n",
      "INFO:root:axis_dim:256\n",
      "INFO:root:self.max_number_of_processes:4\n",
      "INFO:root:n_remain_slices:0\n",
      "INFO:root:chunk_indexes:[0, 64, 128, 192]\n",
      "INFO:root:chunk_sizes:[64, 64, 64, 64]\n",
      "INFO:root:axis_i_s:[1, 1, 1, 1]\n",
      "INFO:root:Starting threads\n",
      "INFO:root:104/612 completed\n",
      "INFO:root:144/612 completed\n",
      "INFO:root:184/612 completed\n",
      "INFO:root:224/612 completed\n",
      "INFO:root:260/612 completed\n",
      "INFO:root:299/612 completed\n",
      "INFO:root:336/612 completed\n",
      "INFO:root:Filtering along X\n",
      "INFO:root:axis_dim:256\n",
      "INFO:root:self.max_number_of_processes:4\n",
      "INFO:root:n_remain_slices:0\n",
      "INFO:root:chunk_indexes:[0, 64, 128, 192]\n",
      "INFO:root:chunk_sizes:[64, 64, 64, 64]\n",
      "INFO:root:axis_i_s:[2, 2, 2, 2]\n",
      "INFO:root:Starting threads\n",
      "INFO:root:372/612 completed\n",
      "INFO:root:407/612 completed\n",
      "INFO:root:439/612 completed\n",
      "INFO:root:473/612 completed\n",
      "INFO:root:507/612 completed\n",
      "INFO:root:541/612 completed\n",
      "INFO:root:577/612 completed\n",
      "INFO:root:611/612 completed\n",
      "INFO:root:Volume filtered in 22.240868599998066 seconds\n"
     ]
    }
   ],
   "source": [
    "filter0.slice_filter_method=0\n",
    "res0 = filter0.runOpticalFlow(data)"
   ]
  },
  {
   "attachments": {},
   "cell_type": "markdown",
   "metadata": {},
   "source": [
    "process using method 1"
   ]
  },
  {
   "cell_type": "code",
   "execution_count": 8,
   "metadata": {},
   "outputs": [
    {
     "name": "stderr",
     "output_type": "stream",
     "text": [
      "INFO:root:shape of the input volume (Z, Y, X) = (100, 256, 256)\n",
      "INFO:root:type of the volume = uint16\n",
      "INFO:root:vol requires 12.5 MB\n",
      "INFO:root:data max = 255\n",
      "INFO:root:data min = 0\n",
      "INFO:root:Input vol average = 164.55193878173827\n",
      "INFO:root:length of each filter (Z, Y, X) = [17, 17, 17]\n",
      "INFO:root:Filtering ...\n",
      "INFO:root:0/612 completed\n",
      "INFO:root:Filtering along Z\n",
      "INFO:root:axis_dim:100\n",
      "INFO:root:self.max_number_of_processes:4\n",
      "INFO:root:n_remain_slices:0\n",
      "INFO:root:chunk_indexes:[0, 25, 50, 75]\n",
      "INFO:root:chunk_sizes:[25, 25, 25, 25]\n",
      "INFO:root:axis_i_s:[0, 0, 0, 0]\n",
      "INFO:root:Starting threads\n",
      "INFO:root:12/612 completed\n",
      "INFO:root:12/612 completed\n",
      "INFO:root:24/612 completed\n",
      "INFO:root:26/612 completed\n",
      "INFO:root:39/612 completed\n",
      "INFO:root:40/612 completed\n",
      "INFO:root:52/612 completed\n",
      "INFO:root:52/612 completed\n",
      "INFO:root:65/612 completed\n",
      "INFO:root:67/612 completed\n",
      "INFO:root:80/612 completed\n",
      "INFO:root:80/612 completed\n",
      "INFO:root:92/612 completed\n",
      "INFO:root:93/612 completed\n",
      "INFO:root:Filtering along Y\n",
      "INFO:root:axis_dim:256\n",
      "INFO:root:self.max_number_of_processes:4\n",
      "INFO:root:n_remain_slices:0\n",
      "INFO:root:chunk_indexes:[0, 64, 128, 192]\n",
      "INFO:root:chunk_sizes:[64, 64, 64, 64]\n",
      "INFO:root:axis_i_s:[1, 1, 1, 1]\n",
      "INFO:root:Starting threads\n",
      "INFO:root:120/612 completed\n",
      "INFO:root:124/612 completed\n",
      "INFO:root:164/612 completed\n",
      "INFO:root:167/612 completed\n",
      "INFO:root:208/612 completed\n",
      "INFO:root:210/612 completed\n",
      "INFO:root:248/612 completed\n",
      "INFO:root:252/612 completed\n",
      "INFO:root:294/612 completed\n",
      "INFO:root:296/612 completed\n",
      "INFO:root:337/612 completed\n",
      "INFO:root:339/612 completed\n",
      "INFO:root:Filtering along X\n",
      "INFO:root:axis_dim:256\n",
      "INFO:root:self.max_number_of_processes:4\n",
      "INFO:root:n_remain_slices:0\n",
      "INFO:root:chunk_indexes:[0, 64, 128, 192]\n",
      "INFO:root:chunk_sizes:[64, 64, 64, 64]\n",
      "INFO:root:axis_i_s:[2, 2, 2, 2]\n",
      "INFO:root:Starting threads\n",
      "INFO:root:375/612 completed\n",
      "INFO:root:376/612 completed\n",
      "INFO:root:412/612 completed\n",
      "INFO:root:414/612 completed\n",
      "INFO:root:448/612 completed\n",
      "INFO:root:452/612 completed\n",
      "INFO:root:487/612 completed\n",
      "INFO:root:488/612 completed\n",
      "INFO:root:523/612 completed\n",
      "INFO:root:525/612 completed\n",
      "INFO:root:560/612 completed\n",
      "INFO:root:563/612 completed\n",
      "INFO:root:599/612 completed\n",
      "INFO:root:600/612 completed\n",
      "INFO:root:Volume filtered in 20.46429229999194 seconds\n"
     ]
    }
   ],
   "source": [
    "filter0.slice_filter_method=1\n",
    "res1 = filter0.runOpticalFlow(data)"
   ]
  },
  {
   "cell_type": "code",
   "execution_count": 9,
   "metadata": {},
   "outputs": [
    {
     "name": "stdout",
     "output_type": "stream",
     "text": [
      "uint16\n",
      "uint16\n"
     ]
    }
   ],
   "source": [
    "print(res0.dtype)\n",
    "print(res1.dtype)"
   ]
  },
  {
   "cell_type": "code",
   "execution_count": null,
   "metadata": {},
   "outputs": [],
   "source": []
  },
  {
   "attachments": {},
   "cell_type": "markdown",
   "metadata": {},
   "source": [
    "Compare results"
   ]
  },
  {
   "cell_type": "code",
   "execution_count": 10,
   "metadata": {},
   "outputs": [
    {
     "data": {
      "text/plain": [
       "True"
      ]
     },
     "execution_count": 10,
     "metadata": {},
     "output_type": "execute_result"
    }
   ],
   "source": [
    "np.array_equal(res0, res1)"
   ]
  },
  {
   "attachments": {},
   "cell_type": "markdown",
   "metadata": {},
   "source": [
    "View in napari"
   ]
  },
  {
   "cell_type": "code",
   "execution_count": 13,
   "metadata": {},
   "outputs": [
    {
     "name": "stderr",
     "output_type": "stream",
     "text": [
      "INFO:bfio.init:VERSION = 2.3.0\n",
      "\n",
      "INFO:bfio.init:The bioformats_package.jar is not present.Can only use Python backend for reading/writing images.\n",
      "INFO:xmlschema:Resource 'XMLSchema.xsd' is already loaded\n"
     ]
    },
    {
     "ename": "IndexError",
     "evalue": "list index out of range",
     "output_type": "error",
     "traceback": [
      "\u001b[1;31m---------------------------------------------------------------------------\u001b[0m",
      "\u001b[1;31mIndexError\u001b[0m                                Traceback (most recent call last)",
      "Cell \u001b[1;32mIn[12], line 1\u001b[0m\n\u001b[1;32m----> 1\u001b[0m NV\u001b[39m.\u001b[39;49madd_image(data)\n\u001b[0;32m      2\u001b[0m NV\u001b[39m.\u001b[39madd_image(res0)\n\u001b[0;32m      3\u001b[0m NV\u001b[39m.\u001b[39madd_image(res1)\n",
      "File \u001b[1;32mc:\\Users\\Luis-work\\miniconda3\\envs\\dev\\lib\\site-packages\\napari\\utils\\migrations.py:44\u001b[0m, in \u001b[0;36mrename_argument.<locals>._wrapper.<locals>._update_from_dict\u001b[1;34m(*args, **kwargs)\u001b[0m\n\u001b[0;32m     42\u001b[0m     kwargs \u001b[39m=\u001b[39m kwargs\u001b[39m.\u001b[39mcopy()\n\u001b[0;32m     43\u001b[0m     kwargs[to_name] \u001b[39m=\u001b[39m kwargs\u001b[39m.\u001b[39mpop(from_name)\n\u001b[1;32m---> 44\u001b[0m \u001b[39mreturn\u001b[39;00m func(\u001b[39m*\u001b[39margs, \u001b[39m*\u001b[39m\u001b[39m*\u001b[39mkwargs)\n",
      "File \u001b[1;32mc:\\Users\\Luis-work\\miniconda3\\envs\\dev\\lib\\site-packages\\napari\\components\\viewer_model.py:819\u001b[0m, in \u001b[0;36mViewerModel.add_image\u001b[1;34m(self, data, channel_axis, rgb, colormap, contrast_limits, gamma, interpolation2d, interpolation3d, rendering, depiction, iso_threshold, attenuation, name, metadata, scale, translate, rotate, shear, affine, opacity, blending, visible, multiscale, cache, plane, experimental_clipping_planes)\u001b[0m\n\u001b[0;32m    811\u001b[0m             \u001b[39mraise\u001b[39;00m \u001b[39mTypeError\u001b[39;00m(\n\u001b[0;32m    812\u001b[0m                 trans\u001b[39m.\u001b[39m_(\n\u001b[0;32m    813\u001b[0m                     \u001b[39m\"\u001b[39m\u001b[39mReceived sequence for argument \u001b[39m\u001b[39m'\u001b[39m\u001b[39m{argument}\u001b[39;00m\u001b[39m'\u001b[39m\u001b[39m, did you mean to specify a \u001b[39m\u001b[39m'\u001b[39m\u001b[39mchannel_axis\u001b[39m\u001b[39m'\u001b[39m\u001b[39m? \u001b[39m\u001b[39m\"\u001b[39m,\n\u001b[1;32m   (...)\u001b[0m\n\u001b[0;32m    816\u001b[0m                 )\n\u001b[0;32m    817\u001b[0m             )\n\u001b[0;32m    818\u001b[0m     layer \u001b[39m=\u001b[39m Image(data, \u001b[39m*\u001b[39m\u001b[39m*\u001b[39mkwargs)\n\u001b[1;32m--> 819\u001b[0m     \u001b[39mself\u001b[39;49m\u001b[39m.\u001b[39;49mlayers\u001b[39m.\u001b[39;49mappend(layer)\n\u001b[0;32m    821\u001b[0m     \u001b[39mreturn\u001b[39;00m layer\n\u001b[0;32m    822\u001b[0m \u001b[39melse\u001b[39;00m:\n",
      "File \u001b[1;32mc:\\Users\\Luis-work\\miniconda3\\envs\\dev\\lib\\_collections_abc.py:1128\u001b[0m, in \u001b[0;36mMutableSequence.append\u001b[1;34m(self, value)\u001b[0m\n\u001b[0;32m   1126\u001b[0m \u001b[39mdef\u001b[39;00m \u001b[39mappend\u001b[39m(\u001b[39mself\u001b[39m, value):\n\u001b[0;32m   1127\u001b[0m     \u001b[39m'\u001b[39m\u001b[39mS.append(value) -- append value to the end of the sequence\u001b[39m\u001b[39m'\u001b[39m\n\u001b[1;32m-> 1128\u001b[0m     \u001b[39mself\u001b[39;49m\u001b[39m.\u001b[39;49minsert(\u001b[39mlen\u001b[39;49m(\u001b[39mself\u001b[39;49m), value)\n",
      "File \u001b[1;32mc:\\Users\\Luis-work\\miniconda3\\envs\\dev\\lib\\site-packages\\napari\\components\\layerlist.py:166\u001b[0m, in \u001b[0;36mLayerList.insert\u001b[1;34m(self, index, value)\u001b[0m\n\u001b[0;32m    164\u001b[0m \u001b[39mself\u001b[39m\u001b[39m.\u001b[39m_clean_cache()\n\u001b[0;32m    165\u001b[0m new_layer\u001b[39m.\u001b[39mevents\u001b[39m.\u001b[39mset_data\u001b[39m.\u001b[39mconnect(\u001b[39mself\u001b[39m\u001b[39m.\u001b[39m_clean_cache)\n\u001b[1;32m--> 166\u001b[0m \u001b[39msuper\u001b[39;49m()\u001b[39m.\u001b[39;49minsert(index, new_layer)\n",
      "File \u001b[1;32mc:\\Users\\Luis-work\\miniconda3\\envs\\dev\\lib\\site-packages\\napari\\utils\\events\\containers\\_selectable_list.py:66\u001b[0m, in \u001b[0;36mSelectableEventedList.insert\u001b[1;34m(self, index, value)\u001b[0m\n\u001b[0;32m     65\u001b[0m \u001b[39mdef\u001b[39;00m \u001b[39minsert\u001b[39m(\u001b[39mself\u001b[39m, index: \u001b[39mint\u001b[39m, value: _T):\n\u001b[1;32m---> 66\u001b[0m     \u001b[39msuper\u001b[39;49m()\u001b[39m.\u001b[39;49minsert(index, value)\n\u001b[0;32m     67\u001b[0m     \u001b[39mif\u001b[39;00m \u001b[39mself\u001b[39m\u001b[39m.\u001b[39m_activate_on_insert:\n\u001b[0;32m     68\u001b[0m         \u001b[39m# Make layer selected and unselect all others\u001b[39;00m\n\u001b[0;32m     69\u001b[0m         \u001b[39mself\u001b[39m\u001b[39m.\u001b[39mselection\u001b[39m.\u001b[39mactive \u001b[39m=\u001b[39m value\n",
      "File \u001b[1;32mc:\\Users\\Luis-work\\miniconda3\\envs\\dev\\lib\\site-packages\\napari\\utils\\events\\containers\\_evented_list.py:188\u001b[0m, in \u001b[0;36mEventedList.insert\u001b[1;34m(self, index, value)\u001b[0m\n\u001b[0;32m    186\u001b[0m \u001b[39mself\u001b[39m\u001b[39m.\u001b[39mevents\u001b[39m.\u001b[39minserting(index\u001b[39m=\u001b[39mindex)\n\u001b[0;32m    187\u001b[0m \u001b[39msuper\u001b[39m()\u001b[39m.\u001b[39minsert(index, value)\n\u001b[1;32m--> 188\u001b[0m \u001b[39mself\u001b[39;49m\u001b[39m.\u001b[39;49mevents\u001b[39m.\u001b[39;49minserted(index\u001b[39m=\u001b[39;49mindex, value\u001b[39m=\u001b[39;49mvalue)\n\u001b[0;32m    189\u001b[0m \u001b[39mself\u001b[39m\u001b[39m.\u001b[39m_connect_child_emitters(value)\n",
      "File \u001b[1;32mc:\\Users\\Luis-work\\miniconda3\\envs\\dev\\lib\\site-packages\\napari\\utils\\events\\event.py:757\u001b[0m, in \u001b[0;36mEventEmitter.__call__\u001b[1;34m(self, *args, **kwargs)\u001b[0m\n\u001b[0;32m    754\u001b[0m     \u001b[39mself\u001b[39m\u001b[39m.\u001b[39m_block_counter\u001b[39m.\u001b[39mupdate([cb])\n\u001b[0;32m    755\u001b[0m     \u001b[39mcontinue\u001b[39;00m\n\u001b[1;32m--> 757\u001b[0m \u001b[39mself\u001b[39;49m\u001b[39m.\u001b[39;49m_invoke_callback(cb, event \u001b[39mif\u001b[39;49;00m pass_event \u001b[39melse\u001b[39;49;00m \u001b[39mNone\u001b[39;49;00m)\n\u001b[0;32m    758\u001b[0m \u001b[39mif\u001b[39;00m event\u001b[39m.\u001b[39mblocked:\n\u001b[0;32m    759\u001b[0m     \u001b[39mbreak\u001b[39;00m\n",
      "File \u001b[1;32mc:\\Users\\Luis-work\\miniconda3\\envs\\dev\\lib\\site-packages\\napari\\utils\\events\\event.py:794\u001b[0m, in \u001b[0;36mEventEmitter._invoke_callback\u001b[1;34m(self, cb, event)\u001b[0m\n\u001b[0;32m    792\u001b[0m     \u001b[39mself\u001b[39m\u001b[39m.\u001b[39mdisconnect(cb)\n\u001b[0;32m    793\u001b[0m     \u001b[39mreturn\u001b[39;00m\n\u001b[1;32m--> 794\u001b[0m _handle_exception(\n\u001b[0;32m    795\u001b[0m     \u001b[39mself\u001b[39;49m\u001b[39m.\u001b[39;49mignore_callback_errors,\n\u001b[0;32m    796\u001b[0m     \u001b[39mself\u001b[39;49m\u001b[39m.\u001b[39;49mprint_callback_errors,\n\u001b[0;32m    797\u001b[0m     \u001b[39mself\u001b[39;49m,\n\u001b[0;32m    798\u001b[0m     cb_event\u001b[39m=\u001b[39;49m(cb, event),\n\u001b[0;32m    799\u001b[0m )\n",
      "File \u001b[1;32mc:\\Users\\Luis-work\\miniconda3\\envs\\dev\\lib\\site-packages\\napari\\utils\\events\\event.py:781\u001b[0m, in \u001b[0;36mEventEmitter._invoke_callback\u001b[1;34m(self, cb, event)\u001b[0m\n\u001b[0;32m    779\u001b[0m \u001b[39mtry\u001b[39;00m:\n\u001b[0;32m    780\u001b[0m     \u001b[39mif\u001b[39;00m event \u001b[39mis\u001b[39;00m \u001b[39mnot\u001b[39;00m \u001b[39mNone\u001b[39;00m:\n\u001b[1;32m--> 781\u001b[0m         cb(event)\n\u001b[0;32m    782\u001b[0m     \u001b[39melse\u001b[39;00m:\n\u001b[0;32m    783\u001b[0m         cb()\n",
      "File \u001b[1;32mc:\\Users\\Luis-work\\miniconda3\\envs\\dev\\lib\\site-packages\\napari\\components\\viewer_model.py:497\u001b[0m, in \u001b[0;36mViewerModel._on_add_layer\u001b[1;34m(self, event)\u001b[0m\n\u001b[0;32m    494\u001b[0m \u001b[39mself\u001b[39m\u001b[39m.\u001b[39m_layer_help_from_mode(layer)\n\u001b[0;32m    496\u001b[0m \u001b[39m# Update dims and grid model\u001b[39;00m\n\u001b[1;32m--> 497\u001b[0m \u001b[39mself\u001b[39;49m\u001b[39m.\u001b[39;49m_on_layers_change()\n\u001b[0;32m    498\u001b[0m \u001b[39mself\u001b[39m\u001b[39m.\u001b[39m_on_grid_change()\n\u001b[0;32m    499\u001b[0m \u001b[39m# Slice current layer based on dims\u001b[39;00m\n",
      "File \u001b[1;32mc:\\Users\\Luis-work\\miniconda3\\envs\\dev\\lib\\site-packages\\napari\\components\\viewer_model.py:381\u001b[0m, in \u001b[0;36mViewerModel._on_layers_change\u001b[1;34m(self)\u001b[0m\n\u001b[0;32m    379\u001b[0m     ndim \u001b[39m=\u001b[39m \u001b[39mlen\u001b[39m(ranges)\n\u001b[0;32m    380\u001b[0m     \u001b[39mself\u001b[39m\u001b[39m.\u001b[39mdims\u001b[39m.\u001b[39mndim \u001b[39m=\u001b[39m ndim\n\u001b[1;32m--> 381\u001b[0m     \u001b[39mself\u001b[39;49m\u001b[39m.\u001b[39;49mdims\u001b[39m.\u001b[39;49mset_range(\u001b[39mrange\u001b[39;49m(ndim), ranges)\n\u001b[0;32m    383\u001b[0m new_dim \u001b[39m=\u001b[39m \u001b[39mself\u001b[39m\u001b[39m.\u001b[39mdims\u001b[39m.\u001b[39mndim\n\u001b[0;32m    384\u001b[0m dim_diff \u001b[39m=\u001b[39m new_dim \u001b[39m-\u001b[39m \u001b[39mlen\u001b[39m(\u001b[39mself\u001b[39m\u001b[39m.\u001b[39mcursor\u001b[39m.\u001b[39mposition)\n",
      "File \u001b[1;32mc:\\Users\\Luis-work\\miniconda3\\envs\\dev\\lib\\site-packages\\napari\\components\\dims.py:227\u001b[0m, in \u001b[0;36mDims.set_range\u001b[1;34m(self, axis, _range)\u001b[0m\n\u001b[0;32m    225\u001b[0m     ax \u001b[39m=\u001b[39m assert_axis_in_bounds(\u001b[39mint\u001b[39m(ax), \u001b[39mself\u001b[39m\u001b[39m.\u001b[39mndim)\n\u001b[0;32m    226\u001b[0m     full_range[ax] \u001b[39m=\u001b[39m r\n\u001b[1;32m--> 227\u001b[0m \u001b[39mself\u001b[39;49m\u001b[39m.\u001b[39;49mrange \u001b[39m=\u001b[39m full_range\n",
      "File \u001b[1;32mc:\\Users\\Luis-work\\miniconda3\\envs\\dev\\lib\\site-packages\\napari\\utils\\events\\evented_model.py:241\u001b[0m, in \u001b[0;36mEventedModel.__setattr__\u001b[1;34m(self, name, value)\u001b[0m\n\u001b[0;32m    239\u001b[0m are_equal \u001b[39m=\u001b[39m \u001b[39mself\u001b[39m\u001b[39m.\u001b[39m__eq_operators__\u001b[39m.\u001b[39mget(name, operator\u001b[39m.\u001b[39meq)\n\u001b[0;32m    240\u001b[0m \u001b[39mif\u001b[39;00m \u001b[39mnot\u001b[39;00m are_equal(after, before):\n\u001b[1;32m--> 241\u001b[0m     \u001b[39mgetattr\u001b[39;49m(\u001b[39mself\u001b[39;49m\u001b[39m.\u001b[39;49mevents, name)(value\u001b[39m=\u001b[39;49mafter)  \u001b[39m# emit event\u001b[39;00m\n\u001b[0;32m    243\u001b[0m     \u001b[39m# emit events for any dependent computed property setters as well\u001b[39;00m\n\u001b[0;32m    244\u001b[0m     \u001b[39mfor\u001b[39;00m dep \u001b[39min\u001b[39;00m \u001b[39mself\u001b[39m\u001b[39m.\u001b[39m__field_dependents__\u001b[39m.\u001b[39mget(name, {}):\n",
      "File \u001b[1;32mc:\\Users\\Luis-work\\miniconda3\\envs\\dev\\lib\\site-packages\\napari\\utils\\events\\event.py:757\u001b[0m, in \u001b[0;36mEventEmitter.__call__\u001b[1;34m(self, *args, **kwargs)\u001b[0m\n\u001b[0;32m    754\u001b[0m     \u001b[39mself\u001b[39m\u001b[39m.\u001b[39m_block_counter\u001b[39m.\u001b[39mupdate([cb])\n\u001b[0;32m    755\u001b[0m     \u001b[39mcontinue\u001b[39;00m\n\u001b[1;32m--> 757\u001b[0m \u001b[39mself\u001b[39;49m\u001b[39m.\u001b[39;49m_invoke_callback(cb, event \u001b[39mif\u001b[39;49;00m pass_event \u001b[39melse\u001b[39;49;00m \u001b[39mNone\u001b[39;49;00m)\n\u001b[0;32m    758\u001b[0m \u001b[39mif\u001b[39;00m event\u001b[39m.\u001b[39mblocked:\n\u001b[0;32m    759\u001b[0m     \u001b[39mbreak\u001b[39;00m\n",
      "File \u001b[1;32mc:\\Users\\Luis-work\\miniconda3\\envs\\dev\\lib\\site-packages\\napari\\utils\\events\\event.py:794\u001b[0m, in \u001b[0;36mEventEmitter._invoke_callback\u001b[1;34m(self, cb, event)\u001b[0m\n\u001b[0;32m    792\u001b[0m     \u001b[39mself\u001b[39m\u001b[39m.\u001b[39mdisconnect(cb)\n\u001b[0;32m    793\u001b[0m     \u001b[39mreturn\u001b[39;00m\n\u001b[1;32m--> 794\u001b[0m _handle_exception(\n\u001b[0;32m    795\u001b[0m     \u001b[39mself\u001b[39;49m\u001b[39m.\u001b[39;49mignore_callback_errors,\n\u001b[0;32m    796\u001b[0m     \u001b[39mself\u001b[39;49m\u001b[39m.\u001b[39;49mprint_callback_errors,\n\u001b[0;32m    797\u001b[0m     \u001b[39mself\u001b[39;49m,\n\u001b[0;32m    798\u001b[0m     cb_event\u001b[39m=\u001b[39;49m(cb, event),\n\u001b[0;32m    799\u001b[0m )\n",
      "File \u001b[1;32mc:\\Users\\Luis-work\\miniconda3\\envs\\dev\\lib\\site-packages\\napari\\utils\\events\\event.py:783\u001b[0m, in \u001b[0;36mEventEmitter._invoke_callback\u001b[1;34m(self, cb, event)\u001b[0m\n\u001b[0;32m    781\u001b[0m         cb(event)\n\u001b[0;32m    782\u001b[0m     \u001b[39melse\u001b[39;00m:\n\u001b[1;32m--> 783\u001b[0m         cb()\n\u001b[0;32m    784\u001b[0m \u001b[39mexcept\u001b[39;00m \u001b[39mException\u001b[39;00m \u001b[39mas\u001b[39;00m e:\n\u001b[0;32m    785\u001b[0m     \u001b[39m# dead Qt object with living python pointer. not importing Qt\u001b[39;00m\n\u001b[0;32m    786\u001b[0m     \u001b[39m# here... but this error is consistent across backends\u001b[39;00m\n\u001b[0;32m    787\u001b[0m     \u001b[39mif\u001b[39;00m (\n\u001b[0;32m    788\u001b[0m         \u001b[39misinstance\u001b[39m(e, \u001b[39mRuntimeError\u001b[39;00m)\n\u001b[0;32m    789\u001b[0m         \u001b[39mand\u001b[39;00m \u001b[39m'\u001b[39m\u001b[39mC++\u001b[39m\u001b[39m'\u001b[39m \u001b[39min\u001b[39;00m \u001b[39mstr\u001b[39m(e)\n\u001b[0;32m    790\u001b[0m         \u001b[39mand\u001b[39;00m \u001b[39mstr\u001b[39m(e)\u001b[39m.\u001b[39mendswith((\u001b[39m'\u001b[39m\u001b[39mhas been deleted\u001b[39m\u001b[39m'\u001b[39m, \u001b[39m'\u001b[39m\u001b[39malready deleted.\u001b[39m\u001b[39m'\u001b[39m))\n\u001b[0;32m    791\u001b[0m     ):\n",
      "File \u001b[1;32mc:\\Users\\Luis-work\\miniconda3\\envs\\dev\\lib\\site-packages\\napari\\_qt\\widgets\\qt_dims.py:93\u001b[0m, in \u001b[0;36mQtDims._update_range\u001b[1;34m(self)\u001b[0m\n\u001b[0;32m     91\u001b[0m \u001b[39m\u001b[39m\u001b[39m\"\"\"Updates range for a given slider.\"\"\"\u001b[39;00m\n\u001b[0;32m     92\u001b[0m \u001b[39mfor\u001b[39;00m widget \u001b[39min\u001b[39;00m \u001b[39mself\u001b[39m\u001b[39m.\u001b[39mslider_widgets:\n\u001b[1;32m---> 93\u001b[0m     widget\u001b[39m.\u001b[39;49m_update_range()\n\u001b[0;32m     95\u001b[0m nsliders \u001b[39m=\u001b[39m np\u001b[39m.\u001b[39msum(\u001b[39mself\u001b[39m\u001b[39m.\u001b[39m_displayed_sliders)\n\u001b[0;32m     96\u001b[0m \u001b[39mself\u001b[39m\u001b[39m.\u001b[39msetMinimumHeight(nsliders \u001b[39m*\u001b[39m \u001b[39mself\u001b[39m\u001b[39m.\u001b[39mSLIDERHEIGHT)\n",
      "File \u001b[1;32mc:\\Users\\Luis-work\\miniconda3\\envs\\dev\\lib\\site-packages\\napari\\_qt\\widgets\\qt_dims_slider.py:218\u001b[0m, in \u001b[0;36mQtDimSliderWidget._update_range\u001b[1;34m(self)\u001b[0m\n\u001b[0;32m    215\u001b[0m     \u001b[39mself\u001b[39m\u001b[39m.\u001b[39mhide()\n\u001b[0;32m    216\u001b[0m \u001b[39melse\u001b[39;00m:\n\u001b[0;32m    217\u001b[0m     \u001b[39mif\u001b[39;00m (\n\u001b[1;32m--> 218\u001b[0m         \u001b[39mnot\u001b[39;00m displayed_sliders[\u001b[39mself\u001b[39;49m\u001b[39m.\u001b[39;49maxis]\n\u001b[0;32m    219\u001b[0m         \u001b[39mand\u001b[39;00m \u001b[39mself\u001b[39m\u001b[39m.\u001b[39maxis \u001b[39mnot\u001b[39;00m \u001b[39min\u001b[39;00m \u001b[39mself\u001b[39m\u001b[39m.\u001b[39mdims\u001b[39m.\u001b[39mdisplayed\n\u001b[0;32m    220\u001b[0m     ):\n\u001b[0;32m    221\u001b[0m         displayed_sliders[\u001b[39mself\u001b[39m\u001b[39m.\u001b[39maxis] \u001b[39m=\u001b[39m \u001b[39mTrue\u001b[39;00m\n\u001b[0;32m    222\u001b[0m         \u001b[39mself\u001b[39m\u001b[39m.\u001b[39mlast_used \u001b[39m=\u001b[39m \u001b[39mself\u001b[39m\u001b[39m.\u001b[39maxis\n",
      "\u001b[1;31mIndexError\u001b[0m: list index out of range"
     ]
    }
   ],
   "source": [
    "import napari\n",
    "NV=napari.Viewer()"
   ]
  },
  {
   "cell_type": "code",
   "execution_count": 14,
   "metadata": {},
   "outputs": [
    {
     "data": {
      "text/plain": [
       "<Image layer 'res1' at 0x23ef286eda0>"
      ]
     },
     "execution_count": 14,
     "metadata": {},
     "output_type": "execute_result"
    }
   ],
   "source": [
    "NV.add_image(data)\n",
    "NV.add_image(res0)\n",
    "NV.add_image(res1)"
   ]
  }
 ],
 "metadata": {
  "kernelspec": {
   "display_name": "dev",
   "language": "python",
   "name": "python3"
  },
  "language_info": {
   "codemirror_mode": {
    "name": "ipython",
    "version": 3
   },
   "file_extension": ".py",
   "mimetype": "text/x-python",
   "name": "python",
   "nbconvert_exporter": "python",
   "pygments_lexer": "ipython3",
   "version": "3.10.11"
  },
  "orig_nbformat": 4
 },
 "nbformat": 4,
 "nbformat_minor": 2
}
