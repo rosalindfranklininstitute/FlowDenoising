{
 "cells": [
  {
   "attachments": {},
   "cell_type": "markdown",
   "metadata": {},
   "source": [
    "Actually run the calculation through shell"
   ]
  },
  {
   "cell_type": "code",
   "execution_count": 2,
   "metadata": {},
   "outputs": [
    {
     "name": "stdout",
     "output_type": "stream",
     "text": [
      "levels:3\n",
      "winsize:5\n",
      "self.calculation_interrupt:False\n",
      "stopEv.is_set():False\n"
     ]
    },
    {
     "name": "stderr",
     "output_type": "stream",
     "text": [
      "[2023-06-28 16:13:07,298] (INFO) Verbosity level = 1\n",
      "[2023-06-28 16:13:07,298] (INFO) reading \"tempdata2.mrc\"\n",
      "[2023-06-28 16:13:07,307] (INFO) read \"tempdata2.mrc\" in 0.007133099978091195 seconds\n",
      "[2023-06-28 16:13:07,307] (INFO) Number of processing units: 8\n",
      "[2023-06-28 16:13:07,307] (INFO) shape of the input volume (Z, Y, X) = (100, 256, 256)\n",
      "[2023-06-28 16:13:07,307] (INFO) type of the volume = uint16\n",
      "[2023-06-28 16:13:07,307] (INFO) vol requires 12.5 MB\n",
      "[2023-06-28 16:13:07,307] (INFO) data max = 255\n",
      "[2023-06-28 16:13:07,307] (INFO) data min = 0\n",
      "[2023-06-28 16:13:07,314] (INFO) Input vol average = 164.55193878173827\n",
      "[2023-06-28 16:13:07,314] (INFO) sigma=(2.0, 2.0, 2.0)\n",
      "[2023-06-28 16:13:07,314] (INFO) Computing gaussian kernel with sigma=2.0\n",
      "[2023-06-28 16:13:07,314] (INFO) Computing gaussian kernel with sigma=2.0\n",
      "[2023-06-28 16:13:07,314] (INFO) Computing gaussian kernel with sigma=2.0\n",
      "[2023-06-28 16:13:07,314] (INFO) length of each filter (Z, Y, X) = [17, 17, 17]\n",
      "[2023-06-28 16:13:07,324] (INFO) Filtering ...\n",
      "[2023-06-28 16:13:07,326] (INFO) 0/612 completed\n",
      "[2023-06-28 16:13:07,326] (INFO) Filtering along Z\n",
      "[2023-06-28 16:13:07,326] (INFO) Filtering along axis 0 with l=3, w=5, and kernel length=17\n",
      "[2023-06-28 16:13:07,326] (INFO) axis_dim:100\n",
      "[2023-06-28 16:13:07,326] (INFO) self.max_number_of_processes:8\n",
      "[2023-06-28 16:13:07,326] (INFO) n_remain_slices:4\n",
      "[2023-06-28 16:13:07,326] (INFO) chunk_indexes:[0, 12, 24, 36, 48, 60, 72, 84, 96]\n",
      "[2023-06-28 16:13:07,326] (INFO) chunk_sizes:[12, 12, 12, 12, 12, 12, 12, 12, 4]\n",
      "[2023-06-28 16:13:07,326] (INFO) axis_i_s:[0, 0, 0, 0, 0, 0, 0, 0, 0]\n",
      "[2023-06-28 16:13:07,326] (INFO) Starting threads\n",
      "[2023-06-28 16:13:07,327] (INFO) filter_along_axis_chunk_worker() with chunk_start_idx:0, chunk_size:12, axis_i:0\n",
      "[2023-06-28 16:13:07,327] (INFO) filter_along_axis_chunk_worker() with chunk_start_idx:12, chunk_size:12, axis_i:0\n",
      "[2023-06-28 16:13:07,327] (INFO) filter_along_axis_chunk_worker() with chunk_start_idx:24, chunk_size:12, axis_i:0\n",
      "[2023-06-28 16:13:07,327] (INFO) filter_along_axis_chunk_worker() with chunk_start_idx:36, chunk_size:12, axis_i:0\n",
      "[2023-06-28 16:13:07,331] (INFO) filter_along_axis_chunk_worker() with chunk_start_idx:48, chunk_size:12, axis_i:0\n",
      "[2023-06-28 16:13:07,331] (INFO) filter_along_axis_chunk_worker() with chunk_start_idx:60, chunk_size:12, axis_i:0\n",
      "[2023-06-28 16:13:07,331] (INFO) filter_along_axis_chunk_worker() with chunk_start_idx:72, chunk_size:12, axis_i:0\n",
      "[2023-06-28 16:13:07,340] (INFO) filter_along_axis_chunk_worker() with chunk_start_idx:84, chunk_size:12, axis_i:0\n",
      "[2023-06-28 16:13:08,331] (INFO) 8/612 completed\n",
      "[2023-06-28 16:13:09,338] (INFO) 24/612 completed\n",
      "[2023-06-28 16:13:10,353] (INFO) 40/612 completed\n",
      "[2023-06-28 16:13:11,371] (INFO) 56/612 completed\n",
      "[2023-06-28 16:13:12,389] (INFO) 70/612 completed\n",
      "[2023-06-28 16:13:13,391] (INFO) 84/612 completed\n",
      "[2023-06-28 16:13:13,668] (INFO) filter_along_axis_chunk_worker() with chunk_start_idx:96, chunk_size:4, axis_i:0\n",
      "[2023-06-28 16:13:14,411] (INFO) 97/612 completed\n",
      "[2023-06-28 16:13:15,413] (INFO) 99/612 completed\n",
      "[2023-06-28 16:13:15,577] (INFO) Filtering along Y\n",
      "[2023-06-28 16:13:15,577] (INFO) Filtering along axis 1 with l=3, w=5, and kernel length=17\n",
      "[2023-06-28 16:13:15,577] (INFO) axis_dim:256\n",
      "[2023-06-28 16:13:15,577] (INFO) self.max_number_of_processes:8\n",
      "[2023-06-28 16:13:15,577] (INFO) n_remain_slices:0\n",
      "[2023-06-28 16:13:15,577] (INFO) chunk_indexes:[0, 32, 64, 96, 128, 160, 192, 224]\n",
      "[2023-06-28 16:13:15,577] (INFO) chunk_sizes:[32, 32, 32, 32, 32, 32, 32, 32]\n",
      "[2023-06-28 16:13:15,577] (INFO) axis_i_s:[1, 1, 1, 1, 1, 1, 1, 1]\n",
      "[2023-06-28 16:13:15,577] (INFO) Starting threads\n",
      "[2023-06-28 16:13:15,577] (INFO) filter_along_axis_chunk_worker() with chunk_start_idx:0, chunk_size:32, axis_i:1\n",
      "[2023-06-28 16:13:15,577] (INFO) filter_along_axis_chunk_worker() with chunk_start_idx:32, chunk_size:32, axis_i:1\n",
      "[2023-06-28 16:13:15,577] (INFO) filter_along_axis_chunk_worker() with chunk_start_idx:64, chunk_size:32, axis_i:1\n",
      "[2023-06-28 16:13:15,577] (INFO) filter_along_axis_chunk_worker() with chunk_start_idx:96, chunk_size:32, axis_i:1\n",
      "[2023-06-28 16:13:15,577] (INFO) filter_along_axis_chunk_worker() with chunk_start_idx:128, chunk_size:32, axis_i:1\n",
      "[2023-06-28 16:13:15,577] (INFO) filter_along_axis_chunk_worker() with chunk_start_idx:160, chunk_size:32, axis_i:1\n",
      "[2023-06-28 16:13:15,587] (INFO) filter_along_axis_chunk_worker() with chunk_start_idx:192, chunk_size:32, axis_i:1\n",
      "[2023-06-28 16:13:15,592] (INFO) filter_along_axis_chunk_worker() with chunk_start_idx:224, chunk_size:32, axis_i:1\n",
      "[2023-06-28 16:13:16,421] (INFO) 131/612 completed\n",
      "[2023-06-28 16:13:17,442] (INFO) 171/612 completed\n",
      "[2023-06-28 16:13:18,449] (INFO) 212/612 completed\n",
      "[2023-06-28 16:13:19,465] (INFO) 253/612 completed\n",
      "[2023-06-28 16:13:20,475] (INFO) 295/612 completed\n",
      "[2023-06-28 16:13:21,487] (INFO) 336/612 completed\n",
      "[2023-06-28 16:13:21,893] (INFO) Filtering along X\n",
      "[2023-06-28 16:13:21,893] (INFO) Filtering along axis 2 with l=3, w=5, and kernel length=17\n",
      "[2023-06-28 16:13:21,893] (INFO) axis_dim:256\n",
      "[2023-06-28 16:13:21,893] (INFO) self.max_number_of_processes:8\n",
      "[2023-06-28 16:13:21,893] (INFO) n_remain_slices:0\n",
      "[2023-06-28 16:13:21,893] (INFO) chunk_indexes:[0, 32, 64, 96, 128, 160, 192, 224]\n",
      "[2023-06-28 16:13:21,893] (INFO) chunk_sizes:[32, 32, 32, 32, 32, 32, 32, 32]\n",
      "[2023-06-28 16:13:21,893] (INFO) axis_i_s:[2, 2, 2, 2, 2, 2, 2, 2]\n",
      "[2023-06-28 16:13:21,893] (INFO) Starting threads\n",
      "[2023-06-28 16:13:21,893] (INFO) filter_along_axis_chunk_worker() with chunk_start_idx:0, chunk_size:32, axis_i:2\n",
      "[2023-06-28 16:13:21,893] (INFO) filter_along_axis_chunk_worker() with chunk_start_idx:32, chunk_size:32, axis_i:2\n",
      "[2023-06-28 16:13:21,901] (INFO) filter_along_axis_chunk_worker() with chunk_start_idx:64, chunk_size:32, axis_i:2\n",
      "[2023-06-28 16:13:21,901] (INFO) filter_along_axis_chunk_worker() with chunk_start_idx:96, chunk_size:32, axis_i:2\n",
      "[2023-06-28 16:13:21,901] (INFO) filter_along_axis_chunk_worker() with chunk_start_idx:128, chunk_size:32, axis_i:2\n",
      "[2023-06-28 16:13:21,901] (INFO) filter_along_axis_chunk_worker() with chunk_start_idx:160, chunk_size:32, axis_i:2\n",
      "[2023-06-28 16:13:21,901] (INFO) filter_along_axis_chunk_worker() with chunk_start_idx:192, chunk_size:32, axis_i:2\n",
      "[2023-06-28 16:13:21,917] (INFO) filter_along_axis_chunk_worker() with chunk_start_idx:224, chunk_size:32, axis_i:2\n",
      "[2023-06-28 16:13:22,494] (INFO) 372/612 completed\n",
      "[2023-06-28 16:13:23,501] (INFO) 405/612 completed\n",
      "[2023-06-28 16:13:24,503] (INFO) 444/612 completed\n",
      "[2023-06-28 16:13:25,522] (INFO) 481/612 completed\n",
      "[2023-06-28 16:13:26,524] (INFO) 516/612 completed\n",
      "[2023-06-28 16:13:27,529] (INFO) 551/612 completed\n",
      "[2023-06-28 16:13:28,542] (INFO) 588/612 completed\n",
      "[2023-06-28 16:13:29,118] (INFO) Volume filtered in 21.795106299978215 seconds\n",
      "[2023-06-28 16:13:29,118] (INFO) tempdata2_denoised_rfi1.mrc type = uint16\n",
      "[2023-06-28 16:13:29,118] (INFO) tempdata2_denoised_rfi1.mrc max = 233\n",
      "[2023-06-28 16:13:29,118] (INFO) tempdata2_denoised_rfi1.mrc min = 39\n",
      "[2023-06-28 16:13:29,126] (INFO) tempdata2_denoised_rfi1.mrc average = 163.073670501709\n",
      "[2023-06-28 16:13:29,126] (INFO) tempdata2_denoised_rfi1.mrc type = uint16\n",
      "[2023-06-28 16:13:29,134] (INFO) tempdata2_denoised_rfi1.mrc max = 233\n",
      "[2023-06-28 16:13:29,134] (INFO) tempdata2_denoised_rfi1.mrc min = 39\n",
      "[2023-06-28 16:13:29,142] (INFO) tempdata2_denoised_rfi1.mrc average = 163.073670501709\n",
      "[2023-06-28 16:13:29,142] (INFO) writting \"tempdata2_denoised_rfi1.mrc\"\n",
      "[2023-06-28 16:13:29,216] (INFO) written \"tempdata2_denoised_rfi1.mrc\" in 0.07806770000024699 seconds\n"
     ]
    }
   ],
   "source": [
    "!python ../src/flowdenoisingRFI_threaded.py -i \"tempdata2.mrc\" -o \"tempdata2_denoised_rfi1.mrc\" -v 1"
   ]
  },
  {
   "attachments": {},
   "cell_type": "markdown",
   "metadata": {},
   "source": [
    "Get results"
   ]
  },
  {
   "cell_type": "code",
   "execution_count": 2,
   "metadata": {},
   "outputs": [],
   "source": [
    "import numpy as np\n",
    "import mrcfile"
   ]
  },
  {
   "cell_type": "code",
   "execution_count": 3,
   "metadata": {},
   "outputs": [],
   "source": [
    "with mrcfile.open(r\"tempdata2_denoised_rfi.mrc\", mode=\"r+\") as mrcfile0:\n",
    "    data_denoised_RFI=mrcfile0.data"
   ]
  },
  {
   "attachments": {},
   "cell_type": "markdown",
   "metadata": {},
   "source": [
    "Load calculation that was denoised using original flowdenoiser.py. Note that this was calculated in Linux because the script does not work in windows "
   ]
  },
  {
   "cell_type": "code",
   "execution_count": 4,
   "metadata": {},
   "outputs": [],
   "source": [
    "with mrcfile.open(r\"C:\\Users\\Luis-work\\Desktop\\GLOBUS_endpoint\\FlowDenoising\\to denoise in VM\\tempdata2_denoised_orig.mrc\", mode=\"r+\") as mrcfile0:\n",
    "    data_denoised_orig=mrcfile0.data"
   ]
  },
  {
   "cell_type": "code",
   "execution_count": 5,
   "metadata": {},
   "outputs": [
    {
     "name": "stdout",
     "output_type": "stream",
     "text": [
      "(100, 256, 256)\n",
      "float32\n"
     ]
    }
   ],
   "source": [
    "print(data_denoised_orig.shape)\n",
    "print(data_denoised_orig.dtype)"
   ]
  },
  {
   "cell_type": "code",
   "execution_count": 6,
   "metadata": {},
   "outputs": [
    {
     "name": "stdout",
     "output_type": "stream",
     "text": [
      "(100, 256, 256)\n",
      "float32\n"
     ]
    }
   ],
   "source": [
    "print(data_denoised_RFI.shape)\n",
    "print(data_denoised_RFI.dtype)"
   ]
  },
  {
   "attachments": {},
   "cell_type": "markdown",
   "metadata": {},
   "source": [
    "Compare"
   ]
  },
  {
   "cell_type": "code",
   "execution_count": 7,
   "metadata": {},
   "outputs": [
    {
     "data": {
      "text/plain": [
       "False"
      ]
     },
     "execution_count": 7,
     "metadata": {},
     "output_type": "execute_result"
    }
   ],
   "source": [
    "np.allclose(data_denoised_orig, data_denoised_RFI, atol=1e-8)"
   ]
  },
  {
   "cell_type": "code",
   "execution_count": 8,
   "metadata": {},
   "outputs": [
    {
     "data": {
      "text/plain": [
       "array([[[162., 165., 165., ..., 156., 157., 160.],\n",
       "        [172., 172., 170., ..., 162., 167., 170.],\n",
       "        [177., 178., 175., ..., 163., 169., 174.],\n",
       "        ...,\n",
       "        [132., 138., 143., ..., 128., 126., 128.],\n",
       "        [136., 143., 149., ..., 129., 129., 132.],\n",
       "        [148., 152., 157., ..., 146., 144., 145.]],\n",
       "\n",
       "       [[155., 160., 163., ..., 148., 146., 150.],\n",
       "        [164., 167., 165., ..., 151., 153., 160.],\n",
       "        [167., 172., 170., ..., 151., 158., 165.],\n",
       "        ...,\n",
       "        [130., 141., 151., ..., 117., 117., 123.],\n",
       "        [133., 144., 154., ..., 119., 120., 126.],\n",
       "        [139., 146., 153., ..., 129., 129., 133.]],\n",
       "\n",
       "       [[154., 160., 163., ..., 151., 147., 148.],\n",
       "        [158., 165., 165., ..., 143., 145., 152.],\n",
       "        [161., 168., 167., ..., 139., 143., 154.],\n",
       "        ...,\n",
       "        [131., 142., 152., ..., 122., 120., 122.],\n",
       "        [129., 136., 142., ..., 127., 124., 124.],\n",
       "        [133., 137., 141., ..., 134., 130., 130.]],\n",
       "\n",
       "       ...,\n",
       "\n",
       "       [[165., 157., 152., ..., 181., 179., 173.],\n",
       "        [173., 166., 158., ..., 181., 182., 178.],\n",
       "        [176., 168., 160., ..., 184., 185., 181.],\n",
       "        ...,\n",
       "        [113., 105., 104., ..., 137., 129., 119.],\n",
       "        [120., 108., 105., ..., 153., 140., 129.],\n",
       "        [132., 119., 113., ..., 177., 163., 147.]],\n",
       "\n",
       "       [[159., 150., 143., ..., 171., 170., 166.],\n",
       "        [167., 159., 151., ..., 172., 173., 171.],\n",
       "        [170., 162., 154., ..., 171., 174., 173.],\n",
       "        ...,\n",
       "        [118., 108., 103., ..., 152., 139., 127.],\n",
       "        [127., 115., 108., ..., 163., 150., 138.],\n",
       "        [137., 124., 116., ..., 177., 165., 151.]],\n",
       "\n",
       "       [[155., 150., 146., ..., 161., 162., 160.],\n",
       "        [165., 161., 157., ..., 167., 168., 167.],\n",
       "        [169., 165., 162., ..., 168., 170., 170.],\n",
       "        ...,\n",
       "        [124., 113., 107., ..., 168., 153., 138.],\n",
       "        [131., 119., 112., ..., 172., 158., 144.],\n",
       "        [141., 130., 122., ..., 175., 166., 154.]]], dtype=float32)"
      ]
     },
     "execution_count": 8,
     "metadata": {},
     "output_type": "execute_result"
    }
   ],
   "source": [
    "data_denoised_orig"
   ]
  },
  {
   "cell_type": "code",
   "execution_count": 9,
   "metadata": {},
   "outputs": [
    {
     "data": {
      "text/plain": [
       "array([[[160., 163., 163., ..., 149., 153., 157.],\n",
       "        [172., 172., 170., ..., 160., 165., 169.],\n",
       "        [176., 176., 172., ..., 163., 169., 174.],\n",
       "        ...,\n",
       "        [131., 136., 142., ..., 127., 126., 127.],\n",
       "        [137., 144., 150., ..., 130., 131., 133.],\n",
       "        [149., 154., 160., ..., 147., 146., 146.]],\n",
       "\n",
       "       [[151., 157., 159., ..., 140., 140., 145.],\n",
       "        [162., 165., 163., ..., 149., 151., 156.],\n",
       "        [165., 170., 167., ..., 150., 156., 163.],\n",
       "        ...,\n",
       "        [131., 141., 151., ..., 117., 116., 122.],\n",
       "        [133., 144., 154., ..., 120., 120., 125.],\n",
       "        [139., 148., 155., ..., 128., 129., 133.]],\n",
       "\n",
       "       [[149., 156., 160., ..., 139., 138., 141.],\n",
       "        [156., 164., 163., ..., 140., 141., 148.],\n",
       "        [158., 166., 167., ..., 139., 140., 147.],\n",
       "        ...,\n",
       "        [132., 142., 151., ..., 124., 122., 123.],\n",
       "        [130., 137., 142., ..., 127., 125., 124.],\n",
       "        [136., 140., 144., ..., 136., 132., 133.]],\n",
       "\n",
       "       ...,\n",
       "\n",
       "       [[171., 165., 160., ..., 179., 180., 176.],\n",
       "        [176., 169., 162., ..., 183., 184., 181.],\n",
       "        [176., 168., 161., ..., 183., 185., 182.],\n",
       "        ...,\n",
       "        [114., 105., 106., ..., 136., 128., 118.],\n",
       "        [121., 109., 106., ..., 152., 139., 128.],\n",
       "        [133., 120., 114., ..., 176., 164., 149.]],\n",
       "\n",
       "       [[161., 156., 151., ..., 169., 169., 166.],\n",
       "        [168., 161., 154., ..., 171., 172., 171.],\n",
       "        [169., 161., 153., ..., 172., 174., 172.],\n",
       "        ...,\n",
       "        [119., 109., 104., ..., 153., 139., 127.],\n",
       "        [129., 118., 111., ..., 162., 150., 138.],\n",
       "        [139., 127., 120., ..., 177., 167., 153.]],\n",
       "\n",
       "       [[157., 153., 150., ..., 164., 164., 162.],\n",
       "        [166., 162., 159., ..., 170., 170., 169.],\n",
       "        [170., 167., 163., ..., 171., 172., 172.],\n",
       "        ...,\n",
       "        [126., 115., 109., ..., 168., 154., 138.],\n",
       "        [132., 122., 116., ..., 172., 159., 145.],\n",
       "        [143., 133., 125., ..., 176., 167., 155.]]], dtype=float32)"
      ]
     },
     "execution_count": 9,
     "metadata": {},
     "output_type": "execute_result"
    }
   ],
   "source": [
    "data_denoised_RFI"
   ]
  },
  {
   "cell_type": "code",
   "execution_count": 10,
   "metadata": {},
   "outputs": [
    {
     "data": {
      "text/plain": [
       "False"
      ]
     },
     "execution_count": 10,
     "metadata": {},
     "output_type": "execute_result"
    }
   ],
   "source": [
    "np.array_equal(data_denoised_orig,data_denoised_RFI)"
   ]
  },
  {
   "cell_type": "code",
   "execution_count": 18,
   "metadata": {},
   "outputs": [],
   "source": [
    "import napari\n",
    "NV=napari.Viewer()"
   ]
  },
  {
   "cell_type": "code",
   "execution_count": 19,
   "metadata": {},
   "outputs": [
    {
     "data": {
      "text/plain": [
       "<Image layer 'data_denoised_RFI' at 0x25b37f5ffd0>"
      ]
     },
     "execution_count": 19,
     "metadata": {},
     "output_type": "execute_result"
    }
   ],
   "source": [
    "NV.add_image(data_denoised_orig)\n",
    "NV.add_image(data_denoised_RFI)"
   ]
  },
  {
   "attachments": {},
   "cell_type": "markdown",
   "metadata": {},
   "source": [
    "Not equal anymore but look very similar"
   ]
  },
  {
   "cell_type": "code",
   "execution_count": 20,
   "metadata": {},
   "outputs": [
    {
     "data": {
      "text/plain": [
       "<Image layer 'Image' at 0x25b43010040>"
      ]
     },
     "execution_count": 20,
     "metadata": {},
     "output_type": "execute_result"
    }
   ],
   "source": [
    "NV.add_image(np.abs(data_denoised_orig-data_denoised_RFI))"
   ]
  },
  {
   "cell_type": "code",
   "execution_count": null,
   "metadata": {},
   "outputs": [],
   "source": []
  }
 ],
 "metadata": {
  "kernelspec": {
   "display_name": "dev",
   "language": "python",
   "name": "python3"
  },
  "language_info": {
   "codemirror_mode": {
    "name": "ipython",
    "version": 3
   },
   "file_extension": ".py",
   "mimetype": "text/x-python",
   "name": "python",
   "nbconvert_exporter": "python",
   "pygments_lexer": "ipython3",
   "version": "3.10.11"
  },
  "orig_nbformat": 4
 },
 "nbformat": 4,
 "nbformat_minor": 2
}
