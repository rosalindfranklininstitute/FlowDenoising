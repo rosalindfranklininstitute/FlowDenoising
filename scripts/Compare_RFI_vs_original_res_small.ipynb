{
 "cells": [
  {
   "attachments": {},
   "cell_type": "markdown",
   "metadata": {},
   "source": [
    "Run the calculations through shell"
   ]
  },
  {
   "cell_type": "code",
   "execution_count": 1,
   "metadata": {},
   "outputs": [
    {
     "name": "stderr",
     "output_type": "stream",
     "text": [
      "[2023-07-05 13:14:39,573] (INFO) Verbosity level = 1\n",
      "[2023-07-05 13:14:39,574] (INFO) reading \"tempdata2.mrc\"\n",
      "[2023-07-05 13:14:39,574] (INFO) Input file is MRC\n",
      "[2023-07-05 13:14:39,582] (INFO) read \"tempdata2.mrc\" in 0.007358000002568588 seconds\n",
      "[2023-07-05 13:14:39,582] (INFO) args : Namespace(input='tempdata2.mrc', output='tempdata2_denoised_rfi_thr.mrc', sigma=(2.0, 2.0, 2.0), levels=3, winsize=5, verbosity=1, no_OF=False, number_of_processes=8, recompute_flow=False, timeout=30, procmode='threaded')\n",
      "[2023-07-05 13:14:39,582] (INFO) Number of processing units: 8\n",
      "[2023-07-05 13:14:39,583] (INFO) length of each filter (Z, Y, X) = [17, 17, 17]\n",
      "[2023-07-05 13:14:39,583] (INFO) shape of the input volume (Z, Y, X) = (100, 256, 256)\n",
      "[2023-07-05 13:14:39,584] (INFO) type of the volume = uint16\n",
      "[2023-07-05 13:14:39,584] (INFO) vol requires 12.5 MB\n",
      "[2023-07-05 13:14:39,584] (INFO) data max = 255\n",
      "[2023-07-05 13:14:39,585] (INFO) data min = 0\n",
      "[2023-07-05 13:14:39,590] (INFO) Input vol average = 164.55193878173827\n",
      "[2023-07-05 13:14:39,591] (INFO) length of each filter (Z, Y, X) = [17, 17, 17]\n",
      "[2023-07-05 13:14:39,599] (INFO) Filtering ...\n",
      "[2023-07-05 13:14:39,600] (INFO) 0/612 completed\n",
      "[2023-07-05 13:14:39,601] (INFO) Filtering along Z\n",
      "[2023-07-05 13:14:39,601] (INFO) axis_dim:100\n",
      "[2023-07-05 13:14:39,601] (INFO) self.max_number_of_processes:8\n",
      "[2023-07-05 13:14:39,601] (INFO) n_remain_slices:4\n",
      "[2023-07-05 13:14:39,601] (INFO) chunk_indexes:[0, 12, 24, 36, 48, 60, 72, 84, 96]\n",
      "[2023-07-05 13:14:39,601] (INFO) chunk_sizes:[12, 12, 12, 12, 12, 12, 12, 12, 4]\n",
      "[2023-07-05 13:14:39,601] (INFO) axis_i_s:[0, 0, 0, 0, 0, 0, 0, 0, 0]\n",
      "[2023-07-05 13:14:39,601] (INFO) Starting threads\n",
      "[2023-07-05 13:14:40,614] (INFO) 10/612 completed\n",
      "[2023-07-05 13:14:41,624] (INFO) 26/612 completed\n",
      "[2023-07-05 13:14:42,634] (INFO) 47/612 completed\n",
      "[2023-07-05 13:14:43,649] (INFO) 64/612 completed\n",
      "[2023-07-05 13:14:44,661] (INFO) 80/612 completed\n",
      "[2023-07-05 13:14:45,672] (INFO) 97/612 completed\n",
      "[2023-07-05 13:14:46,311] (INFO) Filtering along Y\n",
      "[2023-07-05 13:14:46,311] (INFO) axis_dim:256\n",
      "[2023-07-05 13:14:46,311] (INFO) self.max_number_of_processes:8\n",
      "[2023-07-05 13:14:46,311] (INFO) n_remain_slices:0\n",
      "[2023-07-05 13:14:46,311] (INFO) chunk_indexes:[0, 32, 64, 96, 128, 160, 192, 224]\n",
      "[2023-07-05 13:14:46,311] (INFO) chunk_sizes:[32, 32, 32, 32, 32, 32, 32, 32]\n",
      "[2023-07-05 13:14:46,311] (INFO) axis_i_s:[1, 1, 1, 1, 1, 1, 1, 1]\n",
      "[2023-07-05 13:14:46,311] (INFO) Starting threads\n",
      "[2023-07-05 13:14:46,676] (INFO) 115/612 completed\n",
      "[2023-07-05 13:14:47,683] (INFO) 156/612 completed\n",
      "[2023-07-05 13:14:48,692] (INFO) 204/612 completed\n",
      "[2023-07-05 13:14:49,698] (INFO) 253/612 completed\n",
      "[2023-07-05 13:14:50,711] (INFO) 301/612 completed\n",
      "[2023-07-05 13:14:51,719] (INFO) 348/612 completed\n",
      "[2023-07-05 13:14:51,837] (INFO) Filtering along X\n",
      "[2023-07-05 13:14:51,837] (INFO) axis_dim:256\n",
      "[2023-07-05 13:14:51,837] (INFO) self.max_number_of_processes:8\n",
      "[2023-07-05 13:14:51,837] (INFO) n_remain_slices:0\n",
      "[2023-07-05 13:14:51,837] (INFO) chunk_indexes:[0, 32, 64, 96, 128, 160, 192, 224]\n",
      "[2023-07-05 13:14:51,837] (INFO) chunk_sizes:[32, 32, 32, 32, 32, 32, 32, 32]\n",
      "[2023-07-05 13:14:51,837] (INFO) axis_i_s:[2, 2, 2, 2, 2, 2, 2, 2]\n",
      "[2023-07-05 13:14:51,837] (INFO) Starting threads\n",
      "[2023-07-05 13:14:52,726] (INFO) 385/612 completed\n",
      "[2023-07-05 13:14:53,742] (INFO) 424/612 completed\n",
      "[2023-07-05 13:14:54,745] (INFO) 464/612 completed\n",
      "[2023-07-05 13:14:55,768] (INFO) 504/612 completed\n",
      "[2023-07-05 13:14:56,786] (INFO) 545/612 completed\n",
      "[2023-07-05 13:14:57,796] (INFO) 585/612 completed\n",
      "[2023-07-05 13:14:58,435] (INFO) Volume filtered in 18.83522899998934 seconds\n",
      "[2023-07-05 13:14:58,437] (INFO) tempdata2_denoised_rfi_thr.mrc type = uint16\n",
      "[2023-07-05 13:14:58,437] (INFO) tempdata2_denoised_rfi_thr.mrc max = 233\n",
      "[2023-07-05 13:14:58,438] (INFO) tempdata2_denoised_rfi_thr.mrc min = 39\n",
      "[2023-07-05 13:14:58,443] (INFO) tempdata2_denoised_rfi_thr.mrc average = 163.05266387939454\n",
      "[2023-07-05 13:14:58,443] (INFO) writting \"tempdata2_denoised_rfi_thr.mrc\"\n",
      "[2023-07-05 13:14:58,443] (INFO) Writting MRC file\n",
      "[2023-07-05 13:14:58,475] (INFO) written \"tempdata2_denoised_rfi_thr.mrc\" in 0.03130039997631684 seconds\n"
     ]
    }
   ],
   "source": [
    "!python ..\\src\\flowdenoising\\flowdenoising_mod.py -i \"tempdata2.mrc\" -o \"tempdata2_denoised_rfi_thr.mrc\" -v 1"
   ]
  },
  {
   "attachments": {},
   "cell_type": "markdown",
   "metadata": {},
   "source": [
    "Run calculation using the multiprocess version"
   ]
  },
  {
   "cell_type": "code",
   "execution_count": 3,
   "metadata": {},
   "outputs": [
    {
     "name": "stdout",
     "output_type": "stream",
     "text": [
      "torun:c:\\Users\\Luis-work\\Desktop\\Others\\git-FlowDenosing\\FlowDenoising\\src\\flowdenoising\\_flowdenoising_subprocessMP.py\n",
      "subprocess result stdout: \n",
      "\n",
      "subprocess result stderr:\n",
      "\n"
     ]
    },
    {
     "name": "stderr",
     "output_type": "stream",
     "text": [
      "[2023-07-05 13:15:20,715] (INFO) Verbosity level = 1\n",
      "[2023-07-05 13:15:20,715] (INFO) reading \"tempdata2.mrc\"\n",
      "[2023-07-05 13:15:20,715] (INFO) Input file is MRC\n",
      "[2023-07-05 13:15:20,720] (INFO) read \"tempdata2.mrc\" in 0.005085100012365729 seconds\n",
      "[2023-07-05 13:15:20,720] (INFO) args : Namespace(input='tempdata2.mrc', output='tempdata2_denoised_rfi_mp.mrc', sigma=(2.0, 2.0, 2.0), levels=3, winsize=5, verbosity=1, no_OF=False, number_of_processes=8, recompute_flow=False, timeout=30, procmode='multiproc')\n",
      "[2023-07-05 13:15:20,720] (INFO) Number of processing units: 8\n",
      "[2023-07-05 13:15:20,721] (INFO) length of each filter (Z, Y, X) = [17, 17, 17]\n",
      "[2023-07-05 13:15:20,721] (INFO) shape of the input volume (Z, Y, X) = (100, 256, 256)\n",
      "[2023-07-05 13:15:20,721] (INFO) type of the volume = uint16\n",
      "[2023-07-05 13:15:20,721] (INFO) vol requires 12.5 MB\n",
      "[2023-07-05 13:15:20,723] (INFO) data max = 255\n",
      "[2023-07-05 13:15:20,724] (INFO) data min = 0\n",
      "[2023-07-05 13:15:20,729] (INFO) Input vol average = 164.55193878173827\n",
      "[2023-07-05 13:15:20,730] (INFO) length of each filter (Z, Y, X) = [17, 17, 17]\n",
      "[2023-07-05 13:15:20,733] (INFO) Filtering ...\n",
      "[2023-07-05 13:15:20,735] (INFO) 0/612 completed\n",
      "[2023-07-05 13:15:21,749] (INFO) 0/612 completed\n",
      "[2023-07-05 13:15:22,763] (INFO) 16/612 completed\n",
      "[2023-07-05 13:15:23,786] (INFO) 32/612 completed\n",
      "[2023-07-05 13:15:24,794] (INFO) 48/612 completed\n",
      "[2023-07-05 13:15:25,796] (INFO) 64/612 completed\n",
      "[2023-07-05 13:15:26,825] (INFO) 80/612 completed\n",
      "[2023-07-05 13:15:27,838] (INFO) 97/612 completed\n",
      "[2023-07-05 13:15:28,853] (INFO) 100/612 completed\n",
      "[2023-07-05 13:15:29,867] (INFO) 137/612 completed\n",
      "[2023-07-05 13:15:30,892] (INFO) 182/612 completed\n",
      "[2023-07-05 13:15:31,912] (INFO) 229/612 completed\n",
      "[2023-07-05 13:15:32,917] (INFO) 277/612 completed\n",
      "[2023-07-05 13:15:33,944] (INFO) 325/612 completed\n",
      "[2023-07-05 13:15:34,955] (INFO) 356/612 completed\n",
      "[2023-07-05 13:15:35,962] (INFO) 380/612 completed\n",
      "[2023-07-05 13:15:36,977] (INFO) 420/612 completed\n",
      "[2023-07-05 13:15:37,989] (INFO) 460/612 completed\n",
      "[2023-07-05 13:15:39,012] (INFO) 499/612 completed\n",
      "[2023-07-05 13:15:40,027] (INFO) 538/612 completed\n",
      "[2023-07-05 13:15:41,039] (INFO) 577/612 completed\n",
      "[2023-07-05 13:15:42,007] (INFO) Volume filtered in 21.27343239999027 seconds\n",
      "[2023-07-05 13:15:42,009] (INFO) tempdata2_denoised_rfi_mp.mrc type = uint16\n",
      "[2023-07-05 13:15:42,010] (INFO) tempdata2_denoised_rfi_mp.mrc max = 233\n",
      "[2023-07-05 13:15:42,011] (INFO) tempdata2_denoised_rfi_mp.mrc min = 39\n",
      "[2023-07-05 13:15:42,017] (INFO) tempdata2_denoised_rfi_mp.mrc average = 163.05266387939454\n",
      "[2023-07-05 13:15:42,017] (INFO) writting \"tempdata2_denoised_rfi_mp.mrc\"\n",
      "[2023-07-05 13:15:42,017] (INFO) Writting MRC file\n",
      "[2023-07-05 13:15:42,050] (INFO) written \"tempdata2_denoised_rfi_mp.mrc\" in 0.032404800003860146 seconds\n"
     ]
    }
   ],
   "source": [
    "!python ..\\src\\flowdenoising\\flowdenoising_mod.py -i \"tempdata2.mrc\" -o \"tempdata2_denoised_rfi_mp.mrc\" -v 1 --procmode multiproc"
   ]
  },
  {
   "attachments": {},
   "cell_type": "markdown",
   "metadata": {},
   "source": [
    "# Analyse results"
   ]
  },
  {
   "cell_type": "code",
   "execution_count": 4,
   "metadata": {},
   "outputs": [],
   "source": [
    "import numpy as np\n",
    "import mrcfile"
   ]
  },
  {
   "cell_type": "code",
   "execution_count": 5,
   "metadata": {},
   "outputs": [],
   "source": [
    "with mrcfile.open(r\"tempdata2_denoised_rfi_thr.mrc\", mode=\"r+\") as mrcfile0:\n",
    "    data_denoised_rfi_thr=mrcfile0.data"
   ]
  },
  {
   "cell_type": "code",
   "execution_count": 6,
   "metadata": {},
   "outputs": [],
   "source": [
    "with mrcfile.open(r\"tempdata2_denoised_rfi_mp.mrc\", mode=\"r+\") as mrcfile0:\n",
    "    data_denoised_rfi_mp=mrcfile0.data"
   ]
  },
  {
   "attachments": {},
   "cell_type": "markdown",
   "metadata": {},
   "source": [
    "Load calculation that was denoised using original flowdenoiser.py. Note that this was calculated in Linux because the script does not work in windows "
   ]
  },
  {
   "cell_type": "code",
   "execution_count": 7,
   "metadata": {},
   "outputs": [],
   "source": [
    "with mrcfile.open(r\"C:\\Users\\Luis-work\\Desktop\\GLOBUS_endpoint\\FlowDenoising\\to denoise in VM\\tempdata2_denoised_orig.mrc\", mode=\"r+\") as mrcfile0:\n",
    "    data_denoised_orig=mrcfile0.data"
   ]
  },
  {
   "cell_type": "code",
   "execution_count": 9,
   "metadata": {},
   "outputs": [
    {
     "name": "stdout",
     "output_type": "stream",
     "text": [
      "(100, 256, 256)\n",
      "(100, 256, 256)\n",
      "(100, 256, 256)\n"
     ]
    }
   ],
   "source": [
    "print(data_denoised_rfi_thr.shape)\n",
    "print(data_denoised_rfi_mp.shape)\n",
    "print(data_denoised_orig.shape)"
   ]
  },
  {
   "cell_type": "code",
   "execution_count": 10,
   "metadata": {},
   "outputs": [
    {
     "name": "stdout",
     "output_type": "stream",
     "text": [
      "uint16\n",
      "uint16\n",
      "float32\n"
     ]
    }
   ],
   "source": [
    "print(data_denoised_rfi_thr.dtype)\n",
    "print(data_denoised_rfi_mp.dtype)\n",
    "print(data_denoised_orig.dtype)"
   ]
  },
  {
   "attachments": {},
   "cell_type": "markdown",
   "metadata": {},
   "source": [
    "Compare"
   ]
  },
  {
   "cell_type": "code",
   "execution_count": 11,
   "metadata": {},
   "outputs": [
    {
     "data": {
      "text/plain": [
       "True"
      ]
     },
     "execution_count": 11,
     "metadata": {},
     "output_type": "execute_result"
    }
   ],
   "source": [
    "np.allclose(data_denoised_orig, data_denoised_rfi_thr, atol=1e-8)"
   ]
  },
  {
   "cell_type": "code",
   "execution_count": 12,
   "metadata": {},
   "outputs": [
    {
     "data": {
      "text/plain": [
       "True"
      ]
     },
     "execution_count": 12,
     "metadata": {},
     "output_type": "execute_result"
    }
   ],
   "source": [
    "np.allclose(data_denoised_orig, data_denoised_rfi_mp, atol=1e-8)"
   ]
  },
  {
   "attachments": {},
   "cell_type": "markdown",
   "metadata": {},
   "source": [
    "Compare if they are exactly equal"
   ]
  },
  {
   "cell_type": "code",
   "execution_count": 13,
   "metadata": {},
   "outputs": [
    {
     "data": {
      "text/plain": [
       "True"
      ]
     },
     "execution_count": 13,
     "metadata": {},
     "output_type": "execute_result"
    }
   ],
   "source": [
    "np.array_equal(data_denoised_orig,data_denoised_rfi_thr)"
   ]
  },
  {
   "cell_type": "code",
   "execution_count": 14,
   "metadata": {},
   "outputs": [
    {
     "data": {
      "text/plain": [
       "True"
      ]
     },
     "execution_count": 14,
     "metadata": {},
     "output_type": "execute_result"
    }
   ],
   "source": [
    "np.array_equal(data_denoised_orig,data_denoised_rfi_mp)"
   ]
  },
  {
   "attachments": {},
   "cell_type": "markdown",
   "metadata": {},
   "source": [
    "View results"
   ]
  },
  {
   "cell_type": "code",
   "execution_count": 15,
   "metadata": {},
   "outputs": [
    {
     "data": {
      "text/plain": [
       "array([[[162., 165., 165., ..., 156., 157., 160.],\n",
       "        [172., 172., 170., ..., 162., 167., 170.],\n",
       "        [177., 178., 175., ..., 163., 169., 174.],\n",
       "        ...,\n",
       "        [132., 138., 143., ..., 128., 126., 128.],\n",
       "        [136., 143., 149., ..., 129., 129., 132.],\n",
       "        [148., 152., 157., ..., 146., 144., 145.]],\n",
       "\n",
       "       [[155., 160., 163., ..., 148., 146., 150.],\n",
       "        [164., 167., 165., ..., 151., 153., 160.],\n",
       "        [167., 172., 170., ..., 151., 158., 165.],\n",
       "        ...,\n",
       "        [130., 141., 151., ..., 117., 117., 123.],\n",
       "        [133., 144., 154., ..., 119., 120., 126.],\n",
       "        [139., 146., 153., ..., 129., 129., 133.]],\n",
       "\n",
       "       [[154., 160., 163., ..., 151., 147., 148.],\n",
       "        [158., 165., 165., ..., 143., 145., 152.],\n",
       "        [161., 168., 167., ..., 139., 143., 154.],\n",
       "        ...,\n",
       "        [131., 142., 152., ..., 122., 120., 122.],\n",
       "        [129., 136., 142., ..., 127., 124., 124.],\n",
       "        [133., 137., 141., ..., 134., 130., 130.]],\n",
       "\n",
       "       ...,\n",
       "\n",
       "       [[165., 157., 152., ..., 181., 179., 173.],\n",
       "        [173., 166., 158., ..., 181., 182., 178.],\n",
       "        [176., 168., 160., ..., 184., 185., 181.],\n",
       "        ...,\n",
       "        [113., 105., 104., ..., 137., 129., 119.],\n",
       "        [120., 108., 105., ..., 153., 140., 129.],\n",
       "        [132., 119., 113., ..., 177., 163., 147.]],\n",
       "\n",
       "       [[159., 150., 143., ..., 171., 170., 166.],\n",
       "        [167., 159., 151., ..., 172., 173., 171.],\n",
       "        [170., 162., 154., ..., 171., 174., 173.],\n",
       "        ...,\n",
       "        [118., 108., 103., ..., 152., 139., 127.],\n",
       "        [127., 115., 108., ..., 163., 150., 138.],\n",
       "        [137., 124., 116., ..., 177., 165., 151.]],\n",
       "\n",
       "       [[155., 150., 146., ..., 161., 162., 160.],\n",
       "        [165., 161., 157., ..., 167., 168., 167.],\n",
       "        [169., 165., 162., ..., 168., 170., 170.],\n",
       "        ...,\n",
       "        [124., 113., 107., ..., 168., 153., 138.],\n",
       "        [131., 119., 112., ..., 172., 158., 144.],\n",
       "        [141., 130., 122., ..., 175., 166., 154.]]], dtype=float32)"
      ]
     },
     "execution_count": 15,
     "metadata": {},
     "output_type": "execute_result"
    }
   ],
   "source": [
    "data_denoised_orig"
   ]
  },
  {
   "cell_type": "code",
   "execution_count": 16,
   "metadata": {},
   "outputs": [
    {
     "data": {
      "text/plain": [
       "array([[[162, 165, 165, ..., 156, 157, 160],\n",
       "        [172, 172, 170, ..., 162, 167, 170],\n",
       "        [177, 178, 175, ..., 163, 169, 174],\n",
       "        ...,\n",
       "        [132, 138, 143, ..., 128, 126, 128],\n",
       "        [136, 143, 149, ..., 129, 129, 132],\n",
       "        [148, 152, 157, ..., 146, 144, 145]],\n",
       "\n",
       "       [[155, 160, 163, ..., 148, 146, 150],\n",
       "        [164, 167, 165, ..., 151, 153, 160],\n",
       "        [167, 172, 170, ..., 151, 158, 165],\n",
       "        ...,\n",
       "        [130, 141, 151, ..., 117, 117, 123],\n",
       "        [133, 144, 154, ..., 119, 120, 126],\n",
       "        [139, 146, 153, ..., 129, 129, 133]],\n",
       "\n",
       "       [[154, 160, 163, ..., 151, 147, 148],\n",
       "        [158, 165, 165, ..., 143, 145, 152],\n",
       "        [161, 168, 167, ..., 139, 143, 154],\n",
       "        ...,\n",
       "        [131, 142, 152, ..., 122, 120, 122],\n",
       "        [129, 136, 142, ..., 127, 124, 124],\n",
       "        [133, 137, 141, ..., 134, 130, 130]],\n",
       "\n",
       "       ...,\n",
       "\n",
       "       [[165, 157, 152, ..., 181, 179, 173],\n",
       "        [173, 166, 158, ..., 181, 182, 178],\n",
       "        [176, 168, 160, ..., 184, 185, 181],\n",
       "        ...,\n",
       "        [113, 105, 104, ..., 137, 129, 119],\n",
       "        [120, 108, 105, ..., 153, 140, 129],\n",
       "        [132, 119, 113, ..., 177, 163, 147]],\n",
       "\n",
       "       [[159, 150, 143, ..., 171, 170, 166],\n",
       "        [167, 159, 151, ..., 172, 173, 171],\n",
       "        [170, 162, 154, ..., 171, 174, 173],\n",
       "        ...,\n",
       "        [118, 108, 103, ..., 152, 139, 127],\n",
       "        [127, 115, 108, ..., 163, 150, 138],\n",
       "        [137, 124, 116, ..., 177, 165, 151]],\n",
       "\n",
       "       [[155, 150, 146, ..., 161, 162, 160],\n",
       "        [165, 161, 157, ..., 167, 168, 167],\n",
       "        [169, 165, 162, ..., 168, 170, 170],\n",
       "        ...,\n",
       "        [124, 113, 107, ..., 168, 153, 138],\n",
       "        [131, 119, 112, ..., 172, 158, 144],\n",
       "        [141, 130, 122, ..., 175, 166, 154]]], dtype=uint16)"
      ]
     },
     "execution_count": 16,
     "metadata": {},
     "output_type": "execute_result"
    }
   ],
   "source": [
    "data_denoised_rfi_thr"
   ]
  },
  {
   "cell_type": "code",
   "execution_count": 17,
   "metadata": {},
   "outputs": [],
   "source": [
    "import napari\n",
    "NV=napari.Viewer()"
   ]
  },
  {
   "cell_type": "code",
   "execution_count": 18,
   "metadata": {},
   "outputs": [
    {
     "data": {
      "text/plain": [
       "<Image layer 'data_denoised_rfi_mp' at 0x185e3a50340>"
      ]
     },
     "execution_count": 18,
     "metadata": {},
     "output_type": "execute_result"
    }
   ],
   "source": [
    "NV.add_image(data_denoised_orig)\n",
    "NV.add_image(data_denoised_rfi_thr)\n",
    "NV.add_image(data_denoised_rfi_mp)"
   ]
  },
  {
   "cell_type": "code",
   "execution_count": null,
   "metadata": {},
   "outputs": [],
   "source": []
  }
 ],
 "metadata": {
  "kernelspec": {
   "display_name": "dev",
   "language": "python",
   "name": "python3"
  },
  "language_info": {
   "codemirror_mode": {
    "name": "ipython",
    "version": 3
   },
   "file_extension": ".py",
   "mimetype": "text/x-python",
   "name": "python",
   "nbconvert_exporter": "python",
   "pygments_lexer": "ipython3",
   "version": "3.10.11"
  },
  "orig_nbformat": 4
 },
 "nbformat": 4,
 "nbformat_minor": 2
}
