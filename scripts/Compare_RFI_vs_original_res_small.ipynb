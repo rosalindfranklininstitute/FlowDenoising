{
 "cells": [
  {
   "attachments": {},
   "cell_type": "markdown",
   "metadata": {},
   "source": [
    "Run the calculations through shell"
   ]
  },
  {
   "cell_type": "code",
   "execution_count": 1,
   "metadata": {},
   "outputs": [
    {
     "name": "stderr",
     "output_type": "stream",
     "text": [
      "[2023-07-06 12:40:37,559] (INFO) Verbosity level = 1\n",
      "[2023-07-06 12:40:37,559] (INFO) reading \"tempdata2.mrc\"\n",
      "[2023-07-06 12:40:37,559] (INFO) Input file is MRC\n",
      "[2023-07-06 12:40:37,585] (INFO) read \"tempdata2.mrc\" in 0.02603189999354072 seconds\n",
      "[2023-07-06 12:40:37,585] (INFO) args : Namespace(input='tempdata2.mrc', output='tempdata2_denoised_rfi_thr.mrc', sigma=(2.0, 2.0, 2.0), levels=3, winsize=5, verbosity=1, no_OF=False, number_of_processes=8, recompute_flow=False, timeout=30, procmode='threaded')\n",
      "[2023-07-06 12:40:37,585] (INFO) Number of processing units: 8\n",
      "[2023-07-06 12:40:37,590] (INFO) length of each filter (Z, Y, X) = [17, 17, 17]\n",
      "[2023-07-06 12:40:37,591] (INFO) shape of the input volume (Z, Y, X) = (100, 256, 256)\n",
      "[2023-07-06 12:40:37,591] (INFO) type of the volume = uint16\n",
      "[2023-07-06 12:40:37,591] (INFO) vol requires 12.5 MB\n",
      "[2023-07-06 12:40:37,591] (INFO) data max = 255\n",
      "[2023-07-06 12:40:37,591] (INFO) data min = 0\n",
      "[2023-07-06 12:40:37,599] (INFO) Input vol average = 164.55193878173827\n",
      "[2023-07-06 12:40:37,599] (INFO) length of each filter (Z, Y, X) = [17, 17, 17]\n",
      "[2023-07-06 12:40:37,607] (INFO) Filtering ...\n",
      "[2023-07-06 12:40:37,607] (INFO) 0/612 completed\n",
      "[2023-07-06 12:40:37,607] (INFO) Filtering along Z\n",
      "[2023-07-06 12:40:37,607] (INFO) axis_dim:100\n",
      "[2023-07-06 12:40:37,607] (INFO) self.max_number_of_processes:8\n",
      "[2023-07-06 12:40:37,607] (INFO) n_remain_slices:4\n",
      "[2023-07-06 12:40:37,607] (INFO) chunk_indexes:[0, 12, 24, 36, 48, 60, 72, 84, 96]\n",
      "[2023-07-06 12:40:37,607] (INFO) chunk_sizes:[12, 12, 12, 12, 12, 12, 12, 12, 4]\n",
      "[2023-07-06 12:40:37,607] (INFO) axis_i_s:[0, 0, 0, 0, 0, 0, 0, 0, 0]\n",
      "[2023-07-06 12:40:37,607] (INFO) Starting threads\n",
      "[2023-07-06 12:40:38,620] (INFO) 8/612 completed\n",
      "[2023-07-06 12:40:39,644] (INFO) 22/612 completed\n",
      "[2023-07-06 12:40:40,657] (INFO) 32/612 completed\n",
      "[2023-07-06 12:40:41,678] (INFO) 48/612 completed\n",
      "[2023-07-06 12:40:42,699] (INFO) 63/612 completed\n",
      "[2023-07-06 12:40:43,721] (INFO) 73/612 completed\n",
      "[2023-07-06 12:40:44,741] (INFO) 88/612 completed\n",
      "[2023-07-06 12:40:45,754] (INFO) 98/612 completed\n",
      "[2023-07-06 12:40:46,045] (INFO) Filtering along Y\n",
      "[2023-07-06 12:40:46,045] (INFO) axis_dim:256\n",
      "[2023-07-06 12:40:46,045] (INFO) self.max_number_of_processes:8\n",
      "[2023-07-06 12:40:46,045] (INFO) n_remain_slices:0\n",
      "[2023-07-06 12:40:46,045] (INFO) chunk_indexes:[0, 32, 64, 96, 128, 160, 192, 224]\n",
      "[2023-07-06 12:40:46,045] (INFO) chunk_sizes:[32, 32, 32, 32, 32, 32, 32, 32]\n",
      "[2023-07-06 12:40:46,045] (INFO) axis_i_s:[1, 1, 1, 1, 1, 1, 1, 1]\n",
      "[2023-07-06 12:40:46,045] (INFO) Starting threads\n",
      "[2023-07-06 12:40:46,766] (INFO) 124/612 completed\n",
      "[2023-07-06 12:40:47,782] (INFO) 162/612 completed\n",
      "[2023-07-06 12:40:48,807] (INFO) 201/612 completed\n",
      "[2023-07-06 12:40:49,823] (INFO) 239/612 completed\n",
      "[2023-07-06 12:40:50,832] (INFO) 277/612 completed\n",
      "[2023-07-06 12:40:51,833] (INFO) 313/612 completed\n",
      "[2023-07-06 12:40:52,842] (INFO) 352/612 completed\n",
      "[2023-07-06 12:40:52,914] (INFO) Filtering along X\n",
      "[2023-07-06 12:40:52,914] (INFO) axis_dim:256\n",
      "[2023-07-06 12:40:52,914] (INFO) self.max_number_of_processes:8\n",
      "[2023-07-06 12:40:52,914] (INFO) n_remain_slices:0\n",
      "[2023-07-06 12:40:52,914] (INFO) chunk_indexes:[0, 32, 64, 96, 128, 160, 192, 224]\n",
      "[2023-07-06 12:40:52,914] (INFO) chunk_sizes:[32, 32, 32, 32, 32, 32, 32, 32]\n",
      "[2023-07-06 12:40:52,914] (INFO) axis_i_s:[2, 2, 2, 2, 2, 2, 2, 2]\n",
      "[2023-07-06 12:40:52,914] (INFO) Starting threads\n",
      "[2023-07-06 12:40:53,845] (INFO) 381/612 completed\n",
      "[2023-07-06 12:40:54,862] (INFO) 413/612 completed\n",
      "[2023-07-06 12:40:55,881] (INFO) 446/612 completed\n",
      "[2023-07-06 12:40:56,886] (INFO) 478/612 completed\n",
      "[2023-07-06 12:40:57,904] (INFO) 511/612 completed\n",
      "[2023-07-06 12:40:58,909] (INFO) 543/612 completed\n",
      "[2023-07-06 12:40:59,921] (INFO) 576/612 completed\n",
      "[2023-07-06 12:41:00,924] (INFO) 607/612 completed\n",
      "[2023-07-06 12:41:01,044] (INFO) Setting stopEv to stop feedback thread\n",
      "[2023-07-06 12:41:01,044] (INFO) Volume filtered in 23.437763599999016 seconds\n",
      "[2023-07-06 12:41:01,044] (INFO) tempdata2_denoised_rfi_thr.mrc type = uint16\n",
      "[2023-07-06 12:41:01,052] (INFO) tempdata2_denoised_rfi_thr.mrc max = 233\n",
      "[2023-07-06 12:41:01,052] (INFO) tempdata2_denoised_rfi_thr.mrc min = 39\n",
      "[2023-07-06 12:41:01,060] (INFO) tempdata2_denoised_rfi_thr.mrc average = 163.05266387939454\n",
      "[2023-07-06 12:41:01,060] (INFO) writting \"tempdata2_denoised_rfi_thr.mrc\"\n",
      "[2023-07-06 12:41:01,060] (INFO) Writting MRC file\n",
      "[2023-07-06 12:41:01,100] (INFO) written \"tempdata2_denoised_rfi_thr.mrc\" in 0.04643330001272261 seconds\n"
     ]
    }
   ],
   "source": [
    "!python ..\\src\\flowdenoising\\flowdenoising_mod.py -i \"tempdata2.mrc\" -o \"tempdata2_denoised_rfi_thr.mrc\" -v 1"
   ]
  },
  {
   "attachments": {},
   "cell_type": "markdown",
   "metadata": {},
   "source": [
    "Run calculation using the multiprocess version"
   ]
  },
  {
   "cell_type": "code",
   "execution_count": 2,
   "metadata": {},
   "outputs": [
    {
     "name": "stderr",
     "output_type": "stream",
     "text": [
      "[2023-07-06 12:41:03,357] (INFO) Verbosity level = 1\n",
      "[2023-07-06 12:41:03,357] (INFO) reading \"tempdata2.mrc\"\n",
      "[2023-07-06 12:41:03,357] (INFO) Input file is MRC\n",
      "[2023-07-06 12:41:03,373] (INFO) read \"tempdata2.mrc\" in 0.011931000015465543 seconds\n",
      "[2023-07-06 12:41:03,373] (INFO) args : Namespace(input='tempdata2.mrc', output='tempdata2_denoised_rfi_mp.mrc', sigma=(2.0, 2.0, 2.0), levels=3, winsize=5, verbosity=1, no_OF=False, number_of_processes=8, recompute_flow=False, timeout=30, procmode='multiproc')\n",
      "[2023-07-06 12:41:03,373] (INFO) Number of processing units: 8\n",
      "[2023-07-06 12:41:03,373] (INFO) length of each filter (Z, Y, X) = [17, 17, 17]\n",
      "[2023-07-06 12:41:03,373] (INFO) shape of the input volume (Z, Y, X) = (100, 256, 256)\n",
      "[2023-07-06 12:41:03,381] (INFO) type of the volume = uint16\n",
      "[2023-07-06 12:41:03,381] (INFO) vol requires 12.5 MB\n",
      "[2023-07-06 12:41:03,381] (INFO) data max = 255\n",
      "[2023-07-06 12:41:03,381] (INFO) data min = 0\n",
      "[2023-07-06 12:41:03,389] (INFO) Input vol average = 164.55193878173827\n",
      "[2023-07-06 12:41:03,389] (INFO) length of each filter (Z, Y, X) = [17, 17, 17]\n",
      "[2023-07-06 12:41:03,397] (INFO) Filtering ...\n",
      "[2023-07-06 12:41:03,397] (INFO) 0/612 completed\n",
      "[2023-07-06 12:41:03,629] (INFO) Failed to unregister shared memories. Maybe this is windows\n",
      "[2023-07-06 12:41:04,417] (INFO) 0/612 completed\n",
      "[2023-07-06 12:41:05,430] (INFO) 0/612 completed\n",
      "[2023-07-06 12:41:06,442] (INFO) 7/612 completed\n",
      "[2023-07-06 12:41:07,463] (INFO) 23/612 completed\n",
      "[2023-07-06 12:41:08,478] (INFO) 37/612 completed\n",
      "[2023-07-06 12:41:09,508] (INFO) 48/612 completed\n",
      "[2023-07-06 12:41:10,540] (INFO) 63/612 completed\n",
      "[2023-07-06 12:41:11,560] (INFO) 79/612 completed\n",
      "[2023-07-06 12:41:12,574] (INFO) 93/612 completed\n",
      "[2023-07-06 12:41:13,589] (INFO) 97/612 completed\n",
      "[2023-07-06 12:41:14,598] (INFO) 99/612 completed\n",
      "[2023-07-06 12:41:15,615] (INFO) 115/612 completed\n",
      "[2023-07-06 12:41:16,625] (INFO) 154/612 completed\n",
      "[2023-07-06 12:41:17,642] (INFO) 194/612 completed\n",
      "[2023-07-06 12:41:18,655] (INFO) 233/612 completed\n",
      "[2023-07-06 12:41:19,670] (INFO) 274/612 completed\n",
      "[2023-07-06 12:41:20,690] (INFO) 313/612 completed\n",
      "[2023-07-06 12:41:21,737] (INFO) 354/612 completed\n",
      "[2023-07-06 12:41:22,759] (INFO) 358/612 completed\n",
      "[2023-07-06 12:41:23,775] (INFO) 390/612 completed\n",
      "[2023-07-06 12:41:24,789] (INFO) 425/612 completed\n",
      "[2023-07-06 12:41:25,810] (INFO) 456/612 completed\n",
      "[2023-07-06 12:41:26,833] (INFO) 486/612 completed\n",
      "[2023-07-06 12:41:27,856] (INFO) 520/612 completed\n",
      "[2023-07-06 12:41:28,868] (INFO) 553/612 completed\n",
      "[2023-07-06 12:41:29,870] (INFO) 586/612 completed\n",
      "[2023-07-06 12:41:30,806] (INFO) Setting stopEv to stop feedback thread\n",
      "[2023-07-06 12:41:30,806] (INFO) Volume filtered in 27.410262699995656 seconds\n",
      "[2023-07-06 12:41:30,814] (INFO) tempdata2_denoised_rfi_mp.mrc type = uint16\n",
      "[2023-07-06 12:41:30,814] (INFO) tempdata2_denoised_rfi_mp.mrc max = 233\n",
      "[2023-07-06 12:41:30,814] (INFO) tempdata2_denoised_rfi_mp.mrc min = 39\n",
      "[2023-07-06 12:41:30,830] (INFO) tempdata2_denoised_rfi_mp.mrc average = 163.05266387939454\n",
      "[2023-07-06 12:41:30,830] (INFO) writting \"tempdata2_denoised_rfi_mp.mrc\"\n",
      "[2023-07-06 12:41:30,830] (INFO) Writting MRC file\n",
      "[2023-07-06 12:41:30,886] (INFO) written \"tempdata2_denoised_rfi_mp.mrc\" in 0.05404689998249523 seconds\n"
     ]
    }
   ],
   "source": [
    "!python ..\\src\\flowdenoising\\flowdenoising_mod.py -i \"tempdata2.mrc\" -o \"tempdata2_denoised_rfi_mp.mrc\" -v 1 --procmode multiproc"
   ]
  },
  {
   "attachments": {},
   "cell_type": "markdown",
   "metadata": {},
   "source": [
    "# Analyse results"
   ]
  },
  {
   "cell_type": "code",
   "execution_count": 3,
   "metadata": {},
   "outputs": [],
   "source": [
    "import numpy as np\n",
    "import mrcfile"
   ]
  },
  {
   "cell_type": "code",
   "execution_count": 4,
   "metadata": {},
   "outputs": [],
   "source": [
    "with mrcfile.open(r\"tempdata2_denoised_rfi_thr.mrc\", mode=\"r+\") as mrcfile0:\n",
    "    data_denoised_rfi_thr=mrcfile0.data"
   ]
  },
  {
   "cell_type": "code",
   "execution_count": 5,
   "metadata": {},
   "outputs": [],
   "source": [
    "with mrcfile.open(r\"tempdata2_denoised_rfi_mp.mrc\", mode=\"r+\") as mrcfile0:\n",
    "    data_denoised_rfi_mp=mrcfile0.data"
   ]
  },
  {
   "attachments": {},
   "cell_type": "markdown",
   "metadata": {},
   "source": [
    "Load calculation that was denoised using original flowdenoiser.py. Note that this was calculated in Linux because the script does not work in windows "
   ]
  },
  {
   "cell_type": "code",
   "execution_count": 6,
   "metadata": {},
   "outputs": [],
   "source": [
    "with mrcfile.open(r\"tempdata2_denoised_orig.mrc\", mode=\"r+\") as mrcfile0:\n",
    "    data_denoised_orig=mrcfile0.data"
   ]
  },
  {
   "cell_type": "code",
   "execution_count": 7,
   "metadata": {},
   "outputs": [
    {
     "name": "stdout",
     "output_type": "stream",
     "text": [
      "(100, 256, 256)\n",
      "(100, 256, 256)\n",
      "(100, 256, 256)\n"
     ]
    }
   ],
   "source": [
    "print(data_denoised_rfi_thr.shape)\n",
    "print(data_denoised_rfi_mp.shape)\n",
    "print(data_denoised_orig.shape)"
   ]
  },
  {
   "cell_type": "code",
   "execution_count": 8,
   "metadata": {},
   "outputs": [
    {
     "name": "stdout",
     "output_type": "stream",
     "text": [
      "uint16\n",
      "uint16\n",
      "float32\n"
     ]
    }
   ],
   "source": [
    "print(data_denoised_rfi_thr.dtype)\n",
    "print(data_denoised_rfi_mp.dtype)\n",
    "print(data_denoised_orig.dtype)"
   ]
  },
  {
   "attachments": {},
   "cell_type": "markdown",
   "metadata": {},
   "source": [
    "Compare"
   ]
  },
  {
   "cell_type": "code",
   "execution_count": 9,
   "metadata": {},
   "outputs": [
    {
     "data": {
      "text/plain": [
       "True"
      ]
     },
     "execution_count": 9,
     "metadata": {},
     "output_type": "execute_result"
    }
   ],
   "source": [
    "np.allclose(data_denoised_orig, data_denoised_rfi_thr, atol=1e-8)"
   ]
  },
  {
   "cell_type": "code",
   "execution_count": 10,
   "metadata": {},
   "outputs": [
    {
     "data": {
      "text/plain": [
       "True"
      ]
     },
     "execution_count": 10,
     "metadata": {},
     "output_type": "execute_result"
    }
   ],
   "source": [
    "np.allclose(data_denoised_orig, data_denoised_rfi_mp, atol=1e-8)"
   ]
  },
  {
   "attachments": {},
   "cell_type": "markdown",
   "metadata": {},
   "source": [
    "Compare if they are exactly equal"
   ]
  },
  {
   "cell_type": "code",
   "execution_count": 11,
   "metadata": {},
   "outputs": [
    {
     "data": {
      "text/plain": [
       "True"
      ]
     },
     "execution_count": 11,
     "metadata": {},
     "output_type": "execute_result"
    }
   ],
   "source": [
    "np.array_equal(data_denoised_orig,data_denoised_rfi_thr)"
   ]
  },
  {
   "cell_type": "code",
   "execution_count": 12,
   "metadata": {},
   "outputs": [
    {
     "data": {
      "text/plain": [
       "True"
      ]
     },
     "execution_count": 12,
     "metadata": {},
     "output_type": "execute_result"
    }
   ],
   "source": [
    "np.array_equal(data_denoised_orig,data_denoised_rfi_mp)"
   ]
  },
  {
   "attachments": {},
   "cell_type": "markdown",
   "metadata": {},
   "source": [
    "View results"
   ]
  },
  {
   "cell_type": "code",
   "execution_count": 13,
   "metadata": {},
   "outputs": [
    {
     "data": {
      "text/plain": [
       "array([[[162., 165., 165., ..., 156., 157., 160.],\n",
       "        [172., 172., 170., ..., 162., 167., 170.],\n",
       "        [177., 178., 175., ..., 163., 169., 174.],\n",
       "        ...,\n",
       "        [132., 138., 143., ..., 128., 126., 128.],\n",
       "        [136., 143., 149., ..., 129., 129., 132.],\n",
       "        [148., 152., 157., ..., 146., 144., 145.]],\n",
       "\n",
       "       [[155., 160., 163., ..., 148., 146., 150.],\n",
       "        [164., 167., 165., ..., 151., 153., 160.],\n",
       "        [167., 172., 170., ..., 151., 158., 165.],\n",
       "        ...,\n",
       "        [130., 141., 151., ..., 117., 117., 123.],\n",
       "        [133., 144., 154., ..., 119., 120., 126.],\n",
       "        [139., 146., 153., ..., 129., 129., 133.]],\n",
       "\n",
       "       [[154., 160., 163., ..., 151., 147., 148.],\n",
       "        [158., 165., 165., ..., 143., 145., 152.],\n",
       "        [161., 168., 167., ..., 139., 143., 154.],\n",
       "        ...,\n",
       "        [131., 142., 152., ..., 122., 120., 122.],\n",
       "        [129., 136., 142., ..., 127., 124., 124.],\n",
       "        [133., 137., 141., ..., 134., 130., 130.]],\n",
       "\n",
       "       ...,\n",
       "\n",
       "       [[165., 157., 152., ..., 181., 179., 173.],\n",
       "        [173., 166., 158., ..., 181., 182., 178.],\n",
       "        [176., 168., 160., ..., 184., 185., 181.],\n",
       "        ...,\n",
       "        [113., 105., 104., ..., 137., 129., 119.],\n",
       "        [120., 108., 105., ..., 153., 140., 129.],\n",
       "        [132., 119., 113., ..., 177., 163., 147.]],\n",
       "\n",
       "       [[159., 150., 143., ..., 171., 170., 166.],\n",
       "        [167., 159., 151., ..., 172., 173., 171.],\n",
       "        [170., 162., 154., ..., 171., 174., 173.],\n",
       "        ...,\n",
       "        [118., 108., 103., ..., 152., 139., 127.],\n",
       "        [127., 115., 108., ..., 163., 150., 138.],\n",
       "        [137., 124., 116., ..., 177., 165., 151.]],\n",
       "\n",
       "       [[155., 150., 146., ..., 161., 162., 160.],\n",
       "        [165., 161., 157., ..., 167., 168., 167.],\n",
       "        [169., 165., 162., ..., 168., 170., 170.],\n",
       "        ...,\n",
       "        [124., 113., 107., ..., 168., 153., 138.],\n",
       "        [131., 119., 112., ..., 172., 158., 144.],\n",
       "        [141., 130., 122., ..., 175., 166., 154.]]], dtype=float32)"
      ]
     },
     "execution_count": 13,
     "metadata": {},
     "output_type": "execute_result"
    }
   ],
   "source": [
    "data_denoised_orig"
   ]
  },
  {
   "cell_type": "code",
   "execution_count": 14,
   "metadata": {},
   "outputs": [
    {
     "data": {
      "text/plain": [
       "array([[[162, 165, 165, ..., 156, 157, 160],\n",
       "        [172, 172, 170, ..., 162, 167, 170],\n",
       "        [177, 178, 175, ..., 163, 169, 174],\n",
       "        ...,\n",
       "        [132, 138, 143, ..., 128, 126, 128],\n",
       "        [136, 143, 149, ..., 129, 129, 132],\n",
       "        [148, 152, 157, ..., 146, 144, 145]],\n",
       "\n",
       "       [[155, 160, 163, ..., 148, 146, 150],\n",
       "        [164, 167, 165, ..., 151, 153, 160],\n",
       "        [167, 172, 170, ..., 151, 158, 165],\n",
       "        ...,\n",
       "        [130, 141, 151, ..., 117, 117, 123],\n",
       "        [133, 144, 154, ..., 119, 120, 126],\n",
       "        [139, 146, 153, ..., 129, 129, 133]],\n",
       "\n",
       "       [[154, 160, 163, ..., 151, 147, 148],\n",
       "        [158, 165, 165, ..., 143, 145, 152],\n",
       "        [161, 168, 167, ..., 139, 143, 154],\n",
       "        ...,\n",
       "        [131, 142, 152, ..., 122, 120, 122],\n",
       "        [129, 136, 142, ..., 127, 124, 124],\n",
       "        [133, 137, 141, ..., 134, 130, 130]],\n",
       "\n",
       "       ...,\n",
       "\n",
       "       [[165, 157, 152, ..., 181, 179, 173],\n",
       "        [173, 166, 158, ..., 181, 182, 178],\n",
       "        [176, 168, 160, ..., 184, 185, 181],\n",
       "        ...,\n",
       "        [113, 105, 104, ..., 137, 129, 119],\n",
       "        [120, 108, 105, ..., 153, 140, 129],\n",
       "        [132, 119, 113, ..., 177, 163, 147]],\n",
       "\n",
       "       [[159, 150, 143, ..., 171, 170, 166],\n",
       "        [167, 159, 151, ..., 172, 173, 171],\n",
       "        [170, 162, 154, ..., 171, 174, 173],\n",
       "        ...,\n",
       "        [118, 108, 103, ..., 152, 139, 127],\n",
       "        [127, 115, 108, ..., 163, 150, 138],\n",
       "        [137, 124, 116, ..., 177, 165, 151]],\n",
       "\n",
       "       [[155, 150, 146, ..., 161, 162, 160],\n",
       "        [165, 161, 157, ..., 167, 168, 167],\n",
       "        [169, 165, 162, ..., 168, 170, 170],\n",
       "        ...,\n",
       "        [124, 113, 107, ..., 168, 153, 138],\n",
       "        [131, 119, 112, ..., 172, 158, 144],\n",
       "        [141, 130, 122, ..., 175, 166, 154]]], dtype=uint16)"
      ]
     },
     "execution_count": 14,
     "metadata": {},
     "output_type": "execute_result"
    }
   ],
   "source": [
    "data_denoised_rfi_thr"
   ]
  },
  {
   "cell_type": "code",
   "execution_count": 15,
   "metadata": {},
   "outputs": [
    {
     "name": "stderr",
     "output_type": "stream",
     "text": [
      "WARNING: QWindowsWindow::setGeometry: Unable to set geometry 2172x1352+972+162 (frame: 2198x1423+959+104) on QWidgetWindow/\"_QtMainWindowClassWindow\" on \"\\\\.\\DISPLAY1\". Resulting geometry: 4350x1874+977+189 (frame: 4376x1945+964+131) margins: 13, 58, 13, 13 minimum size: 374x560 MINMAXINFO maxSize=0,0 maxpos=0,0 mintrack=774,1191 maxtrack=0,0)\n",
      "06-Jul-23 12:41:52 - vispy    - WARNING  - QWindowsWindow::setGeometry: Unable to set geometry 2172x1352+972+162 (frame: 2198x1423+959+104) on QWidgetWindow/\"_QtMainWindowClassWindow\" on \"\\\\.\\DISPLAY1\". Resulting geometry: 4350x1874+977+189 (frame: 4376x1945+964+131) margins: 13, 58, 13, 13 minimum size: 374x560 MINMAXINFO maxSize=0,0 maxpos=0,0 mintrack=774,1191 maxtrack=0,0)\n"
     ]
    }
   ],
   "source": [
    "import napari\n",
    "NV=napari.Viewer()"
   ]
  },
  {
   "cell_type": "code",
   "execution_count": 16,
   "metadata": {},
   "outputs": [
    {
     "data": {
      "text/plain": [
       "<Image layer 'data_denoised_rfi_mp' at 0x1fa3d00bf10>"
      ]
     },
     "execution_count": 16,
     "metadata": {},
     "output_type": "execute_result"
    }
   ],
   "source": [
    "NV.add_image(data_denoised_orig)\n",
    "NV.add_image(data_denoised_rfi_thr)\n",
    "NV.add_image(data_denoised_rfi_mp)"
   ]
  },
  {
   "cell_type": "code",
   "execution_count": null,
   "metadata": {},
   "outputs": [],
   "source": []
  }
 ],
 "metadata": {
  "kernelspec": {
   "display_name": "dev",
   "language": "python",
   "name": "python3"
  },
  "language_info": {
   "codemirror_mode": {
    "name": "ipython",
    "version": 3
   },
   "file_extension": ".py",
   "mimetype": "text/x-python",
   "name": "python",
   "nbconvert_exporter": "python",
   "pygments_lexer": "ipython3",
   "version": "3.10.11"
  },
  "orig_nbformat": 4
 },
 "nbformat": 4,
 "nbformat_minor": 2
}
