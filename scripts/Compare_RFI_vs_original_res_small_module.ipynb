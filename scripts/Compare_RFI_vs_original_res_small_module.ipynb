{
 "cells": [
  {
   "cell_type": "code",
   "execution_count": 1,
   "metadata": {},
   "outputs": [],
   "source": [
    "import sys\n",
    "sys.path.append(\"..\")\n",
    "import numpy as np\n",
    "import logging\n",
    "logging.basicConfig(level=logging.INFO)"
   ]
  },
  {
   "cell_type": "code",
   "execution_count": 2,
   "metadata": {},
   "outputs": [],
   "source": [
    "import src.flowdenoising.flowdenoising_mod as fdn"
   ]
  },
  {
   "cell_type": "code",
   "execution_count": 3,
   "metadata": {},
   "outputs": [
    {
     "data": {
      "text/plain": [
       "'Is great'"
      ]
     },
     "execution_count": 3,
     "metadata": {},
     "output_type": "execute_result"
    }
   ],
   "source": [
    "fdn.FDN_LIZZIE"
   ]
  },
  {
   "cell_type": "code",
   "execution_count": 4,
   "metadata": {},
   "outputs": [],
   "source": [
    "import mrcfile"
   ]
  },
  {
   "cell_type": "code",
   "execution_count": 5,
   "metadata": {},
   "outputs": [],
   "source": [
    "with mrcfile.open(r\"tempdata2.mrc\", mode=\"r+\") as mrcfile0:\n",
    "    data=mrcfile0.data"
   ]
  },
  {
   "cell_type": "code",
   "execution_count": 6,
   "metadata": {},
   "outputs": [
    {
     "data": {
      "text/plain": [
       "(100, 256, 256)"
      ]
     },
     "execution_count": 6,
     "metadata": {},
     "output_type": "execute_result"
    }
   ],
   "source": [
    "data.shape"
   ]
  },
  {
   "cell_type": "code",
   "execution_count": 7,
   "metadata": {},
   "outputs": [
    {
     "data": {
      "text/plain": [
       "dtype('<u2')"
      ]
     },
     "execution_count": 7,
     "metadata": {},
     "output_type": "execute_result"
    }
   ],
   "source": [
    "data.dtype"
   ]
  },
  {
   "attachments": {},
   "cell_type": "markdown",
   "metadata": {},
   "source": [
    "Create denoise class instance, MP version"
   ]
  },
  {
   "cell_type": "code",
   "execution_count": 8,
   "metadata": {},
   "outputs": [
    {
     "name": "stderr",
     "output_type": "stream",
     "text": [
      "INFO:root:Number of processing units: 8\n",
      "INFO:root:length of each filter (Z, Y, X) = [17, 17, 17]\n"
     ]
    }
   ],
   "source": [
    "#process_mode='threaded', #choices=['threaded', 'sequential','multiproc']\n",
    "filter_mp = fdn.cFlowDenoiser(process_mode='multiproc')"
   ]
  },
  {
   "cell_type": "code",
   "execution_count": 9,
   "metadata": {},
   "outputs": [],
   "source": [
    "filter_mp.max_number_of_processes=4"
   ]
  },
  {
   "cell_type": "code",
   "execution_count": 10,
   "metadata": {},
   "outputs": [
    {
     "data": {
      "text/plain": [
       "3"
      ]
     },
     "execution_count": 10,
     "metadata": {},
     "output_type": "execute_result"
    }
   ],
   "source": [
    "filter_mp.OF_LEVELS"
   ]
  },
  {
   "attachments": {},
   "cell_type": "markdown",
   "metadata": {},
   "source": [
    "filter"
   ]
  },
  {
   "cell_type": "code",
   "execution_count": 11,
   "metadata": {},
   "outputs": [
    {
     "name": "stderr",
     "output_type": "stream",
     "text": [
      "INFO:root:shape of the input volume (Z, Y, X) = (100, 256, 256)\n",
      "INFO:root:type of the volume = uint16\n",
      "INFO:root:vol requires 12.5 MB\n",
      "INFO:root:data max = 255\n",
      "INFO:root:data min = 0\n",
      "INFO:root:Input vol average = 164.55193878173827\n",
      "INFO:root:length of each filter (Z, Y, X) = [17, 17, 17]\n",
      "INFO:root:Filtering ...\n",
      "INFO:root:0/612 completed\n",
      "INFO:root:Failed to unregister shared memories. Maybe this is windows\n",
      "INFO:root:0/612 completed\n",
      "INFO:root:4/612 completed\n",
      "INFO:root:12/612 completed\n",
      "INFO:root:21/612 completed\n",
      "INFO:root:32/612 completed\n",
      "INFO:root:41/612 completed\n",
      "INFO:root:52/612 completed\n",
      "INFO:root:61/612 completed\n",
      "INFO:root:72/612 completed\n",
      "INFO:root:81/612 completed\n",
      "INFO:root:93/612 completed\n",
      "INFO:root:100/612 completed\n",
      "INFO:root:122/612 completed\n",
      "INFO:root:148/612 completed\n",
      "INFO:root:176/612 completed\n",
      "INFO:root:205/612 completed\n",
      "INFO:root:234/612 completed\n",
      "INFO:root:262/612 completed\n",
      "INFO:root:292/612 completed\n",
      "INFO:root:322/612 completed\n",
      "INFO:root:350/612 completed\n",
      "INFO:root:360/612 completed\n",
      "INFO:root:382/612 completed\n",
      "INFO:root:404/612 completed\n",
      "INFO:root:425/612 completed\n",
      "INFO:root:450/612 completed\n",
      "INFO:root:474/612 completed\n",
      "INFO:root:496/612 completed\n",
      "INFO:root:522/612 completed\n",
      "INFO:root:546/612 completed\n",
      "INFO:root:572/612 completed\n",
      "INFO:root:596/612 completed\n",
      "INFO:root:Setting stopEv to stop feedback thread\n",
      "INFO:root:Volume filtered in 33.215165600006 seconds\n"
     ]
    }
   ],
   "source": [
    "res_mp= filter_mp.runOpticalFlow(data)"
   ]
  },
  {
   "cell_type": "code",
   "execution_count": 12,
   "metadata": {},
   "outputs": [
    {
     "name": "stdout",
     "output_type": "stream",
     "text": [
      "(100, 256, 256)\n",
      "uint16\n"
     ]
    }
   ],
   "source": [
    "print(res_mp.shape)\n",
    "print(res_mp.dtype)"
   ]
  },
  {
   "attachments": {},
   "cell_type": "markdown",
   "metadata": {},
   "source": [
    "Filter threaded version"
   ]
  },
  {
   "cell_type": "code",
   "execution_count": 13,
   "metadata": {},
   "outputs": [
    {
     "name": "stderr",
     "output_type": "stream",
     "text": [
      "INFO:root:Number of processing units: 8\n",
      "INFO:root:length of each filter (Z, Y, X) = [17, 17, 17]\n"
     ]
    }
   ],
   "source": [
    "filter_th= fdn.cFlowDenoiser(process_mode='threaded')"
   ]
  },
  {
   "cell_type": "code",
   "execution_count": 14,
   "metadata": {},
   "outputs": [],
   "source": [
    "filter_th.max_number_of_processes=4"
   ]
  },
  {
   "cell_type": "code",
   "execution_count": 15,
   "metadata": {},
   "outputs": [
    {
     "name": "stderr",
     "output_type": "stream",
     "text": [
      "INFO:root:shape of the input volume (Z, Y, X) = (100, 256, 256)\n",
      "INFO:root:type of the volume = uint16\n",
      "INFO:root:vol requires 12.5 MB\n",
      "INFO:root:data max = 255\n",
      "INFO:root:data min = 0\n",
      "INFO:root:Input vol average = 164.55193878173827\n",
      "INFO:root:length of each filter (Z, Y, X) = [17, 17, 17]\n",
      "INFO:root:Filtering ...\n",
      "INFO:root:0/612 completed\n",
      "INFO:root:Filtering along Z\n",
      "INFO:root:axis_dim:100\n",
      "INFO:root:self.max_number_of_processes:4\n",
      "INFO:root:n_remain_slices:0\n",
      "INFO:root:chunk_indexes:[0, 25, 50, 75]\n",
      "INFO:root:chunk_sizes:[25, 25, 25, 25]\n",
      "INFO:root:axis_i_s:[0, 0, 0, 0]\n",
      "INFO:root:Starting threads\n",
      "INFO:root:8/612 completed\n",
      "INFO:root:20/612 completed\n",
      "INFO:root:32/612 completed\n",
      "INFO:root:41/612 completed\n",
      "INFO:root:52/612 completed\n",
      "INFO:root:64/612 completed\n",
      "INFO:root:76/612 completed\n",
      "INFO:root:85/612 completed\n",
      "INFO:root:96/612 completed\n",
      "INFO:root:Filtering along Y\n",
      "INFO:root:axis_dim:256\n",
      "INFO:root:self.max_number_of_processes:4\n",
      "INFO:root:n_remain_slices:0\n",
      "INFO:root:chunk_indexes:[0, 64, 128, 192]\n",
      "INFO:root:chunk_sizes:[64, 64, 64, 64]\n",
      "INFO:root:axis_i_s:[1, 1, 1, 1]\n",
      "INFO:root:Starting threads\n",
      "INFO:root:120/612 completed\n",
      "INFO:root:150/612 completed\n",
      "INFO:root:179/612 completed\n",
      "INFO:root:211/612 completed\n",
      "INFO:root:244/612 completed\n",
      "INFO:root:274/612 completed\n",
      "INFO:root:306/612 completed\n",
      "INFO:root:339/612 completed\n",
      "INFO:root:Filtering along X\n",
      "INFO:root:axis_dim:256\n",
      "INFO:root:self.max_number_of_processes:4\n",
      "INFO:root:n_remain_slices:0\n",
      "INFO:root:chunk_indexes:[0, 64, 128, 192]\n",
      "INFO:root:chunk_sizes:[64, 64, 64, 64]\n",
      "INFO:root:axis_i_s:[2, 2, 2, 2]\n",
      "INFO:root:Starting threads\n",
      "INFO:root:364/612 completed\n",
      "INFO:root:392/612 completed\n",
      "INFO:root:420/612 completed\n",
      "INFO:root:450/612 completed\n",
      "INFO:root:478/612 completed\n",
      "INFO:root:507/612 completed\n",
      "INFO:root:533/612 completed\n",
      "INFO:root:557/612 completed\n",
      "INFO:root:583/612 completed\n",
      "INFO:root:Setting stopEv to stop feedback thread\n",
      "INFO:root:Volume filtered in 27.29606039999635 seconds\n"
     ]
    }
   ],
   "source": [
    "res_th = filter_th.runOpticalFlow(data)"
   ]
  },
  {
   "cell_type": "code",
   "execution_count": 16,
   "metadata": {},
   "outputs": [
    {
     "name": "stdout",
     "output_type": "stream",
     "text": [
      "(100, 256, 256)\n",
      "uint16\n"
     ]
    }
   ],
   "source": [
    "print(res_th.shape)\n",
    "print(res_th.dtype)"
   ]
  },
  {
   "attachments": {},
   "cell_type": "markdown",
   "metadata": {},
   "source": [
    "Load calculation that was denoised using original flowdenoiser.py. Note that this was calculated in Linux because the script does not work in windows "
   ]
  },
  {
   "cell_type": "code",
   "execution_count": 17,
   "metadata": {},
   "outputs": [],
   "source": [
    "with mrcfile.open(\"tempdata2_denoised_orig.mrc\", mode=\"r+\") as mrcfile0:\n",
    "    data_denoised_orig=mrcfile0.data"
   ]
  },
  {
   "attachments": {},
   "cell_type": "markdown",
   "metadata": {},
   "source": [
    "# Compare"
   ]
  },
  {
   "cell_type": "code",
   "execution_count": 18,
   "metadata": {},
   "outputs": [
    {
     "data": {
      "text/plain": [
       "True"
      ]
     },
     "execution_count": 18,
     "metadata": {},
     "output_type": "execute_result"
    }
   ],
   "source": [
    "np.array_equal(data_denoised_orig,res_mp)"
   ]
  },
  {
   "cell_type": "code",
   "execution_count": 19,
   "metadata": {},
   "outputs": [
    {
     "data": {
      "text/plain": [
       "True"
      ]
     },
     "execution_count": 19,
     "metadata": {},
     "output_type": "execute_result"
    }
   ],
   "source": [
    "np.array_equal(data_denoised_orig,res_th)"
   ]
  },
  {
   "attachments": {},
   "cell_type": "markdown",
   "metadata": {},
   "source": [
    "All equal, great"
   ]
  }
 ],
 "metadata": {
  "kernelspec": {
   "display_name": "dev",
   "language": "python",
   "name": "python3"
  },
  "language_info": {
   "codemirror_mode": {
    "name": "ipython",
    "version": 3
   },
   "file_extension": ".py",
   "mimetype": "text/x-python",
   "name": "python",
   "nbconvert_exporter": "python",
   "pygments_lexer": "ipython3",
   "version": "3.10.11"
  },
  "orig_nbformat": 4
 },
 "nbformat": 4,
 "nbformat_minor": 2
}
