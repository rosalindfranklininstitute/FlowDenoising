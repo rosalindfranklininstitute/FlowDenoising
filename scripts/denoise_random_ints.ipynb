{
 "cells": [
  {
   "attachments": {},
   "cell_type": "markdown",
   "metadata": {},
   "source": [
    "Example of test flow denoiser"
   ]
  },
  {
   "cell_type": "code",
   "execution_count": 1,
   "metadata": {},
   "outputs": [],
   "source": [
    "import sys\n",
    "sys.path.append(\"..\")"
   ]
  },
  {
   "cell_type": "code",
   "execution_count": 2,
   "metadata": {},
   "outputs": [],
   "source": [
    "import src.flowdenoising as fd"
   ]
  },
  {
   "cell_type": "code",
   "execution_count": 3,
   "metadata": {},
   "outputs": [],
   "source": [
    "import logging\n",
    "logging.basicConfig(level=logging.DEBUG)"
   ]
  },
  {
   "cell_type": "code",
   "execution_count": 4,
   "metadata": {},
   "outputs": [],
   "source": [
    "import numpy as np"
   ]
  },
  {
   "cell_type": "code",
   "execution_count": 5,
   "metadata": {},
   "outputs": [],
   "source": [
    "data = np.random.randint(0,255, size=(64,64,64))"
   ]
  },
  {
   "cell_type": "code",
   "execution_count": 6,
   "metadata": {},
   "outputs": [
    {
     "data": {
      "text/plain": [
       "dtype('int32')"
      ]
     },
     "execution_count": 6,
     "metadata": {},
     "output_type": "execute_result"
    }
   ],
   "source": [
    "data.dtype"
   ]
  },
  {
   "attachments": {},
   "cell_type": "markdown",
   "metadata": {},
   "source": [
    "Try to run denoiser"
   ]
  },
  {
   "cell_type": "code",
   "execution_count": 7,
   "metadata": {},
   "outputs": [
    {
     "name": "stderr",
     "output_type": "stream",
     "text": [
      "INFO:root:Number of processing units: 8\n"
     ]
    }
   ],
   "source": [
    "filter = fd.cFlowDenoiser()"
   ]
  },
  {
   "cell_type": "code",
   "execution_count": 8,
   "metadata": {},
   "outputs": [],
   "source": [
    "filter.max_number_of_processes=1"
   ]
  },
  {
   "cell_type": "code",
   "execution_count": 9,
   "metadata": {},
   "outputs": [
    {
     "name": "stderr",
     "output_type": "stream",
     "text": [
      "INFO:root:shape of the input volume (Z, Y, X) = (64, 64, 64)\n",
      "INFO:root:type of the volume = int32\n",
      "INFO:root:vol requires 1.0 MB\n",
      "INFO:root:data max = 254\n",
      "INFO:root:data min = 0\n",
      "INFO:root:Input vol average = 126.76955032348633\n",
      "INFO:root:No reusing adjacent OF fields as predictions\n",
      "INFO:root:sigma=(2.0, 2.0, 2.0)\n",
      "INFO:root:Computing gaussian kernel with sigma=2.0\n",
      "DEBUG:root:Kernel computed\n",
      "INFO:root:Computing gaussian kernel with sigma=2.0\n",
      "DEBUG:root:Kernel computed\n",
      "INFO:root:Computing gaussian kernel with sigma=2.0\n",
      "DEBUG:root:Kernel computed\n",
      "INFO:root:length of each filter (Z, Y, X) = [17, 17, 17]\n",
      "Exception in thread INFO:root:Filtering ...\n",
      "Thread-5 (feedback_periodic):\n",
      "Traceback (most recent call last):\n",
      "  File \"c:\\Users\\Luis-work\\miniconda3\\envs\\dev\\lib\\threading.py\", line 1016, in _bootstrap_inner\n",
      "INFO:root:Filtering along Z with kernel length=17\n",
      "    self.run()\n",
      "  File \"c:\\Users\\Luis-work\\miniconda3\\envs\\dev\\lib\\threading.py\", line 953, in run\n",
      "    self._target(*self._args, **self._kwargs)\n",
      "  File \"c:\\Users\\Luis-work\\Desktop\\Others\\git-FlowDenosing\\FlowDenoising\\scripts\\..\\src\\flowdenoising.py\", line 521, in feedback_periodic\n",
      "    if (current_time - self.time_0) > (60 * self.timeout_mins):\n",
      "AttributeError: 'cFlowDenoiser' object has no attribute 'time_0'\n",
      "DEBUG:root:PU #0 finished\n",
      "DEBUG:root:Filtering along Z spent 1.019384200044442 seconds\n",
      "INFO:root:Filtering along Y with kernel length=17\n",
      "DEBUG:root:PU #0 finished\n",
      "DEBUG:root:Filtering along Y spent 0.8946690000011586 seconds\n",
      "INFO:root:Filtering along X with kernel length=17\n",
      "DEBUG:root:PU #0 finished\n",
      "DEBUG:root:Filtering along X spent 1.0014115999802016 seconds\n",
      "INFO:root:Volume filtered in 1.0024097000132315 seconds\n",
      "INFO:root:Closing and unlinking shared memory\n"
     ]
    }
   ],
   "source": [
    "res= filter.runOpticalFlow(data)"
   ]
  },
  {
   "cell_type": "code",
   "execution_count": null,
   "metadata": {},
   "outputs": [],
   "source": []
  }
 ],
 "metadata": {
  "kernelspec": {
   "display_name": "dev",
   "language": "python",
   "name": "python3"
  },
  "language_info": {
   "codemirror_mode": {
    "name": "ipython",
    "version": 3
   },
   "file_extension": ".py",
   "mimetype": "text/x-python",
   "name": "python",
   "nbconvert_exporter": "python",
   "pygments_lexer": "ipython3",
   "version": "3.10.11"
  },
  "orig_nbformat": 4
 },
 "nbformat": 4,
 "nbformat_minor": 2
}
