{
 "cells": [
  {
   "cell_type": "code",
   "execution_count": 1,
   "metadata": {},
   "outputs": [],
   "source": [
    "import sys\n",
    "sys.path.append(\"..\")\n",
    "import numpy as np\n",
    "import logging\n",
    "logging.basicConfig(level=logging.INFO)"
   ]
  },
  {
   "cell_type": "code",
   "execution_count": 2,
   "metadata": {},
   "outputs": [],
   "source": [
    "import src.flowdenoising.flowdenoising_mod as fdn"
   ]
  },
  {
   "cell_type": "code",
   "execution_count": 3,
   "metadata": {},
   "outputs": [
    {
     "data": {
      "text/plain": [
       "'Is great'"
      ]
     },
     "execution_count": 3,
     "metadata": {},
     "output_type": "execute_result"
    }
   ],
   "source": [
    "fdn.FDN_LIZZIE"
   ]
  },
  {
   "cell_type": "code",
   "execution_count": 4,
   "metadata": {},
   "outputs": [],
   "source": [
    "import mrcfile"
   ]
  },
  {
   "cell_type": "code",
   "execution_count": 5,
   "metadata": {},
   "outputs": [],
   "source": [
    "with mrcfile.open(r\"tempdata.mrc\", mode=\"r+\") as mrcfile0:\n",
    "    data=mrcfile0.data"
   ]
  },
  {
   "cell_type": "code",
   "execution_count": 6,
   "metadata": {},
   "outputs": [
    {
     "data": {
      "text/plain": [
       "(100, 256, 256)"
      ]
     },
     "execution_count": 6,
     "metadata": {},
     "output_type": "execute_result"
    }
   ],
   "source": [
    "data.shape"
   ]
  },
  {
   "cell_type": "code",
   "execution_count": 7,
   "metadata": {},
   "outputs": [
    {
     "data": {
      "text/plain": [
       "dtype('<u2')"
      ]
     },
     "execution_count": 7,
     "metadata": {},
     "output_type": "execute_result"
    }
   ],
   "source": [
    "data.dtype"
   ]
  },
  {
   "attachments": {},
   "cell_type": "markdown",
   "metadata": {},
   "source": [
    "Create denoise class instance"
   ]
  },
  {
   "cell_type": "code",
   "execution_count": 8,
   "metadata": {},
   "outputs": [
    {
     "name": "stderr",
     "output_type": "stream",
     "text": [
      "INFO:root:Number of processing units: 8\n",
      "INFO:root:length of each filter (Z, Y, X) = [17, 17, 17]\n"
     ]
    }
   ],
   "source": [
    "filter = fdn.cFlowDenoiser()"
   ]
  },
  {
   "cell_type": "code",
   "execution_count": 9,
   "metadata": {},
   "outputs": [],
   "source": [
    "filter.max_number_of_processes=4"
   ]
  },
  {
   "cell_type": "code",
   "execution_count": 10,
   "metadata": {},
   "outputs": [
    {
     "data": {
      "text/plain": [
       "3"
      ]
     },
     "execution_count": 10,
     "metadata": {},
     "output_type": "execute_result"
    }
   ],
   "source": [
    "filter.OF_LEVELS"
   ]
  },
  {
   "attachments": {},
   "cell_type": "markdown",
   "metadata": {},
   "source": [
    "Try running"
   ]
  },
  {
   "cell_type": "code",
   "execution_count": 11,
   "metadata": {},
   "outputs": [
    {
     "name": "stderr",
     "output_type": "stream",
     "text": [
      "INFO:root:shape of the input volume (Z, Y, X) = (100, 256, 256)\n",
      "INFO:root:type of the volume = uint16\n",
      "INFO:root:vol requires 12.5 MB\n",
      "INFO:root:data max = 255\n",
      "INFO:root:data min = 0\n",
      "INFO:root:Input vol average = 163.69832733154297\n",
      "INFO:root:length of each filter (Z, Y, X) = [17, 17, 17]\n",
      "INFO:root:Filtering ...\n",
      "INFO:root:0/612 completed\n",
      "INFO:root:Filtering along Z\n",
      "INFO:root:axis_dim:100\n",
      "INFO:root:self.max_number_of_processes:4\n",
      "INFO:root:n_remain_slices:0\n",
      "INFO:root:chunk_indexes:[0, 25, 50, 75]\n",
      "INFO:root:chunk_sizes:[25, 25, 25, 25]\n",
      "INFO:root:axis_i_s:[0, 0, 0, 0]\n",
      "INFO:root:Starting threads\n",
      "INFO:root:8/612 completed\n",
      "INFO:root:13/612 completed\n",
      "INFO:root:24/612 completed\n",
      "INFO:root:36/612 completed\n",
      "INFO:root:44/612 completed\n",
      "INFO:root:56/612 completed\n",
      "INFO:root:67/612 completed\n",
      "INFO:root:76/612 completed\n",
      "INFO:root:88/612 completed\n",
      "INFO:root:98/612 completed\n",
      "INFO:root:Filtering along Y\n",
      "INFO:root:axis_dim:256\n",
      "INFO:root:self.max_number_of_processes:4\n",
      "INFO:root:n_remain_slices:0\n",
      "INFO:root:chunk_indexes:[0, 64, 128, 192]\n",
      "INFO:root:chunk_sizes:[64, 64, 64, 64]\n",
      "INFO:root:axis_i_s:[1, 1, 1, 1]\n",
      "INFO:root:Starting threads\n",
      "INFO:root:128/612 completed\n",
      "INFO:root:164/612 completed\n",
      "INFO:root:197/612 completed\n",
      "INFO:root:231/612 completed\n",
      "INFO:root:267/612 completed\n",
      "INFO:root:301/612 completed\n",
      "INFO:root:336/612 completed\n",
      "INFO:root:Filtering along X\n",
      "INFO:root:axis_dim:256\n",
      "INFO:root:self.max_number_of_processes:4\n",
      "INFO:root:n_remain_slices:0\n",
      "INFO:root:chunk_indexes:[0, 64, 128, 192]\n",
      "INFO:root:chunk_sizes:[64, 64, 64, 64]\n",
      "INFO:root:axis_i_s:[2, 2, 2, 2]\n",
      "INFO:root:Starting threads\n",
      "INFO:root:368/612 completed\n",
      "INFO:root:396/612 completed\n",
      "INFO:root:424/612 completed\n",
      "INFO:root:453/612 completed\n",
      "INFO:root:480/612 completed\n",
      "INFO:root:508/612 completed\n",
      "INFO:root:539/612 completed\n",
      "INFO:root:568/612 completed\n",
      "INFO:root:596/612 completed\n",
      "INFO:root:Volume filtered in 26.738592400004563 seconds\n"
     ]
    }
   ],
   "source": [
    "res= filter.runOpticalFlow(data)"
   ]
  },
  {
   "cell_type": "code",
   "execution_count": 12,
   "metadata": {},
   "outputs": [
    {
     "data": {
      "text/plain": [
       "(100, 256, 256)"
      ]
     },
     "execution_count": 12,
     "metadata": {},
     "output_type": "execute_result"
    }
   ],
   "source": [
    "res.shape"
   ]
  },
  {
   "cell_type": "code",
   "execution_count": 13,
   "metadata": {},
   "outputs": [],
   "source": [
    "#Save file\n",
    "with mrcfile.new(\"result_RFI_threaded_module.mrc\", overwrite=True) as f:\n",
    "    f.set_data(res)"
   ]
  },
  {
   "cell_type": "code",
   "execution_count": 14,
   "metadata": {},
   "outputs": [
    {
     "name": "stderr",
     "output_type": "stream",
     "text": [
      "INFO:bfio.init:VERSION = 2.3.0\n",
      "\n",
      "INFO:bfio.init:The bioformats_package.jar is not present.Can only use Python backend for reading/writing images.\n",
      "INFO:xmlschema:Resource 'XMLSchema.xsd' is already loaded\n",
      "WARNING: QWindowsWindow::setGeometry: Unable to set geometry 1920x1200+802-1824 (frame: 1942x1256+791-1869) on QWidgetWindow/\"_QtMainWindowClassWindow\" on \"\\\\.\\DISPLAY1\". Resulting geometry: 1438x1120+800-1836 (frame: 1460x1176+789-1881) margins: 11, 45, 11, 11 minimum size: 374x560 MINMAXINFO maxSize=0,0 maxpos=0,0 mintrack=770,1176 maxtrack=0,0)\n",
      "WARNING:vispy:QWindowsWindow::setGeometry: Unable to set geometry 1920x1200+802-1824 (frame: 1942x1256+791-1869) on QWidgetWindow/\"_QtMainWindowClassWindow\" on \"\\\\.\\DISPLAY1\". Resulting geometry: 1438x1120+800-1836 (frame: 1460x1176+789-1881) margins: 11, 45, 11, 11 minimum size: 374x560 MINMAXINFO maxSize=0,0 maxpos=0,0 mintrack=770,1176 maxtrack=0,0)\n"
     ]
    }
   ],
   "source": [
    "import napari\n",
    "NV=napari.Viewer()"
   ]
  },
  {
   "cell_type": "code",
   "execution_count": 15,
   "metadata": {},
   "outputs": [
    {
     "data": {
      "text/plain": [
       "<Image layer 'res' at 0x1d411951300>"
      ]
     },
     "execution_count": 15,
     "metadata": {},
     "output_type": "execute_result"
    }
   ],
   "source": [
    "NV.add_image(data)\n",
    "NV.add_image(res)"
   ]
  },
  {
   "attachments": {},
   "cell_type": "markdown",
   "metadata": {},
   "source": [
    "It appears that it has worked"
   ]
  },
  {
   "cell_type": "code",
   "execution_count": null,
   "metadata": {},
   "outputs": [],
   "source": []
  }
 ],
 "metadata": {
  "kernelspec": {
   "display_name": "dev",
   "language": "python",
   "name": "python3"
  },
  "language_info": {
   "codemirror_mode": {
    "name": "ipython",
    "version": 3
   },
   "file_extension": ".py",
   "mimetype": "text/x-python",
   "name": "python",
   "nbconvert_exporter": "python",
   "pygments_lexer": "ipython3",
   "version": "3.10.11"
  },
  "orig_nbformat": 4
 },
 "nbformat": 4,
 "nbformat_minor": 2
}
