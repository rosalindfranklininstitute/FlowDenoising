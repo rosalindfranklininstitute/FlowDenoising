{
 "cells": [
  {
   "attachments": {},
   "cell_type": "markdown",
   "metadata": {},
   "source": [
    "Example of test flow denoiser"
   ]
  },
  {
   "cell_type": "code",
   "execution_count": 4,
   "metadata": {},
   "outputs": [],
   "source": [
    "import sys\n",
    "sys.path.append(\"..\")\n",
    "import src.flowdenoisingRFI as fd\n",
    "#fd.__debug__=True"
   ]
  },
  {
   "cell_type": "code",
   "execution_count": 5,
   "metadata": {},
   "outputs": [],
   "source": [
    "import logging\n",
    "logging.basicConfig(level=logging.DEBUG)"
   ]
  },
  {
   "cell_type": "code",
   "execution_count": 3,
   "metadata": {},
   "outputs": [],
   "source": [
    "import numpy as np\n",
    "import napari"
   ]
  },
  {
   "cell_type": "code",
   "execution_count": 4,
   "metadata": {},
   "outputs": [],
   "source": [
    "import mrcfile"
   ]
  },
  {
   "cell_type": "code",
   "execution_count": 5,
   "metadata": {},
   "outputs": [],
   "source": [
    "mrcfile0= mrcfile.open(r\"C:\\Users\\Luis-work\\Desktop\\Others\\git-FlowDenosing\\data_from_authors\\empiar10311_stack_crop.mrc\", mode=\"r+\")"
   ]
  },
  {
   "cell_type": "code",
   "execution_count": 6,
   "metadata": {},
   "outputs": [
    {
     "data": {
      "text/plain": [
       "MrcFile('C:\\Users\\Luis-work\\Desktop\\Others\\git-FlowDenosing\\data_from_authors\\empiar10311_stack_crop.mrc', mode='r+')"
      ]
     },
     "execution_count": 6,
     "metadata": {},
     "output_type": "execute_result"
    }
   ],
   "source": [
    "mrcfile0"
   ]
  },
  {
   "cell_type": "code",
   "execution_count": 7,
   "metadata": {},
   "outputs": [],
   "source": [
    "data=mrcfile0.data"
   ]
  },
  {
   "cell_type": "code",
   "execution_count": 8,
   "metadata": {},
   "outputs": [
    {
     "data": {
      "text/plain": [
       "dtype('<f4')"
      ]
     },
     "execution_count": 8,
     "metadata": {},
     "output_type": "execute_result"
    }
   ],
   "source": [
    "data.dtype"
   ]
  },
  {
   "cell_type": "code",
   "execution_count": 9,
   "metadata": {},
   "outputs": [
    {
     "data": {
      "text/plain": [
       "(100, 1024, 1024)"
      ]
     },
     "execution_count": 9,
     "metadata": {},
     "output_type": "execute_result"
    }
   ],
   "source": [
    "data.shape"
   ]
  },
  {
   "attachments": {},
   "cell_type": "markdown",
   "metadata": {},
   "source": [
    "Try to run denoiser"
   ]
  },
  {
   "cell_type": "code",
   "execution_count": 10,
   "metadata": {},
   "outputs": [
    {
     "name": "stderr",
     "output_type": "stream",
     "text": [
      "INFO:root:Number of processing units: 8\n"
     ]
    }
   ],
   "source": [
    "filter = fd.cFlowDenoiser()"
   ]
  },
  {
   "cell_type": "code",
   "execution_count": 11,
   "metadata": {},
   "outputs": [],
   "source": [
    "filter.max_number_of_processes=1"
   ]
  },
  {
   "cell_type": "code",
   "execution_count": 12,
   "metadata": {},
   "outputs": [
    {
     "name": "stderr",
     "output_type": "stream",
     "text": [
      "INFO:root:shape of the input volume (Z, Y, X) = (100, 1024, 1024)\n",
      "INFO:root:type of the volume = float32\n",
      "INFO:root:vol requires 400.0 MB\n",
      "INFO:root:data max = 255.0\n",
      "INFO:root:data min = 0.0\n",
      "INFO:root:Input vol average = 164.70201110839844\n",
      "INFO:root:No reusing adjacent OF fields as predictions\n",
      "INFO:root:sigma=(2.0, 2.0, 2.0)\n",
      "INFO:root:Computing gaussian kernel with sigma=2.0\n",
      "DEBUG:root:Kernel computed\n",
      "INFO:root:Computing gaussian kernel with sigma=2.0\n",
      "DEBUG:root:Kernel computed\n",
      "INFO:root:Computing gaussian kernel with sigma=2.0\n",
      "DEBUG:root:Kernel computed\n",
      "INFO:root:length of each filter (Z, Y, X) = [17, 17, 17]\n",
      "INFO:root:0.0 completed\n",
      "INFO:root:Filtering ...\n",
      "INFO:root:Filtering along Z with kernel length=17\n",
      "INFO:root:0.0 completed\n",
      "INFO:root:0.0 completed\n",
      "INFO:root:0.0 completed\n",
      "INFO:root:0.0 completed\n",
      "INFO:root:0.0 completed\n",
      "INFO:root:0.0 completed\n",
      "INFO:root:0.0 completed\n",
      "INFO:root:0.0 completed\n",
      "DEBUG:root:PU #0 finished\n",
      "DEBUG:root:Filtering along Z spent 10.565398900012951 seconds\n",
      "INFO:root:Filtering along Y with kernel length=17\n",
      "INFO:root:0.0 completed\n",
      "INFO:root:0.0 completed\n",
      "INFO:root:0.0 completed\n",
      "INFO:root:0.0 completed\n",
      "INFO:root:0.0 completed\n",
      "INFO:root:0.0 completed\n",
      "INFO:root:0.0 completed\n",
      "INFO:root:0.0 completed\n",
      "INFO:root:0.0 completed\n",
      "DEBUG:root:PU #0 finished\n",
      "INFO:root:0.0 completed\n",
      "DEBUG:root:Filtering along Y spent 10.43002939998405 seconds\n",
      "INFO:root:Filtering along X with kernel length=17\n",
      "INFO:root:0.0 completed\n",
      "INFO:root:0.0 completed\n",
      "INFO:root:0.0 completed\n",
      "INFO:root:0.0 completed\n",
      "INFO:root:0.0 completed\n",
      "INFO:root:0.0 completed\n",
      "INFO:root:0.0 completed\n",
      "INFO:root:0.0 completed\n",
      "INFO:root:0.0 completed\n",
      "INFO:root:0.0 completed\n",
      "INFO:root:0.0 completed\n",
      "INFO:root:0.0 completed\n",
      "INFO:root:0.0 completed\n",
      "INFO:root:0.0 completed\n",
      "INFO:root:0.0 completed\n",
      "INFO:root:0.0 completed\n",
      "INFO:root:0.0 completed\n",
      "INFO:root:0.0 completed\n",
      "INFO:root:0.0 completed\n",
      "INFO:root:0.0 completed\n",
      "DEBUG:root:PU #0 finished\n",
      "DEBUG:root:Filtering along X spent 21.612446499988437 seconds\n",
      "INFO:root:Volume filtered in 43.03155749995494 seconds\n",
      "INFO:root:feedback_periodic thread stopped.\n",
      "INFO:root:Closing and unlinking shared memory\n"
     ]
    }
   ],
   "source": [
    "res= filter.runOpticalFlow(data)"
   ]
  },
  {
   "cell_type": "code",
   "execution_count": 15,
   "metadata": {},
   "outputs": [
    {
     "data": {
      "text/plain": [
       "(100, 1024, 1024)"
      ]
     },
     "execution_count": 15,
     "metadata": {},
     "output_type": "execute_result"
    }
   ],
   "source": [
    "res.shape"
   ]
  },
  {
   "cell_type": "code",
   "execution_count": 16,
   "metadata": {},
   "outputs": [
    {
     "name": "stdout",
     "output_type": "stream",
     "text": [
      "Kernel still running if this prints\n"
     ]
    }
   ],
   "source": [
    "print(\"Kernel still running if this prints\")"
   ]
  },
  {
   "attachments": {},
   "cell_type": "markdown",
   "metadata": {},
   "source": [
    "Saves data"
   ]
  },
  {
   "cell_type": "code",
   "execution_count": 17,
   "metadata": {},
   "outputs": [],
   "source": [
    "#This is crashing for some reason\n",
    "with mrcfile.new(r\"C:\\Users\\Luis-work\\Desktop\\Others\\git-FlowDenosing\\data_from_authors\\empiar10311_stack_crop_denoised0.mrc\", overwrite=True) as mrc:\n",
    "    mrc.set_data(res.astype(np.float32))\n",
    "    mrc.data"
   ]
  },
  {
   "cell_type": "code",
   "execution_count": null,
   "metadata": {},
   "outputs": [],
   "source": []
  },
  {
   "cell_type": "code",
   "execution_count": null,
   "metadata": {},
   "outputs": [],
   "source": []
  }
 ],
 "metadata": {
  "kernelspec": {
   "display_name": "dev",
   "language": "python",
   "name": "python3"
  },
  "language_info": {
   "codemirror_mode": {
    "name": "ipython",
    "version": 3
   },
   "file_extension": ".py",
   "mimetype": "text/x-python",
   "name": "python",
   "nbconvert_exporter": "python",
   "pygments_lexer": "ipython3",
   "version": "3.10.11"
  },
  "orig_nbformat": 4
 },
 "nbformat": 4,
 "nbformat_minor": 2
}
