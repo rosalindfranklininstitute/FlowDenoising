{
 "cells": [
  {
   "attachments": {},
   "cell_type": "markdown",
   "metadata": {},
   "source": [
    "Example of test flow denoiser"
   ]
  },
  {
   "cell_type": "code",
   "execution_count": 1,
   "metadata": {},
   "outputs": [],
   "source": [
    "import sys\n",
    "sys.path.append(\"..\")\n",
    "import src.flowdenoisingRFI as fd"
   ]
  },
  {
   "cell_type": "code",
   "execution_count": 2,
   "metadata": {},
   "outputs": [],
   "source": [
    "import logging\n",
    "logging.basicConfig(level=logging.DEBUG)"
   ]
  },
  {
   "cell_type": "code",
   "execution_count": 3,
   "metadata": {},
   "outputs": [],
   "source": [
    "import numpy as np\n",
    "import napari"
   ]
  },
  {
   "cell_type": "code",
   "execution_count": 4,
   "metadata": {},
   "outputs": [],
   "source": [
    "import mrcfile"
   ]
  },
  {
   "cell_type": "code",
   "execution_count": 5,
   "metadata": {},
   "outputs": [],
   "source": [
    "mrcfile0= mrcfile.open(r\"C:\\Users\\Luis-work\\Desktop\\Others\\git-FlowDenosing\\data_from_authors\\empiar10311_stack_crop.mrc\", mode=\"r+\")"
   ]
  },
  {
   "cell_type": "code",
   "execution_count": 6,
   "metadata": {},
   "outputs": [
    {
     "data": {
      "text/plain": [
       "MrcFile('C:\\Users\\Luis-work\\Desktop\\Others\\git-FlowDenosing\\data_from_authors\\empiar10311_stack_crop.mrc', mode='r+')"
      ]
     },
     "execution_count": 6,
     "metadata": {},
     "output_type": "execute_result"
    }
   ],
   "source": [
    "mrcfile0"
   ]
  },
  {
   "cell_type": "code",
   "execution_count": 7,
   "metadata": {},
   "outputs": [],
   "source": [
    "data=mrcfile0.data"
   ]
  },
  {
   "cell_type": "code",
   "execution_count": 8,
   "metadata": {},
   "outputs": [
    {
     "data": {
      "text/plain": [
       "dtype('<f4')"
      ]
     },
     "execution_count": 8,
     "metadata": {},
     "output_type": "execute_result"
    }
   ],
   "source": [
    "data.dtype"
   ]
  },
  {
   "cell_type": "code",
   "execution_count": 9,
   "metadata": {},
   "outputs": [
    {
     "data": {
      "text/plain": [
       "(100, 1024, 1024)"
      ]
     },
     "execution_count": 9,
     "metadata": {},
     "output_type": "execute_result"
    }
   ],
   "source": [
    "data.shape"
   ]
  },
  {
   "attachments": {},
   "cell_type": "markdown",
   "metadata": {},
   "source": [
    "Try to run denoiser"
   ]
  },
  {
   "cell_type": "code",
   "execution_count": 10,
   "metadata": {},
   "outputs": [
    {
     "name": "stderr",
     "output_type": "stream",
     "text": [
      "INFO:root:Number of processing units: 8\n"
     ]
    }
   ],
   "source": [
    "filter = fd.cFlowDenoiser()"
   ]
  },
  {
   "cell_type": "code",
   "execution_count": 11,
   "metadata": {},
   "outputs": [],
   "source": [
    "filter.max_number_of_processes=1"
   ]
  },
  {
   "cell_type": "code",
   "execution_count": 12,
   "metadata": {},
   "outputs": [
    {
     "name": "stderr",
     "output_type": "stream",
     "text": [
      "INFO:root:shape of the input volume (Z, Y, X) = (100, 1024, 1024)\n",
      "INFO:root:type of the volume = float32\n",
      "INFO:root:vol requires 400.0 MB\n",
      "INFO:root:data max = 255.0\n",
      "INFO:root:data min = 0.0\n",
      "INFO:root:Input vol average = 164.70201110839844\n",
      "INFO:root:No reusing adjacent OF fields as predictions\n",
      "INFO:root:sigma=(2.0, 2.0, 2.0)\n",
      "INFO:root:Computing gaussian kernel with sigma=2.0\n",
      "DEBUG:root:Kernel computed\n",
      "INFO:root:Computing gaussian kernel with sigma=2.0\n",
      "DEBUG:root:Kernel computed\n",
      "INFO:root:Computing gaussian kernel with sigma=2.0\n",
      "DEBUG:root:Kernel computed\n",
      "INFO:root:length of each filter (Z, Y, X) = [17, 17, 17]\n",
      "INFO:root:0.0 completed\n",
      "INFO:root:Filtering ...\n",
      "INFO:root:Filtering along Z with kernel length=17\n",
      "INFO:root:0.0 completed\n",
      "INFO:root:0.0 completed\n",
      "INFO:root:0.0 completed\n",
      "INFO:root:0.0 completed\n",
      "INFO:root:0.0 completed\n",
      "INFO:root:0.0 completed\n",
      "INFO:root:0.0 completed\n",
      "DEBUG:root:PU #0 finished\n",
      "DEBUG:root:Filtering along Z spent 11.10907419997966 seconds\n",
      "INFO:root:Filtering along Y with kernel length=17\n",
      "INFO:root:0.0 completed\n",
      "INFO:root:0.0 completed\n",
      "INFO:root:0.0 completed\n",
      "INFO:root:0.0 completed\n",
      "INFO:root:0.0 completed\n",
      "DEBUG:root:PU #0 finished\n",
      "DEBUG:root:Filtering along Y spent 6.5736716000246815 seconds\n",
      "INFO:root:0.0 completed\n",
      "INFO:root:Filtering along X with kernel length=17\n",
      "INFO:root:0.0 completed\n",
      "INFO:root:0.0 completed\n",
      "INFO:root:0.0 completed\n",
      "INFO:root:0.0 completed\n",
      "INFO:root:0.0 completed\n",
      "INFO:root:0.0 completed\n",
      "INFO:root:0.0 completed\n",
      "INFO:root:0.0 completed\n",
      "INFO:root:0.0 completed\n",
      "INFO:root:0.0 completed\n",
      "INFO:root:0.0 completed\n",
      "INFO:root:0.0 completed\n",
      "INFO:root:0.0 completed\n",
      "INFO:root:0.0 completed\n",
      "INFO:root:0.0 completed\n",
      "INFO:root:0.0 completed\n",
      "INFO:root:0.0 completed\n",
      "INFO:root:0.0 completed\n",
      "INFO:root:0.0 completed\n",
      "INFO:root:0.0 completed\n",
      "INFO:root:0.0 completed\n",
      "INFO:root:0.0 completed\n",
      "INFO:root:0.0 completed\n",
      "INFO:root:0.0 completed\n",
      "INFO:root:0.0 completed\n",
      "INFO:root:0.0 completed\n",
      "INFO:root:0.0 completed\n",
      "INFO:root:0.0 completed\n",
      "INFO:root:0.0 completed\n",
      "INFO:root:0.0 completed\n",
      "INFO:root:0.0 completed\n",
      "INFO:root:0.0 completed\n",
      "DEBUG:root:PU #0 finished\n",
      "DEBUG:root:Filtering along X spent 33.039308100007474 seconds\n",
      "INFO:root:Volume filtered in 51.07306069997139 seconds\n",
      "INFO:root:Closing and unlinking shared memory\n",
      "INFO:root:feedback_periodic thread stopped.\n"
     ]
    }
   ],
   "source": [
    "res= filter.runOpticalFlow(data)"
   ]
  },
  {
   "cell_type": "code",
   "execution_count": 13,
   "metadata": {},
   "outputs": [
    {
     "data": {
      "text/plain": [
       "(100, 1024, 1024)"
      ]
     },
     "execution_count": 13,
     "metadata": {},
     "output_type": "execute_result"
    }
   ],
   "source": [
    "res.shape"
   ]
  },
  {
   "cell_type": "code",
   "execution_count": 14,
   "metadata": {},
   "outputs": [
    {
     "name": "stdout",
     "output_type": "stream",
     "text": [
      "Kernel still running if this prints\n"
     ]
    }
   ],
   "source": [
    "print(\"Kernel still running if this prints\")"
   ]
  },
  {
   "attachments": {},
   "cell_type": "markdown",
   "metadata": {},
   "source": [
    "Saves data"
   ]
  },
  {
   "cell_type": "code",
   "execution_count": 15,
   "metadata": {},
   "outputs": [],
   "source": [
    "#This is crashing for some reason\n",
    "with mrcfile.new(r\"C:\\Users\\Luis-work\\Desktop\\Others\\git-FlowDenosing\\data_from_authors\\empiar10311_stack_crop_denoised0.mrc\", overwrite=True) as mrc:\n",
    "    mrc.set_data(res.astype(np.float32))\n",
    "    mrc.data"
   ]
  },
  {
   "cell_type": "code",
   "execution_count": null,
   "metadata": {},
   "outputs": [],
   "source": []
  },
  {
   "cell_type": "code",
   "execution_count": null,
   "metadata": {},
   "outputs": [],
   "source": []
  },
  {
   "cell_type": "code",
   "execution_count": 16,
   "metadata": {},
   "outputs": [
    {
     "name": "stderr",
     "output_type": "stream",
     "text": [
      "DEBUG:in_n_out:Registering provider of <class 'napari.viewer.Viewer'>: <function _provide_viewer at 0x000001CABF714790> (weight: 0, subclassable: True)\n",
      "DEBUG:in_n_out:Registering provider of <class 'napari.layers.base.base.Layer'>: <function _provide_active_layer at 0x000001CABF7149D0> (weight: 0, subclassable: True)\n",
      "DEBUG:in_n_out:Registering provider of <class 'napari.components.layerlist.LayerList'>: <function _provide_active_layer_list at 0x000001CABF714A60> (weight: 0, subclassable: True)\n",
      "DEBUG:in_n_out:Registering processor of napari.types.LayerDataTuple: <function _add_layer_data_tuples_to_viewer at 0x000001CABF714940> (weight: 0, subclassable: False)\n",
      "DEBUG:in_n_out:Registering processor of typing.List[napari.types.LayerDataTuple]: <function _add_layer_data_tuples_to_viewer at 0x000001CABF714940> (weight: 0, subclassable: False)\n",
      "DEBUG:in_n_out:Registering processor of <class 'napari.layers.base.base.Layer'>: <function _add_layer_to_viewer at 0x000001CABF714B80> (weight: 0, subclassable: True)\n",
      "DEBUG:in_n_out:Registering processor of napari.types.ImageData: functools.partial(<function _add_layer_data_to_viewer at 0x000001CABF714AF0>, return_type=napari.types.ImageData) (weight: 0, subclassable: False)\n",
      "DEBUG:in_n_out:Registering processor of concurrent.futures._base.Future[napari.types.ImageData]: functools.partial(<function _add_future_data at 0x000001CABF714C10>, return_type=napari.types.ImageData, _from_tuple=False) (weight: 0, subclassable: False)\n",
      "DEBUG:in_n_out:Registering processor of napari.types.LabelsData: functools.partial(<function _add_layer_data_to_viewer at 0x000001CABF714AF0>, return_type=napari.types.LabelsData) (weight: 0, subclassable: False)\n",
      "DEBUG:in_n_out:Registering processor of concurrent.futures._base.Future[napari.types.LabelsData]: functools.partial(<function _add_future_data at 0x000001CABF714C10>, return_type=napari.types.LabelsData, _from_tuple=False) (weight: 0, subclassable: False)\n",
      "DEBUG:in_n_out:Registering processor of napari.types.PointsData: functools.partial(<function _add_layer_data_to_viewer at 0x000001CABF714AF0>, return_type=napari.types.PointsData) (weight: 0, subclassable: False)\n",
      "DEBUG:in_n_out:Registering processor of concurrent.futures._base.Future[napari.types.PointsData]: functools.partial(<function _add_future_data at 0x000001CABF714C10>, return_type=napari.types.PointsData, _from_tuple=False) (weight: 0, subclassable: False)\n",
      "DEBUG:in_n_out:Registering processor of napari.types.ShapesData: functools.partial(<function _add_layer_data_to_viewer at 0x000001CABF714AF0>, return_type=napari.types.ShapesData) (weight: 0, subclassable: False)\n",
      "DEBUG:in_n_out:Registering processor of concurrent.futures._base.Future[napari.types.ShapesData]: functools.partial(<function _add_future_data at 0x000001CABF714C10>, return_type=napari.types.ShapesData, _from_tuple=False) (weight: 0, subclassable: False)\n",
      "DEBUG:in_n_out:Registering processor of napari.types.SurfaceData: functools.partial(<function _add_layer_data_to_viewer at 0x000001CABF714AF0>, return_type=napari.types.SurfaceData) (weight: 0, subclassable: False)\n",
      "DEBUG:in_n_out:Registering processor of concurrent.futures._base.Future[napari.types.SurfaceData]: functools.partial(<function _add_future_data at 0x000001CABF714C10>, return_type=napari.types.SurfaceData, _from_tuple=False) (weight: 0, subclassable: False)\n",
      "DEBUG:in_n_out:Registering processor of napari.types.TracksData: functools.partial(<function _add_layer_data_to_viewer at 0x000001CABF714AF0>, return_type=napari.types.TracksData) (weight: 0, subclassable: False)\n",
      "DEBUG:in_n_out:Registering processor of concurrent.futures._base.Future[napari.types.TracksData]: functools.partial(<function _add_future_data at 0x000001CABF714C10>, return_type=napari.types.TracksData, _from_tuple=False) (weight: 0, subclassable: False)\n",
      "DEBUG:in_n_out:Registering processor of napari.types.VectorsData: functools.partial(<function _add_layer_data_to_viewer at 0x000001CABF714AF0>, return_type=napari.types.VectorsData) (weight: 0, subclassable: False)\n",
      "DEBUG:in_n_out:Registering processor of concurrent.futures._base.Future[napari.types.VectorsData]: functools.partial(<function _add_future_data at 0x000001CABF714C10>, return_type=napari.types.VectorsData, _from_tuple=False) (weight: 0, subclassable: False)\n",
      "DEBUG:in_n_out:Registering processor of napari._qt.qthreading.FunctionWorker[napari.types.LayerDataTuple]: <function _add_worker_data_from_tuple at 0x000001CABF920AF0> (weight: 0, subclassable: False)\n",
      "DEBUG:in_n_out:Registering processor of napari._qt.qthreading.FunctionWorker[typing.List[napari.types.LayerDataTuple]]: <function _add_worker_data_from_tuple at 0x000001CABF920AF0> (weight: 0, subclassable: False)\n",
      "DEBUG:in_n_out:Registering processor of napari._qt.qthreading.FunctionWorker[napari.types.LabelsData]: <function _add_worker_data at 0x000001CABF920A60> (weight: 0, subclassable: False)\n",
      "DEBUG:in_n_out:Registering processor of napari._qt.qthreading.FunctionWorker[napari.types.SurfaceData]: <function _add_worker_data at 0x000001CABF920A60> (weight: 0, subclassable: False)\n",
      "DEBUG:in_n_out:Registering processor of napari._qt.qthreading.FunctionWorker[napari.types.TracksData]: <function _add_worker_data at 0x000001CABF920A60> (weight: 0, subclassable: False)\n",
      "DEBUG:in_n_out:Registering processor of napari._qt.qthreading.FunctionWorker[napari.types.ImageData]: <function _add_worker_data at 0x000001CABF920A60> (weight: 0, subclassable: False)\n",
      "DEBUG:in_n_out:Registering processor of napari._qt.qthreading.FunctionWorker[napari.types.PointsData]: <function _add_worker_data at 0x000001CABF920A60> (weight: 0, subclassable: False)\n",
      "DEBUG:in_n_out:Registering processor of napari._qt.qthreading.FunctionWorker[napari.types.ShapesData]: <function _add_worker_data at 0x000001CABF920A60> (weight: 0, subclassable: False)\n",
      "DEBUG:in_n_out:Registering processor of napari._qt.qthreading.FunctionWorker[napari.types.VectorsData]: <function _add_worker_data at 0x000001CABF920A60> (weight: 0, subclassable: False)\n",
      "INFO:bfio.init:VERSION = 2.3.0\n",
      "\n",
      "INFO:bfio.init:The bioformats_package.jar is not present.Can only use Python backend for reading/writing images.\n",
      "DEBUG:xmlschema:Read schema from 'file:///c:/Users/Luis-work/miniconda3/envs/dev/lib/site-packages/xmlschema/schemas/XSD_1.0/XMLSchema.xsd'\n",
      "DEBUG:xmlschema:Schema targetNamespace is 'http://www.w3.org/2001/XMLSchema'\n",
      "DEBUG:xmlschema:Declared namespaces: {'xml': 'http://www.w3.org/XML/1998/namespace', 'xs': 'http://www.w3.org/2001/XMLSchema', 'hfp': 'http://www.w3.org/2001/XMLSchema-hasFacetAndProperty', '': ''}\n",
      "DEBUG:xmlschema:Read schema from 'file:///c:/Users/Luis-work/miniconda3/envs/dev/lib/site-packages/xmlschema/schemas/XML/xml_minimal.xsd'\n",
      "DEBUG:xmlschema:Schema targetNamespace is 'http://www.w3.org/XML/1998/namespace'\n",
      "DEBUG:xmlschema:Declared namespaces: {'xml': 'http://www.w3.org/XML/1998/namespace', 'xs': 'http://www.w3.org/2001/XMLSchema', '': ''}\n",
      "DEBUG:xmlschema:Read schema from 'file:///c:/Users/Luis-work/miniconda3/envs/dev/lib/site-packages/xmlschema/schemas/XSI/XMLSchema-instance_minimal.xsd'\n",
      "DEBUG:xmlschema:Schema targetNamespace is 'http://www.w3.org/2001/XMLSchema-instance'\n",
      "DEBUG:xmlschema:Declared namespaces: {'xml': 'http://www.w3.org/XML/1998/namespace', 'xs': 'http://www.w3.org/2001/XMLSchema', '': ''}\n",
      "DEBUG:xmlschema:Read schema from 'file:///c:/Users/Luis-work/miniconda3/envs/dev/lib/site-packages/xmlschema/schemas/XSD_1.1/XMLSchema.xsd'\n",
      "DEBUG:xmlschema:Schema targetNamespace is 'http://www.w3.org/2001/XMLSchema'\n",
      "DEBUG:xmlschema:Declared namespaces: {'xml': 'http://www.w3.org/XML/1998/namespace', 'xs': 'http://www.w3.org/2001/XMLSchema', '': ''}\n",
      "DEBUG:xmlschema:Read schema from 'file:///c:/Users/Luis-work/miniconda3/envs/dev/lib/site-packages/xmlschema/schemas/XML/xml_minimal.xsd'\n",
      "DEBUG:xmlschema:Schema targetNamespace is 'http://www.w3.org/XML/1998/namespace'\n",
      "DEBUG:xmlschema:Declared namespaces: {'xml': 'http://www.w3.org/XML/1998/namespace', 'xs': 'http://www.w3.org/2001/XMLSchema', '': ''}\n",
      "DEBUG:xmlschema:Read schema from 'file:///c:/Users/Luis-work/miniconda3/envs/dev/lib/site-packages/xmlschema/schemas/XSI/XMLSchema-instance_minimal.xsd'\n",
      "DEBUG:xmlschema:Schema targetNamespace is 'http://www.w3.org/2001/XMLSchema-instance'\n",
      "DEBUG:xmlschema:Declared namespaces: {'xml': 'http://www.w3.org/XML/1998/namespace', 'xs': 'http://www.w3.org/2001/XMLSchema', '': ''}\n",
      "DEBUG:xmlschema:Read schema from 'file:///c:/Users/Luis-work/miniconda3/envs/dev/lib/site-packages/xmlschema/schemas/XSD_1.1/xsd11-extra.xsd'\n",
      "DEBUG:xmlschema:Schema targetNamespace is 'http://www.w3.org/2001/XMLSchema'\n",
      "DEBUG:xmlschema:Declared namespaces: {'xml': 'http://www.w3.org/XML/1998/namespace', 'xs': 'http://www.w3.org/2001/XMLSchema', '': ''}\n",
      "INFO:xmlschema:Resource 'XMLSchema.xsd' is already loaded\n",
      "DEBUG:xmlschema:Read schema from 'file:///c:/Users/Luis-work/miniconda3/envs/dev/lib/site-packages/xmlschema/schemas/VC/XMLSchema-versioning.xsd'\n",
      "DEBUG:xmlschema:Schema targetNamespace is 'http://www.w3.org/2007/XMLSchema-versioning'\n",
      "DEBUG:xmlschema:Declared namespaces: {'xml': 'http://www.w3.org/XML/1998/namespace', 'xs': 'http://www.w3.org/2001/XMLSchema', '': ''}\n",
      "DEBUG:numcodecs:Registering codec 'zlib'\n",
      "DEBUG:numcodecs:Registering codec 'gzip'\n",
      "DEBUG:numcodecs:Registering codec 'bz2'\n",
      "DEBUG:numcodecs:Registering codec 'lzma'\n",
      "DEBUG:numcodecs:Registering codec 'blosc'\n",
      "DEBUG:numcodecs:Registering codec 'zstd'\n",
      "DEBUG:numcodecs:Registering codec 'lz4'\n",
      "DEBUG:numcodecs:Registering codec 'astype'\n",
      "DEBUG:numcodecs:Registering codec 'delta'\n",
      "DEBUG:numcodecs:Registering codec 'quantize'\n",
      "DEBUG:numcodecs:Registering codec 'fixedscaleoffset'\n",
      "DEBUG:numcodecs:Registering codec 'packbits'\n",
      "DEBUG:numcodecs:Registering codec 'categorize'\n",
      "DEBUG:numcodecs:Registering codec 'pickle'\n",
      "DEBUG:numcodecs:Registering codec 'base64'\n",
      "DEBUG:numcodecs:Registering codec 'shuffle'\n",
      "DEBUG:numcodecs:Registering codec 'bitround'\n",
      "DEBUG:numcodecs:Registering codec 'msgpack2'\n",
      "DEBUG:numcodecs:Registering codec 'crc32'\n",
      "DEBUG:numcodecs:Registering codec 'adler32'\n",
      "DEBUG:numcodecs:Registering codec 'json2'\n",
      "DEBUG:numcodecs:Registering codec 'vlen-utf8'\n",
      "DEBUG:numcodecs:Registering codec 'vlen-bytes'\n",
      "DEBUG:numcodecs:Registering codec 'vlen-array'\n",
      "DEBUG:numcodecs:Registering codec 'n5_wrapper'\n",
      "DEBUG:h5py._conv:Creating converter from 7 to 5\n",
      "DEBUG:h5py._conv:Creating converter from 5 to 7\n",
      "DEBUG:h5py._conv:Creating converter from 7 to 5\n",
      "DEBUG:h5py._conv:Creating converter from 5 to 7\n"
     ]
    }
   ],
   "source": [
    "NV=napari.Viewer()"
   ]
  },
  {
   "cell_type": "code",
   "execution_count": 17,
   "metadata": {},
   "outputs": [],
   "source": [
    "#NV.add_image(res) #crashing"
   ]
  }
 ],
 "metadata": {
  "kernelspec": {
   "display_name": "dev",
   "language": "python",
   "name": "python3"
  },
  "language_info": {
   "codemirror_mode": {
    "name": "ipython",
    "version": 3
   },
   "file_extension": ".py",
   "mimetype": "text/x-python",
   "name": "python",
   "nbconvert_exporter": "python",
   "pygments_lexer": "ipython3",
   "version": "3.10.11"
  },
  "orig_nbformat": 4
 },
 "nbformat": 4,
 "nbformat_minor": 2
}
