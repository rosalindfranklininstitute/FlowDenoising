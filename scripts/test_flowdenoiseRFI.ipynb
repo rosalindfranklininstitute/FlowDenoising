{
 "cells": [
  {
   "cell_type": "code",
   "execution_count": 17,
   "metadata": {},
   "outputs": [],
   "source": [
    "import sys\n",
    "sys.path.append(\"..\")\n",
    "import numpy as np\n",
    "import src.flowdenoisingRFI as fdnrfi\n",
    "import logging\n",
    "logging.basicConfig(level=logging.INFO)"
   ]
  },
  {
   "cell_type": "code",
   "execution_count": 18,
   "metadata": {},
   "outputs": [
    {
     "data": {
      "text/plain": [
       "'Is great'"
      ]
     },
     "execution_count": 18,
     "metadata": {},
     "output_type": "execute_result"
    }
   ],
   "source": [
    "fdnrfi.FDN_LIZZIE"
   ]
  },
  {
   "cell_type": "code",
   "execution_count": 19,
   "metadata": {},
   "outputs": [],
   "source": [
    "import mrcfile"
   ]
  },
  {
   "cell_type": "code",
   "execution_count": 20,
   "metadata": {},
   "outputs": [],
   "source": [
    "with mrcfile.open(r\"tempdata.mrc\", mode=\"r+\") as mrcfile0:\n",
    "    data=mrcfile0.data"
   ]
  },
  {
   "cell_type": "code",
   "execution_count": 21,
   "metadata": {},
   "outputs": [
    {
     "data": {
      "text/plain": [
       "(100, 256, 256)"
      ]
     },
     "execution_count": 21,
     "metadata": {},
     "output_type": "execute_result"
    }
   ],
   "source": [
    "data.shape"
   ]
  },
  {
   "cell_type": "code",
   "execution_count": 22,
   "metadata": {},
   "outputs": [
    {
     "data": {
      "text/plain": [
       "dtype('<u2')"
      ]
     },
     "execution_count": 22,
     "metadata": {},
     "output_type": "execute_result"
    }
   ],
   "source": [
    "data.dtype"
   ]
  },
  {
   "attachments": {},
   "cell_type": "markdown",
   "metadata": {},
   "source": [
    "Create denoise class instance"
   ]
  },
  {
   "cell_type": "code",
   "execution_count": 23,
   "metadata": {},
   "outputs": [
    {
     "name": "stderr",
     "output_type": "stream",
     "text": [
      "INFO:root:Number of processing units: 8\n"
     ]
    },
    {
     "name": "stdout",
     "output_type": "stream",
     "text": [
      "levels:3\n",
      "winsize:5\n"
     ]
    }
   ],
   "source": [
    "filter = fdnrfi.cFlowDenoiser()"
   ]
  },
  {
   "cell_type": "code",
   "execution_count": 24,
   "metadata": {},
   "outputs": [],
   "source": [
    "filter.max_number_of_processes=4"
   ]
  },
  {
   "cell_type": "code",
   "execution_count": 25,
   "metadata": {},
   "outputs": [
    {
     "data": {
      "text/plain": [
       "3"
      ]
     },
     "execution_count": 25,
     "metadata": {},
     "output_type": "execute_result"
    }
   ],
   "source": [
    "filter.OF_LEVELS"
   ]
  },
  {
   "attachments": {},
   "cell_type": "markdown",
   "metadata": {},
   "source": [
    "Try running"
   ]
  },
  {
   "cell_type": "code",
   "execution_count": 26,
   "metadata": {},
   "outputs": [
    {
     "name": "stderr",
     "output_type": "stream",
     "text": [
      "INFO:root:shape of the input volume (Z, Y, X) = (100, 256, 256)\n",
      "INFO:root:type of the volume = uint16\n",
      "INFO:root:vol requires 12.5 MB\n",
      "INFO:root:data max = 255\n",
      "INFO:root:data min = 0\n",
      "INFO:root:Input vol average = 163.69832733154297\n",
      "INFO:root:sigma=(2.0, 2.0, 2.0)\n",
      "INFO:root:Computing gaussian kernel with sigma=2.0\n",
      "INFO:root:Computing gaussian kernel with sigma=2.0\n",
      "INFO:root:Computing gaussian kernel with sigma=2.0\n",
      "INFO:root:length of each filter (Z, Y, X) = [17, 17, 17]\n",
      "INFO:root:Filtering ...\n",
      "INFO:root:Filtering along Z\n",
      "INFO:root:0/612 completed\n",
      "INFO:root:Filtering along axis 0 with l=3, w=5, and kernel length=17\n",
      "INFO:root:filter_along_axis_chunk_worker() with chunk_index:0, chunk_size:100, kernel:[6.69162896e-05 4.36349021e-04 2.21596317e-03 8.76430436e-03\n",
      " 2.69959580e-02 6.47599366e-02 1.20987490e-01 1.76035759e-01\n",
      " 1.99474648e-01 1.76035759e-01 1.20987490e-01 6.47599366e-02\n",
      " 2.69959580e-02 8.76430436e-03 2.21596317e-03 4.36349021e-04\n",
      " 6.69162896e-05], axis_i:0\n",
      "INFO:root:Collected shared arrays\n"
     ]
    },
    {
     "name": "stdout",
     "output_type": "stream",
     "text": [
      "self.calculation_interrupt:False\n",
      "self.stopEv.is_set():False\n",
      "Not __main__module. No parallel processing.\n",
      "Running sequentially\n"
     ]
    },
    {
     "name": "stderr",
     "output_type": "stream",
     "text": [
      "INFO:root:4/612 completed\n",
      "INFO:root:9/612 completed\n",
      "INFO:root:14/612 completed\n",
      "INFO:root:18/612 completed\n",
      "INFO:root:23/612 completed\n",
      "INFO:root:27/612 completed\n",
      "INFO:root:32/612 completed\n",
      "INFO:root:36/612 completed\n",
      "INFO:root:41/612 completed\n",
      "INFO:root:46/612 completed\n",
      "INFO:root:50/612 completed\n",
      "INFO:root:55/612 completed\n",
      "INFO:root:60/612 completed\n",
      "INFO:root:65/612 completed\n",
      "INFO:root:69/612 completed\n",
      "INFO:root:73/612 completed\n",
      "INFO:root:77/612 completed\n",
      "INFO:root:82/612 completed\n",
      "INFO:root:86/612 completed\n",
      "INFO:root:91/612 completed\n",
      "INFO:root:95/612 completed\n",
      "INFO:root:99/612 completed\n",
      "INFO:root:Filtering along Y\n",
      "INFO:root:Filtering along axis 1 with l=3, w=5, and kernel length=17\n",
      "INFO:root:filter_along_axis_chunk_worker() with chunk_index:0, chunk_size:256, kernel:[6.69162896e-05 4.36349021e-04 2.21596317e-03 8.76430436e-03\n",
      " 2.69959580e-02 6.47599366e-02 1.20987490e-01 1.76035759e-01\n",
      " 1.99474648e-01 1.76035759e-01 1.20987490e-01 6.47599366e-02\n",
      " 2.69959580e-02 8.76430436e-03 2.21596317e-03 4.36349021e-04\n",
      " 6.69162896e-05], axis_i:1\n",
      "INFO:root:Collected shared arrays\n"
     ]
    },
    {
     "name": "stdout",
     "output_type": "stream",
     "text": [
      "Not __main__module. No parallel processing.\n",
      "Running sequentially\n"
     ]
    },
    {
     "name": "stderr",
     "output_type": "stream",
     "text": [
      "INFO:root:112/612 completed\n",
      "INFO:root:125/612 completed\n",
      "INFO:root:137/612 completed\n",
      "INFO:root:150/612 completed\n",
      "INFO:root:161/612 completed\n",
      "INFO:root:174/612 completed\n",
      "INFO:root:187/612 completed\n",
      "INFO:root:200/612 completed\n",
      "INFO:root:212/612 completed\n",
      "INFO:root:225/612 completed\n",
      "INFO:root:238/612 completed\n",
      "INFO:root:251/612 completed\n",
      "INFO:root:261/612 completed\n",
      "INFO:root:273/612 completed\n",
      "INFO:root:286/612 completed\n",
      "INFO:root:298/612 completed\n",
      "INFO:root:311/612 completed\n",
      "INFO:root:324/612 completed\n",
      "INFO:root:338/612 completed\n",
      "INFO:root:351/612 completed\n",
      "INFO:root:Filtering along X\n",
      "INFO:root:Filtering along axis 2 with l=3, w=5, and kernel length=17\n",
      "INFO:root:filter_along_axis_chunk_worker() with chunk_index:0, chunk_size:256, kernel:[6.69162896e-05 4.36349021e-04 2.21596317e-03 8.76430436e-03\n",
      " 2.69959580e-02 6.47599366e-02 1.20987490e-01 1.76035759e-01\n",
      " 1.99474648e-01 1.76035759e-01 1.20987490e-01 6.47599366e-02\n",
      " 2.69959580e-02 8.76430436e-03 2.21596317e-03 4.36349021e-04\n",
      " 6.69162896e-05], axis_i:2\n",
      "INFO:root:Collected shared arrays\n"
     ]
    },
    {
     "name": "stdout",
     "output_type": "stream",
     "text": [
      "Not __main__module. No parallel processing.\n",
      "Running sequentially\n"
     ]
    },
    {
     "name": "stderr",
     "output_type": "stream",
     "text": [
      "INFO:root:362/612 completed\n",
      "INFO:root:372/612 completed\n",
      "INFO:root:383/612 completed\n",
      "INFO:root:394/612 completed\n",
      "INFO:root:405/612 completed\n",
      "INFO:root:417/612 completed\n",
      "INFO:root:428/612 completed\n",
      "INFO:root:439/612 completed\n",
      "INFO:root:450/612 completed\n",
      "INFO:root:462/612 completed\n",
      "INFO:root:473/612 completed\n",
      "INFO:root:483/612 completed\n",
      "INFO:root:495/612 completed\n",
      "INFO:root:505/612 completed\n",
      "INFO:root:514/612 completed\n",
      "INFO:root:525/612 completed\n",
      "INFO:root:536/612 completed\n",
      "INFO:root:548/612 completed\n",
      "INFO:root:559/612 completed\n",
      "INFO:root:571/612 completed\n",
      "INFO:root:583/612 completed\n",
      "INFO:root:593/612 completed\n",
      "INFO:root:604/612 completed\n",
      "INFO:root:Volume filtered in 66.21690569999919 seconds\n",
      "INFO:root:Closing and unlinking shared memory\n"
     ]
    },
    {
     "name": "stderr",
     "output_type": "stream",
     "text": [
      "INFO:root:feedback_periodic thread stopped.\n"
     ]
    }
   ],
   "source": [
    "res= filter.runOpticalFlow(data)"
   ]
  },
  {
   "attachments": {},
   "cell_type": "markdown",
   "metadata": {},
   "source": [
    "Problem, the self.OF and others are not being passed to process?"
   ]
  },
  {
   "cell_type": "code",
   "execution_count": 14,
   "metadata": {},
   "outputs": [
    {
     "data": {
      "text/plain": [
       "(100, 256, 256)"
      ]
     },
     "execution_count": 14,
     "metadata": {},
     "output_type": "execute_result"
    }
   ],
   "source": [
    "res.shape"
   ]
  },
  {
   "cell_type": "code",
   "execution_count": 27,
   "metadata": {},
   "outputs": [],
   "source": [
    "#Save file\n",
    "with mrcfile.new(\"result_RFI_module.mrc\", overwrite=True) as f:\n",
    "    f.set_data(res)"
   ]
  },
  {
   "cell_type": "code",
   "execution_count": 28,
   "metadata": {},
   "outputs": [],
   "source": [
    "import napari\n",
    "NV=napari.Viewer()"
   ]
  },
  {
   "cell_type": "code",
   "execution_count": 29,
   "metadata": {},
   "outputs": [
    {
     "data": {
      "text/plain": [
       "<Image layer 'res' at 0x29115880940>"
      ]
     },
     "execution_count": 29,
     "metadata": {},
     "output_type": "execute_result"
    }
   ],
   "source": [
    "NV.add_image(data)\n",
    "NV.add_image(res)"
   ]
  },
  {
   "attachments": {},
   "cell_type": "markdown",
   "metadata": {},
   "source": [
    "It appears that it has worked"
   ]
  },
  {
   "cell_type": "code",
   "execution_count": null,
   "metadata": {},
   "outputs": [],
   "source": []
  }
 ],
 "metadata": {
  "kernelspec": {
   "display_name": "dev",
   "language": "python",
   "name": "python3"
  },
  "language_info": {
   "codemirror_mode": {
    "name": "ipython",
    "version": 3
   },
   "file_extension": ".py",
   "mimetype": "text/x-python",
   "name": "python",
   "nbconvert_exporter": "python",
   "pygments_lexer": "ipython3",
   "version": "3.10.11"
  },
  "orig_nbformat": 4
 },
 "nbformat": 4,
 "nbformat_minor": 2
}
