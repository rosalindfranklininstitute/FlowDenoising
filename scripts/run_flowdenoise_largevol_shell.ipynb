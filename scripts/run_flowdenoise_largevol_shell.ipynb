{
 "cells": [
  {
   "cell_type": "code",
   "execution_count": 1,
   "metadata": {},
   "outputs": [
    {
     "name": "stdout",
     "output_type": "stream",
     "text": [
      "usage: flowdenoising.py [-h] [-i INPUT] [-o OUTPUT] [-s SIGMA [SIGMA ...]]\n",
      "                        [-l LEVELS] [-w WINSIZE] [-v VERBOSITY] [-n] [-m]\n",
      "                        [-p NUMBER_OF_PROCESSES] [--recompute_flow]\n",
      "\n",
      "3D Gaussian filtering controlled by the optical flow.\n",
      "\n",
      "options:\n",
      "  -h, --help            show this help message and exit\n",
      "  -i INPUT, --input INPUT\n",
      "                        Input a MRC-file or a multi-image TIFF-file (default:\n",
      "                        ./volume.mrc)\n",
      "  -o OUTPUT, --output OUTPUT\n",
      "                        Output a MRC-file or a multi-image TIFF-file (default:\n",
      "                        ./denoised_volume.mrc)\n",
      "  -s SIGMA [SIGMA ...], --sigma SIGMA [SIGMA ...]\n",
      "                        Gaussian sigma for each dimension in the order (Z, Y,\n",
      "                        X) (default: (2.0, 2.0, 2.0))\n",
      "  -l LEVELS, --levels LEVELS\n",
      "                        Number of levels of the Gaussian pyramid used by the\n",
      "                        optical flow estimator (default: 3)\n",
      "  -w WINSIZE, --winsize WINSIZE\n",
      "                        Size of the window used by the optical flow estimator\n",
      "                        (default: 5)\n",
      "  -v VERBOSITY, --verbosity VERBOSITY\n",
      "                        Verbosity level (default: 0)\n",
      "  -n, --no_OF           Disable optical flow compensation (default: False)\n",
      "  -m, --memory_map      Enable memory-mapping (see https://mrcfile.readthedocs\n",
      "                        .io/en/stable/usage_guide.html#dealing-with-large-\n",
      "                        files, only for MRC files) (default: False)\n",
      "  -p NUMBER_OF_PROCESSES, --number_of_processes NUMBER_OF_PROCESSES\n",
      "                        Maximum number of processes (default: 8)\n",
      "  --recompute_flow      Disable the use of adjacent optical flow fields\n",
      "                        (default: False)\n"
     ]
    }
   ],
   "source": [
    "!python ../src/flowdenoising.py --help"
   ]
  },
  {
   "attachments": {},
   "cell_type": "markdown",
   "metadata": {},
   "source": [
    "IT does not work on windows. It gives error\n",
    "\n",
    "NameError: name 'vol' is not defined\n"
   ]
  },
  {
   "cell_type": "code",
   "execution_count": 4,
   "metadata": {},
   "outputs": [
    {
     "name": "stderr",
     "output_type": "stream",
     "text": [
      "concurrent.futures.process._RemoteTraceback: \n",
      "\"\"\"\n",
      "Traceback (most recent call last):\n",
      "  File \"c:\\Users\\Luis-work\\miniconda3\\envs\\dev\\lib\\concurrent\\futures\\process.py\", line 246, in _process_worker\n",
      "    r = call_item.fn(*call_item.args, **call_item.kwargs)\n",
      "  File \"c:\\Users\\Luis-work\\miniconda3\\envs\\dev\\lib\\concurrent\\futures\\process.py\", line 205, in _process_chunk\n",
      "    return [fn(*args) for args in chunk]\n",
      "  File \"c:\\Users\\Luis-work\\miniconda3\\envs\\dev\\lib\\concurrent\\futures\\process.py\", line 205, in <listcomp>\n",
      "    return [fn(*args) for args in chunk]\n",
      "  File \"c:\\Users\\Luis-work\\Desktop\\Others\\git-FlowDenosing\\FlowDenoising\\src\\flowdenoising.py\", line 152, in OF_filter_along_Z_chunk\n",
      "    OF_filter_along_Z_slice(chunk_index*chunk_size + z + chunk_offset, kernel)\n",
      "  File \"c:\\Users\\Luis-work\\Desktop\\Others\\git-FlowDenosing\\FlowDenoising\\src\\flowdenoising.py\", line 86, in OF_filter_along_Z_slice\n",
      "    tmp_slice = np.zeros_like(vol[z, :, :]).astype(np.float32)\n",
      "NameError: name 'vol' is not defined\n",
      "\"\"\"\n",
      "\n",
      "The above exception was the direct cause of the following exception:\n",
      "\n",
      "Traceback (most recent call last):\n",
      "  File \"c:\\Users\\Luis-work\\Desktop\\Others\\git-FlowDenosing\\FlowDenoising\\src\\flowdenoising.py\", line 617, in <module>\n",
      "    OF_filter(kernels, l, w)\n",
      "  File \"c:\\Users\\Luis-work\\Desktop\\Others\\git-FlowDenosing\\FlowDenoising\\src\\flowdenoising.py\", line 293, in OF_filter\n",
      "    OF_filter_along_Z(kernels[0], l, w)\n",
      "  File \"c:\\Users\\Luis-work\\Desktop\\Others\\git-FlowDenosing\\FlowDenoising\\src\\flowdenoising.py\", line 183, in OF_filter_along_Z\n",
      "    for _ in executor.map(OF_filter_along_Z_chunk,\n",
      "  File \"c:\\Users\\Luis-work\\miniconda3\\envs\\dev\\lib\\concurrent\\futures\\process.py\", line 575, in _chain_from_iterable_of_lists\n",
      "    for element in iterable:\n",
      "  File \"c:\\Users\\Luis-work\\miniconda3\\envs\\dev\\lib\\concurrent\\futures\\_base.py\", line 621, in result_iterator\n",
      "    yield _result_or_cancel(fs.pop())\n",
      "  File \"c:\\Users\\Luis-work\\miniconda3\\envs\\dev\\lib\\concurrent\\futures\\_base.py\", line 319, in _result_or_cancel\n",
      "    return fut.result(timeout)\n",
      "  File \"c:\\Users\\Luis-work\\miniconda3\\envs\\dev\\lib\\concurrent\\futures\\_base.py\", line 458, in result\n",
      "    return self.__get_result()\n",
      "  File \"c:\\Users\\Luis-work\\miniconda3\\envs\\dev\\lib\\concurrent\\futures\\_base.py\", line 403, in __get_result\n",
      "    raise self._exception\n",
      "NameError: name 'vol' is not defined\n"
     ]
    }
   ],
   "source": [
    "!python ../src/flowdenoising.py -i \"C:\\Users\\Luis-work\\Desktop\\Others\\git-FlowDenosing\\data_from_authors\\empiar10311_stack_crop.mrc\" -o \"result_old_largevol_shell.mrc\" -p 6"
   ]
  },
  {
   "attachments": {},
   "cell_type": "markdown",
   "metadata": {},
   "source": [
    "This appears to be working ok"
   ]
  },
  {
   "cell_type": "code",
   "execution_count": null,
   "metadata": {},
   "outputs": [],
   "source": []
  }
 ],
 "metadata": {
  "kernelspec": {
   "display_name": "dev",
   "language": "python",
   "name": "python3"
  },
  "language_info": {
   "codemirror_mode": {
    "name": "ipython",
    "version": 3
   },
   "file_extension": ".py",
   "mimetype": "text/x-python",
   "name": "python",
   "nbconvert_exporter": "python",
   "pygments_lexer": "ipython3",
   "version": "3.10.11"
  },
  "orig_nbformat": 4
 },
 "nbformat": 4,
 "nbformat_minor": 2
}
