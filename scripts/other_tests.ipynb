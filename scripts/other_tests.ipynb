{
 "cells": [
  {
   "cell_type": "code",
   "execution_count": 1,
   "metadata": {},
   "outputs": [],
   "source": [
    "import numpy as np"
   ]
  },
  {
   "cell_type": "code",
   "execution_count": 10,
   "metadata": {},
   "outputs": [],
   "source": [
    "A = np.random.randint(0,20, size=(5,5,5))"
   ]
  },
  {
   "cell_type": "code",
   "execution_count": 11,
   "metadata": {},
   "outputs": [
    {
     "data": {
      "text/plain": [
       "array([[[15,  0,  4,  7,  2],\n",
       "        [15, 13,  8,  6,  0],\n",
       "        [14,  2,  0,  1,  6],\n",
       "        [ 6, 18, 14,  1,  2],\n",
       "        [ 8, 14, 13, 11,  0]],\n",
       "\n",
       "       [[ 1,  0,  7, 13, 16],\n",
       "        [15, 10, 17, 10, 10],\n",
       "        [18,  0,  5,  2,  5],\n",
       "        [ 7,  2, 18,  0, 15],\n",
       "        [11, 19,  5,  0, 11]],\n",
       "\n",
       "       [[ 7, 11,  9,  7, 12],\n",
       "        [13, 10,  3,  3,  9],\n",
       "        [ 7,  6,  3,  0,  5],\n",
       "        [ 0, 11,  5,  4, 13],\n",
       "        [ 2,  5, 15,  7, 10]],\n",
       "\n",
       "       [[13, 18,  7,  6, 16],\n",
       "        [13,  3,  8,  4,  0],\n",
       "        [ 1,  8,  8,  9, 14],\n",
       "        [ 9, 11,  6, 15, 18],\n",
       "        [12,  8,  3, 10,  2]],\n",
       "\n",
       "       [[ 7,  9,  9,  6,  5],\n",
       "        [15,  4,  8, 14, 19],\n",
       "        [ 8,  3,  9, 14,  9],\n",
       "        [19,  0,  4, 14, 19],\n",
       "        [ 1, 18,  8,  7, 19]]])"
      ]
     },
     "execution_count": 11,
     "metadata": {},
     "output_type": "execute_result"
    }
   ],
   "source": [
    "A"
   ]
  },
  {
   "cell_type": "code",
   "execution_count": 12,
   "metadata": {},
   "outputs": [
    {
     "data": {
      "text/plain": [
       "array([[[ 7, 11,  9,  7, 12],\n",
       "        [13, 10,  3,  3,  9],\n",
       "        [ 7,  6,  3,  0,  5],\n",
       "        [ 0, 11,  5,  4, 13],\n",
       "        [ 2,  5, 15,  7, 10]],\n",
       "\n",
       "       [[13, 18,  7,  6, 16],\n",
       "        [13,  3,  8,  4,  0],\n",
       "        [ 1,  8,  8,  9, 14],\n",
       "        [ 9, 11,  6, 15, 18],\n",
       "        [12,  8,  3, 10,  2]],\n",
       "\n",
       "       [[ 7,  9,  9,  6,  5],\n",
       "        [15,  4,  8, 14, 19],\n",
       "        [ 8,  3,  9, 14,  9],\n",
       "        [19,  0,  4, 14, 19],\n",
       "        [ 1, 18,  8,  7, 19]],\n",
       "\n",
       "       [[15,  0,  4,  7,  2],\n",
       "        [15, 13,  8,  6,  0],\n",
       "        [14,  2,  0,  1,  6],\n",
       "        [ 6, 18, 14,  1,  2],\n",
       "        [ 8, 14, 13, 11,  0]],\n",
       "\n",
       "       [[ 1,  0,  7, 13, 16],\n",
       "        [15, 10, 17, 10, 10],\n",
       "        [18,  0,  5,  2,  5],\n",
       "        [ 7,  2, 18,  0, 15],\n",
       "        [11, 19,  5,  0, 11]]])"
      ]
     },
     "execution_count": 12,
     "metadata": {},
     "output_type": "execute_result"
    }
   ],
   "source": [
    "B=np.roll(A,shift=-2, axis=0)\n",
    "B"
   ]
  },
  {
   "cell_type": "code",
   "execution_count": null,
   "metadata": {},
   "outputs": [],
   "source": []
  }
 ],
 "metadata": {
  "kernelspec": {
   "display_name": "dev",
   "language": "python",
   "name": "python3"
  },
  "language_info": {
   "codemirror_mode": {
    "name": "ipython",
    "version": 3
   },
   "file_extension": ".py",
   "mimetype": "text/x-python",
   "name": "python",
   "nbconvert_exporter": "python",
   "pygments_lexer": "ipython3",
   "version": "3.10.11"
  },
  "orig_nbformat": 4
 },
 "nbformat": 4,
 "nbformat_minor": 2
}
