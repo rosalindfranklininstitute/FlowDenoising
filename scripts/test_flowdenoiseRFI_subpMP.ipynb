{
 "cells": [
  {
   "cell_type": "code",
   "execution_count": 1,
   "metadata": {},
   "outputs": [],
   "source": [
    "import sys\n",
    "sys.path.append(\"..\")\n",
    "import numpy as np\n",
    "import logging\n",
    "logging.basicConfig(level=logging.INFO)"
   ]
  },
  {
   "cell_type": "code",
   "execution_count": 2,
   "metadata": {},
   "outputs": [],
   "source": [
    "import src.flowdenoising.flowdenoising_mod as fdn"
   ]
  },
  {
   "cell_type": "code",
   "execution_count": 3,
   "metadata": {},
   "outputs": [
    {
     "data": {
      "text/plain": [
       "'Is great'"
      ]
     },
     "execution_count": 3,
     "metadata": {},
     "output_type": "execute_result"
    }
   ],
   "source": [
    "fdn.FDN_LIZZIE"
   ]
  },
  {
   "cell_type": "code",
   "execution_count": 4,
   "metadata": {},
   "outputs": [],
   "source": [
    "import mrcfile"
   ]
  },
  {
   "cell_type": "code",
   "execution_count": 5,
   "metadata": {},
   "outputs": [],
   "source": [
    "with mrcfile.open(r\"tempdata.mrc\", mode=\"r+\") as mrcfile0:\n",
    "    data=mrcfile0.data"
   ]
  },
  {
   "cell_type": "code",
   "execution_count": 6,
   "metadata": {},
   "outputs": [
    {
     "data": {
      "text/plain": [
       "(100, 256, 256)"
      ]
     },
     "execution_count": 6,
     "metadata": {},
     "output_type": "execute_result"
    }
   ],
   "source": [
    "data.shape"
   ]
  },
  {
   "cell_type": "code",
   "execution_count": 7,
   "metadata": {},
   "outputs": [
    {
     "data": {
      "text/plain": [
       "dtype('<u2')"
      ]
     },
     "execution_count": 7,
     "metadata": {},
     "output_type": "execute_result"
    }
   ],
   "source": [
    "data.dtype"
   ]
  },
  {
   "attachments": {},
   "cell_type": "markdown",
   "metadata": {},
   "source": [
    "Create denoise class instance"
   ]
  },
  {
   "cell_type": "code",
   "execution_count": 8,
   "metadata": {},
   "outputs": [
    {
     "name": "stderr",
     "output_type": "stream",
     "text": [
      "INFO:root:Number of processing units: 8\n",
      "INFO:root:length of each filter (Z, Y, X) = [17, 17, 17]\n"
     ]
    }
   ],
   "source": [
    "#process_mode='threaded', #choices=['threaded', 'sequential','multiproc']\n",
    "filter = fdn.cFlowDenoiser(process_mode='multiproc')"
   ]
  },
  {
   "cell_type": "code",
   "execution_count": 9,
   "metadata": {},
   "outputs": [],
   "source": [
    "filter.max_number_of_processes=4"
   ]
  },
  {
   "cell_type": "code",
   "execution_count": 10,
   "metadata": {},
   "outputs": [
    {
     "data": {
      "text/plain": [
       "3"
      ]
     },
     "execution_count": 10,
     "metadata": {},
     "output_type": "execute_result"
    }
   ],
   "source": [
    "filter.OF_LEVELS"
   ]
  },
  {
   "attachments": {},
   "cell_type": "markdown",
   "metadata": {},
   "source": [
    "Try running"
   ]
  },
  {
   "cell_type": "code",
   "execution_count": 11,
   "metadata": {},
   "outputs": [
    {
     "name": "stderr",
     "output_type": "stream",
     "text": [
      "INFO:root:shape of the input volume (Z, Y, X) = (100, 256, 256)\n",
      "INFO:root:type of the volume = uint16\n",
      "INFO:root:vol requires 12.5 MB\n",
      "INFO:root:data max = 255\n",
      "INFO:root:data min = 0\n",
      "INFO:root:Input vol average = 163.69832733154297\n",
      "INFO:root:length of each filter (Z, Y, X) = [17, 17, 17]\n",
      "INFO:root:Filtering ...\n",
      "INFO:root:0/612 completed\n",
      "INFO:root:Filtering along Z\n",
      "INFO:root:axis_dim:100\n",
      "INFO:root:self.max_number_of_processes:4\n"
     ]
    },
    {
     "name": "stdout",
     "output_type": "stream",
     "text": [
      "torun:c:\\Users\\Luis-work\\Desktop\\Others\\git-FlowDenosing\\FlowDenoising\\scripts\\..\\src\\flowdenoising\\_flowdenoising_subprocessMP.py\n"
     ]
    },
    {
     "name": "stderr",
     "output_type": "stream",
     "text": [
      "INFO:root:0/612 completed\n",
      "INFO:root:0/612 completed\n",
      "INFO:root:0/612 completed\n",
      "INFO:root:0/612 completed\n",
      "INFO:root:0/612 completed\n",
      "INFO:root:0/612 completed\n",
      "INFO:root:0/612 completed\n",
      "INFO:root:0/612 completed\n",
      "INFO:root:0/612 completed\n",
      "INFO:root:0/612 completed\n",
      "INFO:root:0/612 completed\n",
      "INFO:root:0/612 completed\n",
      "INFO:root:0/612 completed\n",
      "INFO:root:0/612 completed\n",
      "INFO:root:0/612 completed\n",
      "INFO:root:Filtering along Y\n",
      "INFO:root:axis_dim:256\n",
      "INFO:root:self.max_number_of_processes:4\n"
     ]
    },
    {
     "name": "stdout",
     "output_type": "stream",
     "text": [
      "subprocess result stdout: \n",
      "subprocess_module.py, running __main__\n",
      "arguments parsed\n",
      "Args\n",
      "{'in_data_sh_name': 'sm_in_42', 'out_data_sh_name': 'sm_out_42', 'dtype_name': 'uint16', 'dshape_list': [100, 256, 256], 'process_dir': 0, 'ichunksize': 25, 'levels': 3, 'winsize': 5, 'bComputeFlowWithPreviousFlow': True, 'useOF': True, 'ksigma_list': [2.0, 2.0, 2.0], 'iters': 3, 'number_of_processes': 4}\n",
      "in_data_sh_name : sm_in_42\n",
      "out_data_sh_name : sm_out_42\n",
      "dtype_name : uint16\n",
      "dshape_list : [100, 256, 256]\n",
      "process_dir : 0\n",
      "ichunksize : 25\n",
      "levels : 3\n",
      "winsize : 5\n",
      "bComputeFlowWithPreviousFlow : True\n",
      "useOF : True\n",
      "ksigma_list : [2.0, 2.0, 2.0]\n",
      "iters : 3\n",
      "number_of_processes : 4\n",
      "length of each filter (Z, Y, X) = [17, 17, 17]\n",
      "subprocess_module: run()\n",
      "Process 0 finished\n",
      "Process 25 finished\n",
      "Process 50 finished\n",
      "Process 75 finished\n",
      "All processes completed\n",
      "End  of _flowdenoisingprocess\n",
      "\n",
      "subprocess result stderr:\n",
      "\n",
      "torun:c:\\Users\\Luis-work\\Desktop\\Others\\git-FlowDenosing\\FlowDenoising\\scripts\\..\\src\\flowdenoising\\_flowdenoising_subprocessMP.py\n"
     ]
    },
    {
     "name": "stderr",
     "output_type": "stream",
     "text": [
      "INFO:root:100/612 completed\n",
      "INFO:root:100/612 completed\n",
      "INFO:root:100/612 completed\n",
      "INFO:root:100/612 completed\n",
      "INFO:root:100/612 completed\n",
      "INFO:root:100/612 completed\n",
      "INFO:root:100/612 completed\n",
      "INFO:root:100/612 completed\n",
      "INFO:root:100/612 completed\n",
      "INFO:root:100/612 completed\n",
      "INFO:root:100/612 completed\n",
      "INFO:root:100/612 completed\n",
      "INFO:root:Filtering along X\n",
      "INFO:root:axis_dim:256\n",
      "INFO:root:self.max_number_of_processes:4\n"
     ]
    },
    {
     "name": "stdout",
     "output_type": "stream",
     "text": [
      "subprocess result stdout: \n",
      "subprocess_module.py, running __main__\n",
      "arguments parsed\n",
      "Args\n",
      "{'in_data_sh_name': 'sm_in_42', 'out_data_sh_name': 'sm_out_42', 'dtype_name': 'uint16', 'dshape_list': [100, 256, 256], 'process_dir': 1, 'ichunksize': 64, 'levels': 3, 'winsize': 5, 'bComputeFlowWithPreviousFlow': True, 'useOF': True, 'ksigma_list': [2.0, 2.0, 2.0], 'iters': 3, 'number_of_processes': 4}\n",
      "in_data_sh_name : sm_in_42\n",
      "out_data_sh_name : sm_out_42\n",
      "dtype_name : uint16\n",
      "dshape_list : [100, 256, 256]\n",
      "process_dir : 1\n",
      "ichunksize : 64\n",
      "levels : 3\n",
      "winsize : 5\n",
      "bComputeFlowWithPreviousFlow : True\n",
      "useOF : True\n",
      "ksigma_list : [2.0, 2.0, 2.0]\n",
      "iters : 3\n",
      "number_of_processes : 4\n",
      "length of each filter (Z, Y, X) = [17, 17, 17]\n",
      "subprocess_module: run()\n",
      "Process 0 finished\n",
      "Process 64 finished\n",
      "Process 128 finished\n",
      "Process 192 finished\n",
      "All processes completed\n",
      "End  of _flowdenoisingprocess\n",
      "\n",
      "subprocess result stderr:\n",
      "\n",
      "torun:c:\\Users\\Luis-work\\Desktop\\Others\\git-FlowDenosing\\FlowDenoising\\scripts\\..\\src\\flowdenoising\\_flowdenoising_subprocessMP.py\n"
     ]
    },
    {
     "name": "stderr",
     "output_type": "stream",
     "text": [
      "INFO:root:356/612 completed\n",
      "INFO:root:356/612 completed\n",
      "INFO:root:356/612 completed\n",
      "INFO:root:356/612 completed\n",
      "INFO:root:356/612 completed\n",
      "INFO:root:356/612 completed\n",
      "INFO:root:356/612 completed\n",
      "INFO:root:356/612 completed\n",
      "INFO:root:356/612 completed\n",
      "INFO:root:356/612 completed\n",
      "INFO:root:356/612 completed\n",
      "INFO:root:356/612 completed\n",
      "INFO:root:356/612 completed\n",
      "INFO:root:356/612 completed\n",
      "INFO:root:Volume filtered in 41.45746659999713 seconds\n"
     ]
    },
    {
     "name": "stdout",
     "output_type": "stream",
     "text": [
      "subprocess result stdout: \n",
      "subprocess_module.py, running __main__\n",
      "arguments parsed\n",
      "Args\n",
      "{'in_data_sh_name': 'sm_in_42', 'out_data_sh_name': 'sm_out_42', 'dtype_name': 'uint16', 'dshape_list': [100, 256, 256], 'process_dir': 2, 'ichunksize': 64, 'levels': 3, 'winsize': 5, 'bComputeFlowWithPreviousFlow': True, 'useOF': True, 'ksigma_list': [2.0, 2.0, 2.0], 'iters': 3, 'number_of_processes': 4}\n",
      "in_data_sh_name : sm_in_42\n",
      "out_data_sh_name : sm_out_42\n",
      "dtype_name : uint16\n",
      "dshape_list : [100, 256, 256]\n",
      "process_dir : 2\n",
      "ichunksize : 64\n",
      "levels : 3\n",
      "winsize : 5\n",
      "bComputeFlowWithPreviousFlow : True\n",
      "useOF : True\n",
      "ksigma_list : [2.0, 2.0, 2.0]\n",
      "iters : 3\n",
      "number_of_processes : 4\n",
      "length of each filter (Z, Y, X) = [17, 17, 17]\n",
      "subprocess_module: run()\n",
      "Process 0 finished\n",
      "Process 64 finished\n",
      "Process 128 finished\n",
      "Process 192 finished\n",
      "All processes completed\n",
      "End  of _flowdenoisingprocess\n",
      "\n",
      "subprocess result stderr:\n",
      "\n"
     ]
    }
   ],
   "source": [
    "res= filter.runOpticalFlow(data)"
   ]
  },
  {
   "cell_type": "code",
   "execution_count": 12,
   "metadata": {},
   "outputs": [
    {
     "data": {
      "text/plain": [
       "(100, 256, 256)"
      ]
     },
     "execution_count": 12,
     "metadata": {},
     "output_type": "execute_result"
    }
   ],
   "source": [
    "res.shape"
   ]
  },
  {
   "cell_type": "code",
   "execution_count": 13,
   "metadata": {},
   "outputs": [],
   "source": [
    "# #Save file\n",
    "# with mrcfile.new(\"result_RFI_threaded_module.mrc\", overwrite=True) as f:\n",
    "#     f.set_data(res)"
   ]
  },
  {
   "cell_type": "code",
   "execution_count": 16,
   "metadata": {},
   "outputs": [
    {
     "ename": "AssertionError",
     "evalue": "",
     "output_type": "error",
     "traceback": [
      "\u001b[1;31m---------------------------------------------------------------------------\u001b[0m",
      "\u001b[1;31mAssertionError\u001b[0m                            Traceback (most recent call last)",
      "Cell \u001b[1;32mIn[16], line 1\u001b[0m\n\u001b[1;32m----> 1\u001b[0m \u001b[39massert\u001b[39;00m \u001b[39m1\u001b[39m\u001b[39m==\u001b[39m\u001b[39m0\u001b[39m\n",
      "\u001b[1;31mAssertionError\u001b[0m: "
     ]
    }
   ],
   "source": [
    "assert 1==0"
   ]
  },
  {
   "cell_type": "code",
   "execution_count": 14,
   "metadata": {},
   "outputs": [
    {
     "name": "stderr",
     "output_type": "stream",
     "text": [
      "INFO:bfio.init:VERSION = 2.3.0\n",
      "\n",
      "INFO:bfio.init:The bioformats_package.jar is not present.Can only use Python backend for reading/writing images.\n",
      "INFO:xmlschema:Resource 'XMLSchema.xsd' is already loaded\n"
     ]
    }
   ],
   "source": [
    "import napari\n",
    "NV=napari.Viewer()"
   ]
  },
  {
   "cell_type": "code",
   "execution_count": 15,
   "metadata": {},
   "outputs": [
    {
     "data": {
      "text/plain": [
       "<Image layer 'res' at 0x20d68267f70>"
      ]
     },
     "execution_count": 15,
     "metadata": {},
     "output_type": "execute_result"
    }
   ],
   "source": [
    "NV.add_image(data)\n",
    "NV.add_image(res)"
   ]
  },
  {
   "attachments": {},
   "cell_type": "markdown",
   "metadata": {},
   "source": [
    "It appears that it has worked"
   ]
  },
  {
   "cell_type": "code",
   "execution_count": null,
   "metadata": {},
   "outputs": [],
   "source": []
  },
  {
   "cell_type": "code",
   "execution_count": null,
   "metadata": {},
   "outputs": [],
   "source": []
  }
 ],
 "metadata": {
  "kernelspec": {
   "display_name": "dev",
   "language": "python",
   "name": "python3"
  },
  "language_info": {
   "codemirror_mode": {
    "name": "ipython",
    "version": 3
   },
   "file_extension": ".py",
   "mimetype": "text/x-python",
   "name": "python",
   "nbconvert_exporter": "python",
   "pygments_lexer": "ipython3",
   "version": "3.10.11"
  },
  "orig_nbformat": 4
 },
 "nbformat": 4,
 "nbformat_minor": 2
}
