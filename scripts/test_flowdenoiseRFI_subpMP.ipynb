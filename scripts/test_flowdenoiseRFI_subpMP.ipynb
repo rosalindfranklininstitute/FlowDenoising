{
 "cells": [
  {
   "cell_type": "code",
   "execution_count": 34,
   "metadata": {},
   "outputs": [],
   "source": [
    "import sys\n",
    "sys.path.append(\"..\")\n",
    "import numpy as np\n",
    "import logging\n",
    "logging.basicConfig(level=logging.INFO)"
   ]
  },
  {
   "cell_type": "code",
   "execution_count": 35,
   "metadata": {},
   "outputs": [],
   "source": [
    "import src.flowdenoising.flowdenoising_mod as fdn"
   ]
  },
  {
   "cell_type": "code",
   "execution_count": 36,
   "metadata": {},
   "outputs": [
    {
     "data": {
      "text/plain": [
       "'Is great'"
      ]
     },
     "execution_count": 36,
     "metadata": {},
     "output_type": "execute_result"
    }
   ],
   "source": [
    "fdn.FDN_LIZZIE"
   ]
  },
  {
   "cell_type": "code",
   "execution_count": 37,
   "metadata": {},
   "outputs": [],
   "source": [
    "import mrcfile"
   ]
  },
  {
   "cell_type": "code",
   "execution_count": 38,
   "metadata": {},
   "outputs": [],
   "source": [
    "with mrcfile.open(r\"tempdata2.mrc\", mode=\"r+\") as mrcfile0:\n",
    "    data=mrcfile0.data"
   ]
  },
  {
   "cell_type": "code",
   "execution_count": 39,
   "metadata": {},
   "outputs": [
    {
     "data": {
      "text/plain": [
       "(100, 256, 256)"
      ]
     },
     "execution_count": 39,
     "metadata": {},
     "output_type": "execute_result"
    }
   ],
   "source": [
    "data.shape"
   ]
  },
  {
   "cell_type": "code",
   "execution_count": 40,
   "metadata": {},
   "outputs": [
    {
     "data": {
      "text/plain": [
       "dtype('<u2')"
      ]
     },
     "execution_count": 40,
     "metadata": {},
     "output_type": "execute_result"
    }
   ],
   "source": [
    "data.dtype"
   ]
  },
  {
   "attachments": {},
   "cell_type": "markdown",
   "metadata": {},
   "source": [
    "Create denoise class instance"
   ]
  },
  {
   "cell_type": "code",
   "execution_count": 41,
   "metadata": {},
   "outputs": [
    {
     "name": "stderr",
     "output_type": "stream",
     "text": [
      "INFO:root:Number of processing units: 8\n",
      "INFO:root:length of each filter (Z, Y, X) = [17, 17, 17]\n"
     ]
    }
   ],
   "source": [
    "#process_mode='threaded', #choices=['threaded', 'sequential','multiproc']\n",
    "filter = fdn.cFlowDenoiser(process_mode='multiproc')"
   ]
  },
  {
   "cell_type": "code",
   "execution_count": 42,
   "metadata": {},
   "outputs": [],
   "source": [
    "filter.max_number_of_processes=4"
   ]
  },
  {
   "cell_type": "code",
   "execution_count": 43,
   "metadata": {},
   "outputs": [
    {
     "data": {
      "text/plain": [
       "3"
      ]
     },
     "execution_count": 43,
     "metadata": {},
     "output_type": "execute_result"
    }
   ],
   "source": [
    "filter.OF_LEVELS"
   ]
  },
  {
   "attachments": {},
   "cell_type": "markdown",
   "metadata": {},
   "source": [
    "Try running"
   ]
  },
  {
   "cell_type": "code",
   "execution_count": 44,
   "metadata": {},
   "outputs": [
    {
     "name": "stderr",
     "output_type": "stream",
     "text": [
      "INFO:root:shape of the input volume (Z, Y, X) = (100, 256, 256)\n",
      "INFO:root:type of the volume = uint16\n",
      "INFO:root:vol requires 12.5 MB\n",
      "INFO:root:data max = 255\n",
      "INFO:root:data min = 0\n",
      "INFO:root:Input vol average = 164.55193878173827\n",
      "INFO:root:length of each filter (Z, Y, X) = [17, 17, 17]\n",
      "INFO:root:Filtering ...\n",
      "INFO:root:0/612 completed\n"
     ]
    },
    {
     "name": "stdout",
     "output_type": "stream",
     "text": [
      "torun:c:\\Users\\Luis-work\\Desktop\\Others\\git-FlowDenosing\\FlowDenoising\\scripts\\..\\src\\flowdenoising\\_flowdenoising_subprocessMP.py\n"
     ]
    },
    {
     "name": "stderr",
     "output_type": "stream",
     "text": [
      "INFO:root:0/612 completed\n",
      "INFO:root:8/612 completed\n",
      "INFO:root:20/612 completed\n",
      "INFO:root:30/612 completed\n",
      "INFO:root:43/612 completed\n",
      "INFO:root:55/612 completed\n",
      "INFO:root:68/612 completed\n",
      "INFO:root:80/612 completed\n",
      "INFO:root:92/612 completed\n",
      "INFO:root:100/612 completed\n",
      "INFO:root:130/612 completed\n",
      "INFO:root:163/612 completed\n",
      "INFO:root:198/612 completed\n",
      "INFO:root:232/612 completed\n",
      "INFO:root:268/612 completed\n",
      "INFO:root:303/612 completed\n",
      "INFO:root:341/612 completed\n",
      "INFO:root:356/612 completed\n",
      "INFO:root:385/612 completed\n",
      "INFO:root:414/612 completed\n",
      "INFO:root:444/612 completed\n",
      "INFO:root:473/612 completed\n",
      "INFO:root:503/612 completed\n",
      "INFO:root:534/612 completed\n",
      "INFO:root:565/612 completed\n",
      "INFO:root:595/612 completed\n",
      "INFO:root:Volume filtered in 26.891583700024057 seconds\n"
     ]
    },
    {
     "name": "stdout",
     "output_type": "stream",
     "text": [
      "subprocess result stdout: \n",
      "\n",
      "subprocess result stderr:\n",
      "\n"
     ]
    }
   ],
   "source": [
    "res= filter.runOpticalFlow(data)"
   ]
  },
  {
   "cell_type": "code",
   "execution_count": 45,
   "metadata": {},
   "outputs": [
    {
     "data": {
      "text/plain": [
       "(100, 256, 256)"
      ]
     },
     "execution_count": 45,
     "metadata": {},
     "output_type": "execute_result"
    }
   ],
   "source": [
    "res.shape"
   ]
  },
  {
   "cell_type": "code",
   "execution_count": 46,
   "metadata": {},
   "outputs": [],
   "source": [
    "# #Save file\n",
    "# with mrcfile.new(\"result_RFI_threaded_module.mrc\", overwrite=True) as f:\n",
    "#     f.set_data(res)"
   ]
  },
  {
   "cell_type": "code",
   "execution_count": 47,
   "metadata": {},
   "outputs": [
    {
     "ename": "AssertionError",
     "evalue": "",
     "output_type": "error",
     "traceback": [
      "\u001b[1;31m---------------------------------------------------------------------------\u001b[0m",
      "\u001b[1;31mAssertionError\u001b[0m                            Traceback (most recent call last)",
      "Cell \u001b[1;32mIn[47], line 1\u001b[0m\n\u001b[1;32m----> 1\u001b[0m \u001b[39massert\u001b[39;00m \u001b[39m1\u001b[39m\u001b[39m==\u001b[39m\u001b[39m0\u001b[39m\n",
      "\u001b[1;31mAssertionError\u001b[0m: "
     ]
    }
   ],
   "source": [
    "assert 1==0"
   ]
  },
  {
   "cell_type": "code",
   "execution_count": 48,
   "metadata": {},
   "outputs": [],
   "source": [
    "import napari\n",
    "NV=napari.Viewer()"
   ]
  },
  {
   "cell_type": "code",
   "execution_count": null,
   "metadata": {},
   "outputs": [
    {
     "data": {
      "text/plain": [
       "<Image layer 'res' at 0x1a601de7d00>"
      ]
     },
     "execution_count": 49,
     "metadata": {},
     "output_type": "execute_result"
    },
    {
     "name": "stderr",
     "output_type": "stream",
     "text": [
      "INFO:jgo:First time start-up may be slow. Downloaded dependencies will be cached for shorter start-up times in subsequent executions.\n",
      "INFO:bfio.bfio.BioReader:mvn not found on path c:\\Users\\Luis-work\\miniconda3\\envs\\dev\\lib\\site-packages\\PyQt5\\Qt5\\bin;C:\\Users\\Luis-work\\miniconda3\\envs\\dev\\Lib\\site-packages\\cv2\\../../x64/vc14/bin;c:\\Users\\Luis-work\\miniconda3\\envs\\dev;C:\\Users\\Luis-work\\miniconda3\\envs\\dev;C:\\Users\\Luis-work\\miniconda3\\envs\\dev\\Library\\mingw-w64\\bin;C:\\Users\\Luis-work\\miniconda3\\envs\\dev\\Library\\usr\\bin;C:\\Users\\Luis-work\\miniconda3\\envs\\dev\\Library\\bin;C:\\Users\\Luis-work\\miniconda3\\envs\\dev\\Scripts;C:\\Users\\Luis-work\\miniconda3\\envs\\dev\\bin;C:\\Users\\Luis-work\\miniconda3\\condabin;C:\\Program Files (x86)\\Common Files\\Oracle\\Java\\javapath;C:\\Program Files\\NVIDIA GPU Computing Toolkit\\CUDA\\v11.8\\bin;C:\\Program Files\\NVIDIA GPU Computing Toolkit\\CUDA\\v11.8\\libnvvp;.;C:\\Windows\\system32;C:\\Windows;C:\\Windows\\System32\\Wbem;C:\\Windows\\System32\\WindowsPowerShell\\v1.0;C:\\Windows\\System32\\OpenSSH;C:\\WINDOWS\\system32;C:\\WINDOWS;C:\\WINDOWS\\System32\\Wbem;C:\\WINDOWS\\System32\\WindowsPowerShell\\v1.0;C:\\WINDOWS\\System32\\OpenSSH;C:\\Program Files\\dotnet;C:\\Users\\Luis-work\\AppData\\Local\\Microsoft\\WindowsApps;C:\\Users\\Luis-work\\AppData\\Local\\Programs\\Microsoft VS Code\\bin;C:\\Users\\Luis-work\\AppData\\Local\\GitHubDesktop\\bin;C:\\Users\\Luis-work\\AppData\\Local\\Programs\\Git\\cmd;C:\\Users\\Luis-work\\Downloads\\ffmpeg\\bin;C:\\Users\\Luis-work\\AppData\\Roaming\\Warp\n",
      "INFO:jgo:First time start-up may be slow. Downloaded dependencies will be cached for shorter start-up times in subsequent executions.\n",
      "INFO:jgo:First time start-up may be slow. Downloaded dependencies will be cached for shorter start-up times in subsequent executions.\n",
      "WARNING:napari_aicsimageio.core:AICSImageIO: Unsupported file format.\n",
      "INFO:jgo:First time start-up may be slow. Downloaded dependencies will be cached for shorter start-up times in subsequent executions.\n",
      "INFO:bfio.bfio.BioReader:mvn not found on path c:\\Users\\Luis-work\\miniconda3\\envs\\dev\\lib\\site-packages\\PyQt5\\Qt5\\bin;C:\\Users\\Luis-work\\miniconda3\\envs\\dev\\Lib\\site-packages\\cv2\\../../x64/vc14/bin;c:\\Users\\Luis-work\\miniconda3\\envs\\dev;C:\\Users\\Luis-work\\miniconda3\\envs\\dev;C:\\Users\\Luis-work\\miniconda3\\envs\\dev\\Library\\mingw-w64\\bin;C:\\Users\\Luis-work\\miniconda3\\envs\\dev\\Library\\usr\\bin;C:\\Users\\Luis-work\\miniconda3\\envs\\dev\\Library\\bin;C:\\Users\\Luis-work\\miniconda3\\envs\\dev\\Scripts;C:\\Users\\Luis-work\\miniconda3\\envs\\dev\\bin;C:\\Users\\Luis-work\\miniconda3\\condabin;C:\\Program Files (x86)\\Common Files\\Oracle\\Java\\javapath;C:\\Program Files\\NVIDIA GPU Computing Toolkit\\CUDA\\v11.8\\bin;C:\\Program Files\\NVIDIA GPU Computing Toolkit\\CUDA\\v11.8\\libnvvp;.;C:\\Windows\\system32;C:\\Windows;C:\\Windows\\System32\\Wbem;C:\\Windows\\System32\\WindowsPowerShell\\v1.0;C:\\Windows\\System32\\OpenSSH;C:\\WINDOWS\\system32;C:\\WINDOWS;C:\\WINDOWS\\System32\\Wbem;C:\\WINDOWS\\System32\\WindowsPowerShell\\v1.0;C:\\WINDOWS\\System32\\OpenSSH;C:\\Program Files\\dotnet;C:\\Users\\Luis-work\\AppData\\Local\\Microsoft\\WindowsApps;C:\\Users\\Luis-work\\AppData\\Local\\Programs\\Microsoft VS Code\\bin;C:\\Users\\Luis-work\\AppData\\Local\\GitHubDesktop\\bin;C:\\Users\\Luis-work\\AppData\\Local\\Programs\\Git\\cmd;C:\\Users\\Luis-work\\Downloads\\ffmpeg\\bin;C:\\Users\\Luis-work\\AppData\\Roaming\\Warp\n"
     ]
    }
   ],
   "source": [
    "NV.add_image(data)\n",
    "NV.add_image(res)"
   ]
  },
  {
   "attachments": {},
   "cell_type": "markdown",
   "metadata": {},
   "source": [
    "It appears that it has worked"
   ]
  },
  {
   "cell_type": "code",
   "execution_count": null,
   "metadata": {},
   "outputs": [],
   "source": []
  },
  {
   "cell_type": "code",
   "execution_count": null,
   "metadata": {},
   "outputs": [],
   "source": []
  }
 ],
 "metadata": {
  "kernelspec": {
   "display_name": "dev",
   "language": "python",
   "name": "python3"
  },
  "language_info": {
   "codemirror_mode": {
    "name": "ipython",
    "version": 3
   },
   "file_extension": ".py",
   "mimetype": "text/x-python",
   "name": "python",
   "nbconvert_exporter": "python",
   "pygments_lexer": "ipython3",
   "version": "3.10.11"
  },
  "orig_nbformat": 4
 },
 "nbformat": 4,
 "nbformat_minor": 2
}
