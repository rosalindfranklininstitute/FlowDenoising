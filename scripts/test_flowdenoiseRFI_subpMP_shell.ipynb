{
 "cells": [
  {
   "cell_type": "code",
   "execution_count": 2,
   "metadata": {},
   "outputs": [
    {
     "name": "stdout",
     "output_type": "stream",
     "text": [
      "torun:c:\\Users\\Luis-work\\Desktop\\Others\\git-FlowDenosing\\FlowDenoising\\src\\flowdenoising\\_flowdenoising_subprocessMP.py\n",
      "subprocess result stdout: \n",
      "\n",
      "subprocess result stderr:\n",
      "\n"
     ]
    },
    {
     "name": "stderr",
     "output_type": "stream",
     "text": [
      "[2023-07-05 13:10:01,365] (INFO) Verbosity level = 1\n",
      "[2023-07-05 13:10:01,366] (INFO) reading \"tempdata.mrc\"\n",
      "[2023-07-05 13:10:01,366] (INFO) Input file is MRC\n",
      "[2023-07-05 13:10:01,372] (INFO) read \"tempdata.mrc\" in 0.005977499997243285 seconds\n",
      "[2023-07-05 13:10:01,372] (INFO) args : Namespace(input='tempdata.mrc', output='result_subpMP_shell.mrc', sigma=(2.0, 2.0, 2.0), levels=3, winsize=5, verbosity=1, no_OF=False, number_of_processes=8, recompute_flow=False, timeout=30, procmode='multiproc')\n",
      "[2023-07-05 13:10:01,372] (INFO) Number of processing units: 8\n",
      "[2023-07-05 13:10:01,373] (INFO) length of each filter (Z, Y, X) = [17, 17, 17]\n",
      "[2023-07-05 13:10:01,373] (INFO) shape of the input volume (Z, Y, X) = (100, 256, 256)\n",
      "[2023-07-05 13:10:01,373] (INFO) type of the volume = uint16\n",
      "[2023-07-05 13:10:01,373] (INFO) vol requires 12.5 MB\n",
      "[2023-07-05 13:10:01,374] (INFO) data max = 255\n",
      "[2023-07-05 13:10:01,374] (INFO) data min = 0\n",
      "[2023-07-05 13:10:01,379] (INFO) Input vol average = 163.69832733154297\n",
      "[2023-07-05 13:10:01,380] (INFO) length of each filter (Z, Y, X) = [17, 17, 17]\n",
      "[2023-07-05 13:10:01,384] (INFO) Filtering ...\n",
      "[2023-07-05 13:10:01,384] (INFO) 0/612 completed\n",
      "[2023-07-05 13:10:02,397] (INFO) 0/612 completed\n",
      "[2023-07-05 13:10:03,418] (INFO) 16/612 completed\n",
      "[2023-07-05 13:10:04,438] (INFO) 32/612 completed\n",
      "[2023-07-05 13:10:05,457] (INFO) 48/612 completed\n",
      "[2023-07-05 13:10:06,475] (INFO) 64/612 completed\n",
      "[2023-07-05 13:10:07,486] (INFO) 80/612 completed\n",
      "[2023-07-05 13:10:08,499] (INFO) 97/612 completed\n",
      "[2023-07-05 13:10:09,506] (INFO) 100/612 completed\n",
      "[2023-07-05 13:10:10,537] (INFO) 140/612 completed\n",
      "[2023-07-05 13:10:11,552] (INFO) 188/612 completed\n",
      "[2023-07-05 13:10:12,576] (INFO) 236/612 completed\n",
      "[2023-07-05 13:10:13,587] (INFO) 281/612 completed\n",
      "[2023-07-05 13:10:14,604] (INFO) 329/612 completed\n",
      "[2023-07-05 13:10:15,616] (INFO) 353/612 completed\n",
      "[2023-07-05 13:10:16,625] (INFO) 384/612 completed\n",
      "[2023-07-05 13:10:17,647] (INFO) 424/612 completed\n",
      "[2023-07-05 13:10:18,665] (INFO) 464/612 completed\n",
      "[2023-07-05 13:10:19,681] (INFO) 504/612 completed\n",
      "[2023-07-05 13:10:20,705] (INFO) 544/612 completed\n",
      "[2023-07-05 13:10:21,733] (INFO) 585/612 completed\n",
      "[2023-07-05 13:10:22,413] (INFO) Volume filtered in 21.028616099996725 seconds\n",
      "[2023-07-05 13:10:22,415] (INFO) result_subpMP_shell.mrc type = uint16\n",
      "[2023-07-05 13:10:22,416] (INFO) result_subpMP_shell.mrc max = 234\n",
      "[2023-07-05 13:10:22,417] (INFO) result_subpMP_shell.mrc min = 41\n",
      "[2023-07-05 13:10:22,422] (INFO) result_subpMP_shell.mrc average = 161.62418182373048\n",
      "[2023-07-05 13:10:22,422] (INFO) writting \"result_subpMP_shell.mrc\"\n",
      "[2023-07-05 13:10:22,422] (INFO) Writting MRC file\n",
      "[2023-07-05 13:10:22,453] (INFO) written \"result_subpMP_shell.mrc\" in 0.030800700013060123 seconds\n"
     ]
    }
   ],
   "source": [
    "!python ..\\src\\flowdenoising\\flowdenoising_mod.py -i \"tempdata.mrc\" -o \"result_subpMP_shell.mrc\" -v 1 --procmode multiproc\n",
    "#--procmode\", choices=['threaded', 'sequential','multiproc']"
   ]
  },
  {
   "attachments": {},
   "cell_type": "markdown",
   "metadata": {},
   "source": [
    "This appears to be working ok"
   ]
  },
  {
   "cell_type": "code",
   "execution_count": null,
   "metadata": {},
   "outputs": [],
   "source": []
  }
 ],
 "metadata": {
  "kernelspec": {
   "display_name": "dev",
   "language": "python",
   "name": "python3"
  },
  "language_info": {
   "codemirror_mode": {
    "name": "ipython",
    "version": 3
   },
   "file_extension": ".py",
   "mimetype": "text/x-python",
   "name": "python",
   "nbconvert_exporter": "python",
   "pygments_lexer": "ipython3",
   "version": "3.10.11"
  },
  "orig_nbformat": 4
 },
 "nbformat": 4,
 "nbformat_minor": 2
}
